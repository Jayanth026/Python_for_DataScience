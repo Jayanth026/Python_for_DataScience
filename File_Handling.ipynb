{
  "nbformat": 4,
  "nbformat_minor": 0,
  "metadata": {
    "colab": {
      "provenance": []
    },
    "kernelspec": {
      "name": "python3",
      "display_name": "Python 3"
    },
    "language_info": {
      "name": "python"
    }
  },
  "cells": [
    {
      "cell_type": "markdown",
      "source": [
        "`In file handling we have only Many Modes In that best 3 Modes are `\n",
        "\n",
        "- `w -> write the data`\n",
        "- `r -> read the data `\n",
        "- `a -> add the data `"
      ],
      "metadata": {
        "id": "N-tCVLMbOBPa"
      }
    },
    {
      "cell_type": "markdown",
      "source": [
        "**w-Mode**\n",
        "\n",
        "- `step_1 -> If there is not file in the Location Mode w will create the file and user can write the data into the file `\n",
        "\n",
        "- `step_2 -> If there is a file and file is empty Mode w will write the data into the file `\n",
        "\n",
        "- `step_3 -> if there is already a file and also data is there in the file then if we write new data what happens -> it will override `"
      ],
      "metadata": {
        "id": "hlXE0uA7OgPR"
      }
    },
    {
      "cell_type": "code",
      "execution_count": null,
      "metadata": {
        "id": "k3vAtB2hMIV2"
      },
      "outputs": [],
      "source": [
        "# step_1\n",
        "\n",
        "a = open('sharuk.txt','w') # w will create file and open keyword will open the file\n",
        "\n",
        "a.write('I am from USA') # since file is opened I am writing the data into the file\n",
        "\n",
        "a.close()  # closing the file after writing the data"
      ]
    },
    {
      "cell_type": "code",
      "source": [
        "# step_2\n",
        "\n",
        "\n",
        "a = open('kiran.txt','w') # w will write the data into the file\n",
        "\n",
        "a.write('I am from USA') # since file is opened I am writing the data into the file\n",
        "\n",
        "a.close()  # closing the file after writing the data"
      ],
      "metadata": {
        "id": "Ohtl0nl2P9Lc"
      },
      "execution_count": null,
      "outputs": []
    },
    {
      "cell_type": "code",
      "source": [
        "# step_3\n",
        "\n",
        "\n",
        "a = open('john.txt','w') # w will write the data into the file\n",
        "\n",
        "a.write('I am from USA') # since file is opened I am writing the data into the file\n",
        "\n",
        "a.close()  # closing the file after writing the data"
      ],
      "metadata": {
        "id": "oKazNKC0QtSp"
      },
      "execution_count": null,
      "outputs": []
    },
    {
      "cell_type": "markdown",
      "source": [
        "**r-> Mode**"
      ],
      "metadata": {
        "id": "hSkI6_ufSIrA"
      }
    },
    {
      "cell_type": "code",
      "source": [
        "a = open('sharuk.txt','r')\n",
        "\n",
        "print(a.read())\n",
        "\n",
        "a.close()"
      ],
      "metadata": {
        "colab": {
          "base_uri": "https://localhost:8080/",
          "height": 234
        },
        "id": "SdJurOMRR8-b",
        "outputId": "0c02b7a7-d215-454d-9559-b551aafc65af"
      },
      "execution_count": null,
      "outputs": [
        {
          "output_type": "error",
          "ename": "FileNotFoundError",
          "evalue": "[Errno 2] No such file or directory: 'sharuk.txt'",
          "traceback": [
            "\u001b[0;31m---------------------------------------------------------------------------\u001b[0m",
            "\u001b[0;31mFileNotFoundError\u001b[0m                         Traceback (most recent call last)",
            "\u001b[0;32m<ipython-input-4-f818b0d99924>\u001b[0m in \u001b[0;36m<cell line: 1>\u001b[0;34m()\u001b[0m\n\u001b[0;32m----> 1\u001b[0;31m \u001b[0ma\u001b[0m \u001b[0;34m=\u001b[0m \u001b[0mopen\u001b[0m\u001b[0;34m(\u001b[0m\u001b[0;34m'sharuk.txt'\u001b[0m\u001b[0;34m,\u001b[0m\u001b[0;34m'r'\u001b[0m\u001b[0;34m)\u001b[0m\u001b[0;34m\u001b[0m\u001b[0;34m\u001b[0m\u001b[0m\n\u001b[0m\u001b[1;32m      2\u001b[0m \u001b[0;34m\u001b[0m\u001b[0m\n\u001b[1;32m      3\u001b[0m \u001b[0mprint\u001b[0m\u001b[0;34m(\u001b[0m\u001b[0ma\u001b[0m\u001b[0;34m.\u001b[0m\u001b[0mread\u001b[0m\u001b[0;34m(\u001b[0m\u001b[0;34m)\u001b[0m\u001b[0;34m)\u001b[0m\u001b[0;34m\u001b[0m\u001b[0;34m\u001b[0m\u001b[0m\n\u001b[1;32m      4\u001b[0m \u001b[0;34m\u001b[0m\u001b[0m\n\u001b[1;32m      5\u001b[0m \u001b[0ma\u001b[0m\u001b[0;34m.\u001b[0m\u001b[0mclose\u001b[0m\u001b[0;34m(\u001b[0m\u001b[0;34m)\u001b[0m\u001b[0;34m\u001b[0m\u001b[0;34m\u001b[0m\u001b[0m\n",
            "\u001b[0;31mFileNotFoundError\u001b[0m: [Errno 2] No such file or directory: 'sharuk.txt'"
          ]
        }
      ]
    },
    {
      "cell_type": "code",
      "source": [
        "a = open('john.txt','r')\n",
        "\n",
        "print(a.read())\n",
        "\n",
        "a.close()"
      ],
      "metadata": {
        "colab": {
          "base_uri": "https://localhost:8080/"
        },
        "id": "f88CzGNqS0oe",
        "outputId": "647e922e-d256-4e79-afab-2152666d17c2"
      },
      "execution_count": null,
      "outputs": [
        {
          "output_type": "stream",
          "name": "stdout",
          "text": [
            "Python is a widely used programming language that offers several unique features and advantages compared to languages like Java and C++. Our Python tutorial thoroughly explains Python basics and advanced concepts, starting with installation, conditional statements, loops, built-in data structures, Object-Oriented Programming, Generators, Exception Handling, Python RegEx, and many other concepts. This tutorial is designed for beginners and working professionals.\n",
            "\n",
            "In the late 1980s, Guido van Rossum dreamed of developing Python. The first version of Python 0.9.0 was released in 1991. Since its release, Python started gaining popularity. According to reports, Python is now the most popular programming language among developers because of its high demands in the tech realm.\n",
            "What is Python\n",
            "\n",
            "Python is a general-purpose, dynamically typed, high-level, compiled and interpreted, garbage-collected, and purely object-oriented programming language that supports procedural, object-oriented, and functional programming.\n",
            "Features of Python:\n",
            "ADVERTISEMENT\n",
            "ADVERTISEMENT\n",
            "\n",
            "    Easy to use and Read - Python's syntax is clear and easy to read, making it an ideal language for both beginners and experienced programmers. This simplicity can lead to faster development and reduce the chances of errors.\n",
            "    Dynamically Typed - The data types of variables are determined during run-time. We do not need to specify the data type of a variable during writing codes.\n",
            "    High-level - High-level language means human readable code.\n",
            "    Compiled and Interpreted - Python code first gets compiled into bytecode, and then interpreted line by line. When we download the Python in our system form org we download the default implement of Python known as CPython. CPython is considered to be Complied and Interpreted both.\n",
            "    Garbage Collected - Memory allocation and de-allocation are automatically managed. Programmers do not specifically need to manage the memory.\n",
            "    Purely Object-Oriented - It refers to everything as an object, including numbers and strings.\n",
            "    Cross-platform Compatibility - Python can be easily installed on Windows, macOS, and various Linux distributions, allowing developers to create software that runs across different operating systems.\n",
            "    Rich Standard Library - Python comes with several standard libraries that provide ready-to-use modules and functions for various tasks, ranging from web development and data manipulation to machine learning and networking.\n",
            "    Open Source - Python is an open-source, cost-free programming language. It is utilized in several sectors and disciplines as a result.\n",
            "\n",
            "Python has many web-based assets, open-source projects, and a vibrant community. Learning the language, working together on projects, and contributing to the Python ecosystem are all made very easy for developers.\n"
          ]
        }
      ]
    },
    {
      "cell_type": "code",
      "source": [
        "a = open('john.txt','r')\n",
        "\n",
        "print(a.readline())\n",
        "\n",
        "a.close()"
      ],
      "metadata": {
        "colab": {
          "base_uri": "https://localhost:8080/"
        },
        "id": "D6KMPPJvTbhN",
        "outputId": "51227741-8f5b-41c1-dd1b-d94a56007bef"
      },
      "execution_count": null,
      "outputs": [
        {
          "output_type": "stream",
          "name": "stdout",
          "text": [
            "Python is a widely used programming language that offers several unique features and advantages compared to languages like Java and C++. Our Python tutorial thoroughly explains Python basics and advanced concepts, starting with installation, conditional statements, loops, built-in data structures, Object-Oriented Programming, Generators, Exception Handling, Python RegEx, and many other concepts. This tutorial is designed for beginners and working professionals.\n",
            "\n"
          ]
        }
      ]
    },
    {
      "cell_type": "code",
      "source": [
        "a = open('john.txt','r')\n",
        "\n",
        "print(a.readlines())\n",
        "\n",
        "a.close()"
      ],
      "metadata": {
        "colab": {
          "base_uri": "https://localhost:8080/"
        },
        "id": "qL9s1wmKTka1",
        "outputId": "8031fd5f-fb6b-4e1e-8f7e-dcacc8339688"
      },
      "execution_count": null,
      "outputs": [
        {
          "output_type": "stream",
          "name": "stdout",
          "text": [
            "['Python is a widely used programming language that offers several unique features and advantages compared to languages like Java and C++. Our Python tutorial thoroughly explains Python basics and advanced concepts, starting with installation, conditional statements, loops, built-in data structures, Object-Oriented Programming, Generators, Exception Handling, Python RegEx, and many other concepts. This tutorial is designed for beginners and working professionals.\\n', '\\n', 'In the late 1980s, Guido van Rossum dreamed of developing Python. The first version of Python 0.9.0 was released in 1991. Since its release, Python started gaining popularity. According to reports, Python is now the most popular programming language among developers because of its high demands in the tech realm.\\n', 'What is Python\\n', '\\n', 'Python is a general-purpose, dynamically typed, high-level, compiled and interpreted, garbage-collected, and purely object-oriented programming language that supports procedural, object-oriented, and functional programming.\\n', 'Features of Python:\\n', 'ADVERTISEMENT\\n', 'ADVERTISEMENT\\n', '\\n', \"    Easy to use and Read - Python's syntax is clear and easy to read, making it an ideal language for both beginners and experienced programmers. This simplicity can lead to faster development and reduce the chances of errors.\\n\", '    Dynamically Typed - The data types of variables are determined during run-time. We do not need to specify the data type of a variable during writing codes.\\n', '    High-level - High-level language means human readable code.\\n', '    Compiled and Interpreted - Python code first gets compiled into bytecode, and then interpreted line by line. When we download the Python in our system form org we download the default implement of Python known as CPython. CPython is considered to be Complied and Interpreted both.\\n', '    Garbage Collected - Memory allocation and de-allocation are automatically managed. Programmers do not specifically need to manage the memory.\\n', '    Purely Object-Oriented - It refers to everything as an object, including numbers and strings.\\n', '    Cross-platform Compatibility - Python can be easily installed on Windows, macOS, and various Linux distributions, allowing developers to create software that runs across different operating systems.\\n', '    Rich Standard Library - Python comes with several standard libraries that provide ready-to-use modules and functions for various tasks, ranging from web development and data manipulation to machine learning and networking.\\n', '    Open Source - Python is an open-source, cost-free programming language. It is utilized in several sectors and disciplines as a result.\\n', '\\n', 'Python has many web-based assets, open-source projects, and a vibrant community. Learning the language, working together on projects, and contributing to the Python ecosystem are all made very easy for developers.']\n"
          ]
        }
      ]
    },
    {
      "cell_type": "markdown",
      "source": [
        "**a->Mode**"
      ],
      "metadata": {
        "id": "RrZ8nWfWT53M"
      }
    },
    {
      "cell_type": "code",
      "source": [
        "a = open('sharuk.txt','a')\n",
        "\n",
        "a.write('I am from USA')\n",
        "\n",
        "a.close()"
      ],
      "metadata": {
        "id": "wxWrcVLATut6"
      },
      "execution_count": null,
      "outputs": []
    },
    {
      "cell_type": "code",
      "source": [
        "a = open('peter.txt','a')\n",
        "\n",
        "a.write('I am from USA')\n",
        "\n",
        "a.close()"
      ],
      "metadata": {
        "id": "l4Yc-2o4USuf"
      },
      "execution_count": null,
      "outputs": []
    },
    {
      "cell_type": "code",
      "source": [
        "a = open('john.txt','a')\n",
        "\n",
        "a.write(' I am from USA')\n",
        "\n",
        "a.close()"
      ],
      "metadata": {
        "id": "MLdztyVBUckc"
      },
      "execution_count": null,
      "outputs": []
    },
    {
      "cell_type": "code",
      "source": [
        "len('I am from USA')"
      ],
      "metadata": {
        "colab": {
          "base_uri": "https://localhost:8080/"
        },
        "id": "uhWj6WmDVh3V",
        "outputId": "b685890e-46ed-4c2e-fe43-11ebba5c8a56"
      },
      "execution_count": null,
      "outputs": [
        {
          "output_type": "execute_result",
          "data": {
            "text/plain": [
              "13"
            ]
          },
          "metadata": {},
          "execution_count": 12
        }
      ]
    },
    {
      "cell_type": "code",
      "source": [
        "# why to close the file\n",
        "\n",
        "a = open('kiran.txt','w') # w will create file and open keyword will open the file\n",
        "\n",
        "a.write('I am from USA') # since file is opened I am writing the data into the file\n"
      ],
      "metadata": {
        "colab": {
          "base_uri": "https://localhost:8080/"
        },
        "id": "WTLnTi5rUrU8",
        "outputId": "910b4eab-a34e-4cfa-a2d6-19609697869e"
      },
      "execution_count": null,
      "outputs": [
        {
          "output_type": "execute_result",
          "data": {
            "text/plain": [
              "13"
            ]
          },
          "metadata": {},
          "execution_count": 14
        }
      ]
    },
    {
      "cell_type": "markdown",
      "source": [
        "with"
      ],
      "metadata": {
        "id": "-Ur9P4FyWwd1"
      }
    },
    {
      "cell_type": "code",
      "source": [
        "with open('kiran.txt','w') as e:\n",
        "  e.write('I am from USA')"
      ],
      "metadata": {
        "id": "8XuWxkaCVoAp"
      },
      "execution_count": null,
      "outputs": []
    },
    {
      "cell_type": "code",
      "source": [
        "with open('kiran.txt','r') as a:\n",
        "  print(a.read())"
      ],
      "metadata": {
        "colab": {
          "base_uri": "https://localhost:8080/"
        },
        "id": "0umIO8ckXRg7",
        "outputId": "e0e19ee5-5bc6-487c-d61c-faf08c743e5a"
      },
      "execution_count": null,
      "outputs": [
        {
          "output_type": "stream",
          "name": "stdout",
          "text": [
            "I am from USA\n"
          ]
        }
      ]
    },
    {
      "cell_type": "code",
      "source": [
        "import time\n"
      ],
      "metadata": {
        "id": "U9uupetAXk8J"
      },
      "execution_count": null,
      "outputs": []
    },
    {
      "cell_type": "code",
      "source": [
        "time.time()"
      ],
      "metadata": {
        "colab": {
          "base_uri": "https://localhost:8080/"
        },
        "id": "cDbTLGy7ZKOG",
        "outputId": "d1e96de2-379c-4425-a862-613af4d93b46"
      },
      "execution_count": null,
      "outputs": [
        {
          "output_type": "execute_result",
          "data": {
            "text/plain": [
              "1719990054.323998"
            ]
          },
          "metadata": {},
          "execution_count": 18
        }
      ]
    },
    {
      "cell_type": "code",
      "source": [
        "starting_time = time.time()\n",
        "\n",
        "\n",
        "for i in range(11,51):\n",
        "  time.sleep(0.5)\n",
        "  if i %  2 == 0:\n",
        "    print(f\"Even : {i}\")\n",
        "\n",
        "\n",
        "print(f'total time to execute : {time.time() - starting_time}')"
      ],
      "metadata": {
        "colab": {
          "base_uri": "https://localhost:8080/"
        },
        "id": "w2S5boegZWjo",
        "outputId": "bec34503-9716-4db8-9aae-9949aebfade0"
      },
      "execution_count": null,
      "outputs": [
        {
          "output_type": "stream",
          "name": "stdout",
          "text": [
            "Even : 12\n",
            "Even : 14\n",
            "Even : 16\n",
            "Even : 18\n",
            "Even : 20\n",
            "Even : 22\n",
            "Even : 24\n",
            "Even : 26\n",
            "Even : 28\n",
            "Even : 30\n",
            "Even : 32\n",
            "Even : 34\n",
            "Even : 36\n",
            "Even : 38\n",
            "Even : 40\n",
            "Even : 42\n",
            "Even : 44\n",
            "Even : 46\n",
            "Even : 48\n",
            "Even : 50\n",
            "total time to execute : 20.02555251121521\n"
          ]
        }
      ]
    },
    {
      "cell_type": "code",
      "source": [
        "def fun():\n",
        "  for i in range(11,51):\n",
        "    time.sleep(0.5)\n",
        "    if i %  2 == 0:\n",
        "      print(f\"Even : {i}\")\n",
        "\n",
        "\n",
        "\n",
        "\n",
        "\n",
        "starting_time = time.time()\n",
        "fun() # calling\n",
        "print(f'total time to execute : {time.time() - starting_time}')"
      ],
      "metadata": {
        "colab": {
          "base_uri": "https://localhost:8080/"
        },
        "id": "UibYrbBkZrm7",
        "outputId": "1e3da71e-c5eb-4d25-c160-0e539c38e921"
      },
      "execution_count": null,
      "outputs": [
        {
          "output_type": "stream",
          "name": "stdout",
          "text": [
            "Even : 12\n",
            "Even : 14\n",
            "Even : 16\n",
            "Even : 18\n",
            "Even : 20\n",
            "Even : 22\n",
            "Even : 24\n",
            "Even : 26\n",
            "Even : 28\n",
            "Even : 30\n",
            "Even : 32\n",
            "Even : 34\n",
            "Even : 36\n",
            "Even : 38\n",
            "Even : 40\n",
            "Even : 42\n",
            "Even : 44\n",
            "Even : 46\n",
            "Even : 48\n",
            "Even : 50\n",
            "total time to execute : 20.024953365325928\n"
          ]
        }
      ]
    },
    {
      "cell_type": "code",
      "source": [
        "20.02555251121521 > 20.024953365325928"
      ],
      "metadata": {
        "colab": {
          "base_uri": "https://localhost:8080/"
        },
        "id": "n7LQeadRazmf",
        "outputId": "7f31caef-8244-4d84-dfbf-33f2a0511f40"
      },
      "execution_count": null,
      "outputs": [
        {
          "output_type": "execute_result",
          "data": {
            "text/plain": [
              "True"
            ]
          },
          "metadata": {},
          "execution_count": 23
        }
      ]
    },
    {
      "cell_type": "code",
      "source": [
        "a = open('sharuk.txt','r')\n",
        "print(a.read)\n",
        "a.close()"
      ],
      "metadata": {
        "id": "XdBVZf2Ma-Nw",
        "colab": {
          "base_uri": "https://localhost:8080/"
        },
        "outputId": "eb66b6a3-ea65-4690-af64-06a3e00e352e"
      },
      "execution_count": null,
      "outputs": [
        {
          "output_type": "stream",
          "name": "stdout",
          "text": [
            "<built-in method read of _io.TextIOWrapper object at 0x7cec9e5b31d0>\n"
          ]
        }
      ]
    },
    {
      "cell_type": "code",
      "source": [],
      "metadata": {
        "id": "9BE66JwDgi3A"
      },
      "execution_count": null,
      "outputs": []
    }
  ]
}