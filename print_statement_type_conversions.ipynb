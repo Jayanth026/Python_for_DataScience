{
 "cells": [
  {
   "cell_type": "code",
   "execution_count": 1,
   "id": "c464d726",
   "metadata": {},
   "outputs": [
    {
     "name": "stdout",
     "output_type": "stream",
     "text": [
      "python programming\n"
     ]
    }
   ],
   "source": [
    "print('python programming') #printing a string"
   ]
  },
  {
   "cell_type": "code",
   "execution_count": 2,
   "id": "68324313",
   "metadata": {},
   "outputs": [
    {
     "name": "stdout",
     "output_type": "stream",
     "text": [
      "55.5\n"
     ]
    }
   ],
   "source": [
    "print(22.9) #printing a float"
   ]
  },
  {
   "cell_type": "code",
   "execution_count": 3,
   "id": "14daeeef",
   "metadata": {},
   "outputs": [
    {
     "name": "stdout",
     "output_type": "stream",
     "text": [
      "python123\n"
     ]
    }
   ],
   "source": [
    "print('python123')"
   ]
  },
  {
   "cell_type": "code",
   "execution_count": 5,
   "id": "8ab4f17f",
   "metadata": {},
   "outputs": [
    {
     "name": "stdout",
     "output_type": "stream",
     "text": [
      "my name is Jayanth\n"
     ]
    }
   ],
   "source": [
    "print('my name is Jayanth')"
   ]
  },
  {
   "cell_type": "markdown",
   "id": "1bdec5c4",
   "metadata": {},
   "source": [
    "Relation between print and variables\n",
    "    1.using comma(,) we can add one data type inside     the print with other data type and also comma         will give one tab space."
   ]
  },
  {
   "cell_type": "code",
   "execution_count": 11,
   "id": "5126a0d2",
   "metadata": {},
   "outputs": [
    {
     "name": "stdout",
     "output_type": "stream",
     "text": [
      "my name is jayanth\n"
     ]
    }
   ],
   "source": [
    "a='jayanth'\n",
    "print('my name is',a)"
   ]
  },
  {
   "cell_type": "markdown",
   "id": "9059f88b",
   "metadata": {},
   "source": [
    "Lets discuss 4 types of print conditions"
   ]
  },
  {
   "cell_type": "code",
   "execution_count": 16,
   "id": "15f48742",
   "metadata": {},
   "outputs": [
    {
     "name": "stdout",
     "output_type": "stream",
     "text": [
      "Im at the age of 26 staying in US and earning 90.2 thousand dollors per year\n"
     ]
    }
   ],
   "source": [
    "a=26\n",
    "b='USA'\n",
    "c=90.2\n",
    "print('Im at the age of',a,'staying in',b,'and earning',c,'thousand dollors per year')"
   ]
  },
  {
   "cell_type": "markdown",
   "id": "ab613bff",
   "metadata": {},
   "source": [
    "Before going to learn 2nd Technique first have a look into type conversions concept"
   ]
  },
  {
   "cell_type": "code",
   "execution_count": 19,
   "id": "0923ce1b",
   "metadata": {},
   "outputs": [
    {
     "name": "stdout",
     "output_type": "stream",
     "text": [
      "12\n",
      "<class 'int'>\n",
      "12.0\n",
      "<class 'int'>\n"
     ]
    }
   ],
   "source": [
    "# int -> float\n",
    "a=12\n",
    "print(a)\n",
    "print(type(a))\n",
    "\n",
    "b=float(a) # actual conversion is going on\n",
    "print(b)\n",
    "print(type(a))"
   ]
  },
  {
   "cell_type": "code",
   "execution_count": 20,
   "id": "ebbdc41c",
   "metadata": {},
   "outputs": [
    {
     "name": "stdout",
     "output_type": "stream",
     "text": [
      "12\n",
      "<class 'int'>\n",
      "12\n",
      "<class 'str'>\n"
     ]
    }
   ],
   "source": [
    "# int -> str\n",
    "a=12\n",
    "print(a)\n",
    "print(type(a))\n",
    "\n",
    "b = str(a) # actual conversion is going on\n",
    "print(b)\n",
    "print(type(b))"
   ]
  },
  {
   "cell_type": "code",
   "execution_count": 21,
   "id": "95f9df5b",
   "metadata": {},
   "outputs": [
    {
     "name": "stdout",
     "output_type": "stream",
     "text": [
      "25.5555\n",
      "<class 'float'>\n",
      "25\n",
      "<class 'int'>\n"
     ]
    }
   ],
   "source": [
    "# float -> int\n",
    "a=25.5555\n",
    "print(a)\n",
    "print(type(a))\n",
    "\n",
    "b=int(a) # actual conversion is going on\n",
    "print(b)\n",
    "print(type(b))"
   ]
  },
  {
   "cell_type": "code",
   "execution_count": 23,
   "id": "39c1a402",
   "metadata": {},
   "outputs": [
    {
     "name": "stdout",
     "output_type": "stream",
     "text": [
      "55.55\n",
      "<class 'float'>\n",
      "55.55\n",
      "<class 'str'>\n"
     ]
    }
   ],
   "source": [
    "# float -> str\n",
    "a=55.55\n",
    "print(a)\n",
    "print(type(a))\n",
    "\n",
    "b=str(a) # actual conversion is going on\n",
    "print(b)\n",
    "print(type(b))"
   ]
  },
  {
   "cell_type": "code",
   "execution_count": 24,
   "id": "5691e35b",
   "metadata": {},
   "outputs": [
    {
     "name": "stdout",
     "output_type": "stream",
     "text": [
      "123\n",
      "<class 'str'>\n",
      "123\n",
      "<class 'int'>\n"
     ]
    }
   ],
   "source": [
    "# str -> int\n",
    "\n",
    "a='123'\n",
    "print(a)\n",
    "print(type(a))\n",
    "\n",
    "b = int(a)\n",
    "print(b)\n",
    "print(type(b))"
   ]
  },
  {
   "cell_type": "code",
   "execution_count": 28,
   "id": "bea01d0d",
   "metadata": {},
   "outputs": [
    {
     "name": "stdout",
     "output_type": "stream",
     "text": [
      "jayanth.26\n",
      "<class 'str'>\n"
     ]
    },
    {
     "ename": "ValueError",
     "evalue": "could not convert string to float: 'jayanth.26'",
     "output_type": "error",
     "traceback": [
      "\u001b[1;31m---------------------------------------------------------------------------\u001b[0m",
      "\u001b[1;31mValueError\u001b[0m                                Traceback (most recent call last)",
      "\u001b[1;32m~\\AppData\\Local\\Temp/ipykernel_12568/3524524444.py\u001b[0m in \u001b[0;36m<module>\u001b[1;34m\u001b[0m\n\u001b[0;32m      4\u001b[0m \u001b[0mprint\u001b[0m\u001b[1;33m(\u001b[0m\u001b[0mtype\u001b[0m\u001b[1;33m(\u001b[0m\u001b[0ma\u001b[0m\u001b[1;33m)\u001b[0m\u001b[1;33m)\u001b[0m\u001b[1;33m\u001b[0m\u001b[1;33m\u001b[0m\u001b[0m\n\u001b[0;32m      5\u001b[0m \u001b[1;33m\u001b[0m\u001b[0m\n\u001b[1;32m----> 6\u001b[1;33m \u001b[0mb\u001b[0m \u001b[1;33m=\u001b[0m \u001b[0mfloat\u001b[0m\u001b[1;33m(\u001b[0m\u001b[0ma\u001b[0m\u001b[1;33m)\u001b[0m\u001b[1;33m\u001b[0m\u001b[1;33m\u001b[0m\u001b[0m\n\u001b[0m\u001b[0;32m      7\u001b[0m \u001b[0mprint\u001b[0m\u001b[1;33m(\u001b[0m\u001b[0mb\u001b[0m\u001b[1;33m)\u001b[0m\u001b[1;33m\u001b[0m\u001b[1;33m\u001b[0m\u001b[0m\n\u001b[0;32m      8\u001b[0m \u001b[0mprint\u001b[0m\u001b[1;33m(\u001b[0m\u001b[0mtype\u001b[0m\u001b[1;33m(\u001b[0m\u001b[0mb\u001b[0m\u001b[1;33m)\u001b[0m\u001b[1;33m)\u001b[0m\u001b[1;33m\u001b[0m\u001b[1;33m\u001b[0m\u001b[0m\n",
      "\u001b[1;31mValueError\u001b[0m: could not convert string to float: 'jayanth.26'"
     ]
    }
   ],
   "source": [
    "# str -> float and str -> int are not possible if you give a string\n",
    "a='jayanth.26'\n",
    "print(a)\n",
    "print(type(a))\n",
    "\n",
    "b = float(a)\n",
    "print(b)\n",
    "print(type(b))"
   ]
  },
  {
   "cell_type": "code",
   "execution_count": 29,
   "id": "49c8ad72",
   "metadata": {},
   "outputs": [
    {
     "name": "stdout",
     "output_type": "stream",
     "text": [
      "69.69\n",
      "<class 'str'>\n",
      "69.69\n",
      "<class 'float'>\n"
     ]
    }
   ],
   "source": [
    "# str -> float\n",
    "\n",
    "a='69.69'\n",
    "print(a)\n",
    "print(type(a))\n",
    "\n",
    "b = float(a)\n",
    "print(b)\n",
    "print(type(b))"
   ]
  },
  {
   "cell_type": "code",
   "execution_count": 30,
   "id": "b11e934a",
   "metadata": {},
   "outputs": [
    {
     "name": "stdout",
     "output_type": "stream",
     "text": [
      "I am at the age of 26 staying in USA and earning 90.2 thousand dollors per year\n"
     ]
    }
   ],
   "source": [
    "a=26\n",
    "b='USA'\n",
    "c=90.2\n",
    "print('I am at the age of '+str(a)+' staying in '+b+' and earning '+str(c)+' thousand dollors per year')"
   ]
  },
  {
   "cell_type": "markdown",
   "id": "6413824e",
   "metadata": {},
   "source": [
    "2. using + -> we can add str data type along with given varibales but make sure that variables are also string -> and + operator wont give one tab space"
   ]
  },
  {
   "cell_type": "code",
   "execution_count": 31,
   "id": "bc5f2e89",
   "metadata": {},
   "outputs": [
    {
     "name": "stdout",
     "output_type": "stream",
     "text": [
      "I am at the age of 26 staying in USA and earning 90.2 thousand dollors per year\n"
     ]
    }
   ],
   "source": [
    "a = 26\n",
    "b = 'USA'\n",
    "c = 90.2\n",
    "\n",
    "print('I am at the age of '+str(a)+' staying in '+b+' and earning '+str(c)+' thousand dollors per year')"
   ]
  },
  {
   "cell_type": "markdown",
   "id": "7ca8b688",
   "metadata": {},
   "source": [
    "3. using Identifiers -> %d -> int and %f -> float and %s -> str"
   ]
  },
  {
   "cell_type": "code",
   "execution_count": 32,
   "id": "de491ad8",
   "metadata": {},
   "outputs": [
    {
     "name": "stdout",
     "output_type": "stream",
     "text": [
      "I am at the age of 26 staying in USA and earning 90.200000 thousand dollors per year\n"
     ]
    }
   ],
   "source": [
    "a = 26\n",
    "b = 'USA'\n",
    "c = 90.2\n",
    "\n",
    "print('I am at the age of %d staying in %s and earning %f thousand dollors per year'%(a,b,c))"
   ]
  },
  {
   "cell_type": "markdown",
   "id": "2d1452cd",
   "metadata": {},
   "source": [
    "4. using {} and f function"
   ]
  },
  {
   "cell_type": "code",
   "execution_count": 33,
   "id": "76d827db",
   "metadata": {},
   "outputs": [
    {
     "name": "stdout",
     "output_type": "stream",
     "text": [
      "I am at the age of 26 staying in USA and earning 90.2 thousand dollors per year\n"
     ]
    }
   ],
   "source": [
    "a = 26\n",
    "b = 'USA'\n",
    "c = 90.2\n",
    "\n",
    "print(f'I am at the age of {a} staying in {b} and earning {c} thousand dollors per year')"
   ]
  },
  {
   "cell_type": "code",
   "execution_count": null,
   "id": "55172363",
   "metadata": {},
   "outputs": [],
   "source": []
  }
 ],
 "metadata": {
  "kernelspec": {
   "display_name": "Python 3 (ipykernel)",
   "language": "python",
   "name": "python3"
  },
  "language_info": {
   "codemirror_mode": {
    "name": "ipython",
    "version": 3
   },
   "file_extension": ".py",
   "mimetype": "text/x-python",
   "name": "python",
   "nbconvert_exporter": "python",
   "pygments_lexer": "ipython3",
   "version": "3.9.7"
  }
 },
 "nbformat": 4,
 "nbformat_minor": 5
}
