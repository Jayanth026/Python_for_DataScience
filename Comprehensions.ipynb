{
  "nbformat": 4,
  "nbformat_minor": 0,
  "metadata": {
    "colab": {
      "provenance": []
    },
    "kernelspec": {
      "name": "python3",
      "display_name": "Python 3"
    },
    "language_info": {
      "name": "python"
    }
  },
  "cells": [
    {
      "cell_type": "markdown",
      "source": [
        "**They are 2 types of Comprehensions**\n",
        "\n",
        "- `List Comprehension `\n",
        "- `Dictionary Comprehension `\n",
        "\n"
      ],
      "metadata": {
        "id": "Vet4EkU6U0lq"
      }
    },
    {
      "cell_type": "markdown",
      "source": [
        "**List Comprehension**"
      ],
      "metadata": {
        "id": "3gz_RctVVIxD"
      }
    },
    {
      "cell_type": "code",
      "execution_count": null,
      "metadata": {
        "id": "J-s7p0ALUjuX",
        "colab": {
          "base_uri": "https://localhost:8080/"
        },
        "outputId": "56f634ed-5c1c-4c19-e1a8-db467958776d"
      },
      "outputs": [
        {
          "output_type": "stream",
          "name": "stdout",
          "text": [
            "good Morning\n",
            "good Morning\n",
            "good Morning\n",
            "good Morning\n",
            "good Morning\n",
            "good Morning\n",
            "good Morning\n",
            "good Morning\n",
            "good Morning\n",
            "good Morning\n"
          ]
        }
      ],
      "source": [
        "for i in range(11,21):\n",
        "  print('good Morning')"
      ]
    },
    {
      "cell_type": "code",
      "source": [
        "# rule 1 syntax -> [<printing_area> forloop]\n",
        "\n",
        "print(['good morning' for i in range(11,21)])"
      ],
      "metadata": {
        "colab": {
          "base_uri": "https://localhost:8080/"
        },
        "id": "X45yX4jfW3c6",
        "outputId": "96bdca23-ae7d-4d32-ac55-3750bde33b5e"
      },
      "execution_count": null,
      "outputs": [
        {
          "output_type": "stream",
          "name": "stdout",
          "text": [
            "['good morning', 'good morning', 'good morning', 'good morning', 'good morning', 'good morning', 'good morning', 'good morning', 'good morning', 'good morning']\n"
          ]
        }
      ]
    },
    {
      "cell_type": "code",
      "source": [
        "# one forloop and one if\n",
        "\n",
        "for i in range(11,21):\n",
        "  if i % 2 == 0:\n",
        "    print(f'Even : {i}')"
      ],
      "metadata": {
        "colab": {
          "base_uri": "https://localhost:8080/"
        },
        "id": "yMEUSNdrYW3g",
        "outputId": "7bf4e41b-b77a-49d3-c10e-681e0613cc10"
      },
      "execution_count": null,
      "outputs": [
        {
          "output_type": "stream",
          "name": "stdout",
          "text": [
            "Even : 12\n",
            "Even : 14\n",
            "Even : 16\n",
            "Even : 18\n",
            "Even : 20\n"
          ]
        }
      ]
    },
    {
      "cell_type": "code",
      "source": [
        "# using comprehension ->\n",
        "# rule 2 -> [<printing area> forloop if <condition>]\n",
        "\n",
        "\n",
        "print(['Even :'+str(i) for i in range(11,21) if i%2 == 0])"
      ],
      "metadata": {
        "colab": {
          "base_uri": "https://localhost:8080/"
        },
        "id": "61IJvDPdY1Qb",
        "outputId": "42f8bbe3-35ee-4379-afe0-109d5db30e96"
      },
      "execution_count": null,
      "outputs": [
        {
          "output_type": "stream",
          "name": "stdout",
          "text": [
            "['Even :12', 'Even :14', 'Even :16', 'Even :18', 'Even :20']\n"
          ]
        }
      ]
    },
    {
      "cell_type": "code",
      "source": [
        "for i in range(11,21):\n",
        "  if i%2 == 0:\n",
        "    print(f'Even : {i}')\n",
        "  else:\n",
        "    print(f'Odd : {i}')"
      ],
      "metadata": {
        "colab": {
          "base_uri": "https://localhost:8080/"
        },
        "id": "awMdMkXKaPLy",
        "outputId": "6ec6f9e0-6c5c-463b-c287-201a4a81d5d9"
      },
      "execution_count": null,
      "outputs": [
        {
          "output_type": "stream",
          "name": "stdout",
          "text": [
            "Odd : 11\n",
            "Even : 12\n",
            "Odd : 13\n",
            "Even : 14\n",
            "Odd : 15\n",
            "Even : 16\n",
            "Odd : 17\n",
            "Even : 18\n",
            "Odd : 19\n",
            "Even : 20\n"
          ]
        }
      ]
    },
    {
      "cell_type": "code",
      "source": [
        "# rule 3 -> [<condition> if else <condition> forloop]\n",
        "\n",
        "print(['Even : '+str(i) if i% 2 == 0 else 'Odd : '+str(i) for i in range(11,21)])"
      ],
      "metadata": {
        "colab": {
          "base_uri": "https://localhost:8080/"
        },
        "id": "O7RiT4zXZjc4",
        "outputId": "079db8b2-ef20-4ece-849c-5b7fe87f16fd"
      },
      "execution_count": null,
      "outputs": [
        {
          "output_type": "stream",
          "name": "stdout",
          "text": [
            "['Odd : 11', 'Even : 12', 'Odd : 13', 'Even : 14', 'Odd : 15', 'Even : 16', 'Odd : 17', 'Even : 18', 'Odd : 19', 'Even : 20']\n"
          ]
        }
      ]
    },
    {
      "cell_type": "code",
      "source": [
        "a = 'data science'\n",
        "\n",
        "r = ''\n",
        "\n",
        "for i in a:\n",
        "  if i in 'aeiouAEIOU':\n",
        "    pass\n",
        "  else:\n",
        "    r = r + i\n",
        "print(r)"
      ],
      "metadata": {
        "colab": {
          "base_uri": "https://localhost:8080/"
        },
        "id": "z_68jfZPbJ2C",
        "outputId": "b8191bb2-1d3d-4efa-bcea-c12c92267d13"
      },
      "execution_count": null,
      "outputs": [
        {
          "output_type": "stream",
          "name": "stdout",
          "text": [
            "dt scnc\n"
          ]
        }
      ]
    },
    {
      "cell_type": "code",
      "source": [
        "print(''.join([i for i in 'data science' if i not in 'aeiouAEIOU']))"
      ],
      "metadata": {
        "colab": {
          "base_uri": "https://localhost:8080/"
        },
        "id": "ltYLnFrJcAWy",
        "outputId": "a5484959-4495-4955-a8bb-88bb302f9b76"
      },
      "execution_count": null,
      "outputs": [
        {
          "output_type": "stream",
          "name": "stdout",
          "text": [
            "dt scnc\n"
          ]
        }
      ]
    },
    {
      "cell_type": "markdown",
      "source": [
        "**dictionary comprehension**"
      ],
      "metadata": {
        "id": "Tyenmbp9fjvX"
      }
    },
    {
      "cell_type": "code",
      "source": [
        "# rule 1 -> [i forloop]\n",
        "# rule 2 -> [i forloop if <condition>]\n",
        "# rule 3 -> [<print> if else <print> forloop]"
      ],
      "metadata": {
        "id": "3iYzDA9xc4Mq"
      },
      "execution_count": null,
      "outputs": []
    },
    {
      "cell_type": "code",
      "source": [
        "fruits = {'apple':100 , 'carrot':200 , 'banana':300}\n",
        "\n",
        "for i in fruits:\n",
        "  fruits[i] = fruits[i]+400\n",
        "\n",
        "\n",
        "print(fruits)"
      ],
      "metadata": {
        "colab": {
          "base_uri": "https://localhost:8080/"
        },
        "id": "HJeVORJsf40D",
        "outputId": "9e9f7bed-7f1a-4e42-efa7-a2f99e11cf1e"
      },
      "execution_count": null,
      "outputs": [
        {
          "output_type": "stream",
          "name": "stdout",
          "text": [
            "{'apple': 500, 'carrot': 600, 'banana': 700}\n"
          ]
        }
      ]
    },
    {
      "cell_type": "code",
      "source": [
        "fruits.items()"
      ],
      "metadata": {
        "colab": {
          "base_uri": "https://localhost:8080/"
        },
        "id": "Jw4UC7BVgnDx",
        "outputId": "82d56bde-a26a-4187-9c8d-1ac32bf5b3ce"
      },
      "execution_count": null,
      "outputs": [
        {
          "output_type": "execute_result",
          "data": {
            "text/plain": [
              "dict_items([('apple', 500), ('carrot', 600), ('banana', 700)])"
            ]
          },
          "metadata": {},
          "execution_count": 19
        }
      ]
    },
    {
      "cell_type": "code",
      "source": [
        "print({i:j+400 for i,j in {'apple':100 , 'carrot':200 , 'banana':300}.items()})"
      ],
      "metadata": {
        "colab": {
          "base_uri": "https://localhost:8080/"
        },
        "id": "9zUaxO30gvP-",
        "outputId": "07bd2723-66f2-49df-dc62-53ecb888d9ff"
      },
      "execution_count": null,
      "outputs": [
        {
          "output_type": "stream",
          "name": "stdout",
          "text": [
            "{'apple': 500, 'carrot': 600, 'banana': 700}\n"
          ]
        }
      ]
    },
    {
      "cell_type": "code",
      "source": [
        "fruits = {'apple':100 , 'carrot':200 , 'banana':300}\n",
        "\n",
        "for i in fruits:\n",
        "  if fruits[i] > 150:\n",
        "    fruits[i] = fruits[i] * 5\n",
        "\n",
        "print(fruits)"
      ],
      "metadata": {
        "colab": {
          "base_uri": "https://localhost:8080/"
        },
        "id": "q6Yx16kwhiL5",
        "outputId": "67aeda5e-f793-4572-e92a-71ae7ed73007"
      },
      "execution_count": null,
      "outputs": [
        {
          "output_type": "stream",
          "name": "stdout",
          "text": [
            "{'apple': 100, 'carrot': 1000, 'banana': 1500}\n"
          ]
        }
      ]
    },
    {
      "cell_type": "code",
      "source": [
        "fruits = {'apple':100 , 'carrot':200 , 'banana':300}\n",
        "\n",
        "print({i:fruits[i]*5 for i,j in fruits.items() if j > 150})"
      ],
      "metadata": {
        "colab": {
          "base_uri": "https://localhost:8080/"
        },
        "id": "dAFlVsVhiOkY",
        "outputId": "97cb65b5-8508-4684-fec7-12491f082949"
      },
      "execution_count": null,
      "outputs": [
        {
          "output_type": "stream",
          "name": "stdout",
          "text": [
            "{'carrot': 1000, 'banana': 1500}\n"
          ]
        }
      ]
    },
    {
      "cell_type": "code",
      "source": [
        "fruits = {'apple':100 , 'carrot':200 , 'banana':300}\n",
        "\n",
        "for i in fruits:\n",
        "  if fruits[i] > 150:\n",
        "    fruits[i] = fruits[i] * 5\n",
        "  else:\n",
        "    fruits[i] = fruits[i] * 3\n",
        "\n",
        "print(fruits)"
      ],
      "metadata": {
        "colab": {
          "base_uri": "https://localhost:8080/"
        },
        "id": "yH6kLpgAi4o_",
        "outputId": "c72c00d8-63cb-45ca-eb39-d0051c3d7041"
      },
      "execution_count": null,
      "outputs": [
        {
          "output_type": "stream",
          "name": "stdout",
          "text": [
            "{'apple': 300, 'carrot': 1000, 'banana': 1500}\n"
          ]
        }
      ]
    },
    {
      "cell_type": "code",
      "source": [
        "fruits = {'apple':100 , 'carrot':200 , 'banana':300}\n",
        "print({i:(j*5 if j>150 else j*3) for i,j in fruits.items()})"
      ],
      "metadata": {
        "colab": {
          "base_uri": "https://localhost:8080/"
        },
        "id": "JOvcOSP_jQax",
        "outputId": "6d01305a-719c-4620-d217-13c0928c1a22"
      },
      "execution_count": null,
      "outputs": [
        {
          "output_type": "stream",
          "name": "stdout",
          "text": [
            "{'apple': 300, 'carrot': 1000, 'banana': 1500}\n"
          ]
        }
      ]
    },
    {
      "cell_type": "code",
      "source": [],
      "metadata": {
        "id": "1EjUS8Kij93f"
      },
      "execution_count": null,
      "outputs": []
    }
  ]
}