{
  "nbformat": 4,
  "nbformat_minor": 0,
  "metadata": {
    "colab": {
      "provenance": []
    },
    "kernelspec": {
      "name": "python3",
      "display_name": "Python 3"
    },
    "language_info": {
      "name": "python"
    }
  },
  "cells": [
    {
      "cell_type": "markdown",
      "source": [
        "**control_statements**\n",
        "\n",
        "- `forloop`\n",
        "- `while loop`\n",
        "\n",
        "**conditional Staments**\n",
        "\n",
        "- `if `\n",
        "- `else `\n",
        "- `elif `\n",
        "- `break `\n",
        "- `continue `"
      ],
      "metadata": {
        "id": "N66qec4Z-WUL"
      }
    },
    {
      "cell_type": "markdown",
      "source": [
        "**forloop**\n",
        "\n",
        "syntax:\n",
        "\n",
        "for [var] in range(s_p,e_p):\n",
        "    \n",
        "    Logic here"
      ],
      "metadata": {
        "id": "lHnqTkH7_Y9E"
      }
    },
    {
      "cell_type": "code",
      "execution_count": null,
      "metadata": {
        "colab": {
          "base_uri": "https://localhost:8080/"
        },
        "id": "E4FfWFZV-J_0",
        "outputId": "338f7feb-86c4-40ec-90a8-36bf9af215dd"
      },
      "outputs": [
        {
          "output_type": "stream",
          "name": "stdout",
          "text": [
            "good morning\n",
            "good morning\n",
            "good morning\n",
            "good morning\n",
            "good morning\n",
            "good morning\n",
            "good morning\n",
            "good morning\n",
            "good morning\n",
            "good morning\n"
          ]
        }
      ],
      "source": [
        "for i in range(11,21):\n",
        "  print('good morning')"
      ]
    },
    {
      "cell_type": "code",
      "source": [
        "for i in range(11,21):\n",
        "  print(i+50)"
      ],
      "metadata": {
        "colab": {
          "base_uri": "https://localhost:8080/"
        },
        "id": "s5MyIcnYCEHI",
        "outputId": "5754178a-b33d-4050-b2fc-fa2e965f7273"
      },
      "execution_count": null,
      "outputs": [
        {
          "output_type": "stream",
          "name": "stdout",
          "text": [
            "61\n",
            "62\n",
            "63\n",
            "64\n",
            "65\n",
            "66\n",
            "67\n",
            "68\n",
            "69\n",
            "70\n"
          ]
        }
      ]
    },
    {
      "cell_type": "code",
      "source": [
        "for i in range(5):\n",
        "  pass"
      ],
      "metadata": {
        "id": "lwcF2TotCWnM"
      },
      "execution_count": null,
      "outputs": []
    },
    {
      "cell_type": "code",
      "source": [
        "age = 27\n",
        "\n",
        "print(f'My age is {age}')"
      ],
      "metadata": {
        "colab": {
          "base_uri": "https://localhost:8080/"
        },
        "id": "H3j1RFlTDy4M",
        "outputId": "6ec42792-33b0-4533-9f88-e984ebe25baa"
      },
      "execution_count": null,
      "outputs": [
        {
          "output_type": "stream",
          "name": "stdout",
          "text": [
            "My age is 27\n"
          ]
        }
      ]
    },
    {
      "cell_type": "code",
      "source": [
        "for i in range(1,11):\n",
        "  print(f'value is : {i}')"
      ],
      "metadata": {
        "colab": {
          "base_uri": "https://localhost:8080/"
        },
        "id": "CeQ3p6hwC-6L",
        "outputId": "303818c3-695c-4629-8d85-a391121c6d51"
      },
      "execution_count": null,
      "outputs": [
        {
          "output_type": "stream",
          "name": "stdout",
          "text": [
            "value is : 1\n",
            "value is : 2\n",
            "value is : 3\n",
            "value is : 4\n",
            "value is : 5\n",
            "value is : 6\n",
            "value is : 7\n",
            "value is : 8\n",
            "value is : 9\n",
            "value is : 10\n"
          ]
        }
      ]
    },
    {
      "cell_type": "code",
      "source": [
        "for i in range(1,11):\n",
        "  print(i,end='->')"
      ],
      "metadata": {
        "colab": {
          "base_uri": "https://localhost:8080/"
        },
        "id": "oaoc9WSyEA6m",
        "outputId": "ecc1a611-9498-478c-cbc0-e40675b16e5b"
      },
      "execution_count": null,
      "outputs": [
        {
          "output_type": "stream",
          "name": "stdout",
          "text": [
            "1->2->3->4->5->6->7->8->9->10->"
          ]
        }
      ]
    },
    {
      "cell_type": "markdown",
      "source": [
        "**if**"
      ],
      "metadata": {
        "id": "Ps3Nox2lFQej"
      }
    },
    {
      "cell_type": "code",
      "source": [
        "money = 20000\n",
        "iphone = 50000\n",
        "\n",
        "if money>iphone:\n",
        "  print('I will buy Iphone')"
      ],
      "metadata": {
        "id": "GGLJWDsZEFIc"
      },
      "execution_count": null,
      "outputs": []
    },
    {
      "cell_type": "code",
      "source": [
        "money = 200000\n",
        "iphone = 50000\n",
        "\n",
        "if money>iphone:\n",
        "  print('I will buy Iphone')"
      ],
      "metadata": {
        "colab": {
          "base_uri": "https://localhost:8080/"
        },
        "id": "bUnITiL4GMct",
        "outputId": "9ae8b19b-c67d-40fb-b318-b98cf5fab12d"
      },
      "execution_count": null,
      "outputs": [
        {
          "output_type": "stream",
          "name": "stdout",
          "text": [
            "I will buy Iphone\n"
          ]
        }
      ]
    },
    {
      "cell_type": "code",
      "source": [
        "money = 200000\n",
        "iphone = 50000\n",
        "\n",
        "if money>iphone:\n",
        "  print('I will buy Iphone')\n",
        "\n",
        "else:\n",
        "  print('I dont have enough money')"
      ],
      "metadata": {
        "colab": {
          "base_uri": "https://localhost:8080/"
        },
        "id": "u3YqbEa2GW3P",
        "outputId": "6260d17f-c6e1-43e9-b4a0-afc4c4e2f9ed"
      },
      "execution_count": null,
      "outputs": [
        {
          "output_type": "stream",
          "name": "stdout",
          "text": [
            "I will buy Iphone\n"
          ]
        }
      ]
    },
    {
      "cell_type": "code",
      "source": [
        "money = 2000\n",
        "iphone = 50000\n",
        "samsung = 25000\n",
        "vivo = 15000\n",
        "\n",
        "if money > iphone:\n",
        "  print('I will buy Iphone')\n",
        "\n",
        "elif money > samsung:\n",
        "  print('I will buy samsung')\n",
        "\n",
        "elif money > vivo:\n",
        "  print('I will buy vivo')\n",
        "\n",
        "else:\n",
        "  print('I dont have enough money')"
      ],
      "metadata": {
        "colab": {
          "base_uri": "https://localhost:8080/"
        },
        "id": "PLfN4DkAG3TU",
        "outputId": "69ccd667-20b5-45b3-d83a-0f4e4abc0949"
      },
      "execution_count": null,
      "outputs": [
        {
          "output_type": "stream",
          "name": "stdout",
          "text": [
            "I dont have enough money\n"
          ]
        }
      ]
    },
    {
      "cell_type": "code",
      "source": [
        "money = 2000\n",
        "iphone = 50000\n",
        "samsung = 25000\n",
        "vivo = 15000\n",
        "\n",
        "if money > iphone:\n",
        "  print('I will buy Iphone')\n",
        "\n",
        "if money > samsung:\n",
        "  print('I will buy samsung')\n",
        "\n",
        "if money > vivo:\n",
        "  print('I will buy vivo')\n",
        "\n",
        "else:\n",
        "  print('I dont have enough money')"
      ],
      "metadata": {
        "id": "uTq41N9uIENc"
      },
      "execution_count": null,
      "outputs": []
    },
    {
      "cell_type": "code",
      "source": [
        "# even values from 11 to 20\n",
        "\n",
        "for i in range(11,21):\n",
        "  if i%2 == 0:\n",
        "    print(f'Even : {i}')"
      ],
      "metadata": {
        "colab": {
          "base_uri": "https://localhost:8080/"
        },
        "id": "ov6JgK5jIlw1",
        "outputId": "fb15ad0a-52c6-4883-8b2c-78f12ed38804"
      },
      "execution_count": null,
      "outputs": [
        {
          "output_type": "stream",
          "name": "stdout",
          "text": [
            "Even : 12\n",
            "Even : 14\n",
            "Even : 16\n",
            "Even : 18\n",
            "Even : 20\n"
          ]
        }
      ]
    },
    {
      "cell_type": "markdown",
      "source": [
        "**perfect number**"
      ],
      "metadata": {
        "id": "NkDo3WyrLj4f"
      }
    },
    {
      "cell_type": "code",
      "source": [
        "n = 8\n",
        "res = 0\n",
        "\n",
        "for i in range(1,n):\n",
        "  if n%i == 0:\n",
        "    res = res + i\n",
        "\n",
        "if n == res:\n",
        "  print(f'{n} is a perfect number')\n",
        "else:\n",
        "  print(f'{n} is not a perfect number')"
      ],
      "metadata": {
        "colab": {
          "base_uri": "https://localhost:8080/"
        },
        "id": "NxYuFQPaJZbO",
        "outputId": "3f2accb5-90e9-46cc-a118-5976ad192528"
      },
      "execution_count": null,
      "outputs": [
        {
          "output_type": "stream",
          "name": "stdout",
          "text": [
            "8 is not a perfect number\n"
          ]
        }
      ]
    },
    {
      "cell_type": "code",
      "source": [
        "# break\n",
        "\n",
        "for i in range(11,21):\n",
        "  print(i)\n",
        "  if i == 17:\n",
        "    break"
      ],
      "metadata": {
        "colab": {
          "base_uri": "https://localhost:8080/"
        },
        "id": "w0NvKbKkLbTf",
        "outputId": "fbd01ce8-be05-4c21-ec1d-6aeaf16551a1"
      },
      "execution_count": null,
      "outputs": [
        {
          "output_type": "stream",
          "name": "stdout",
          "text": [
            "11\n",
            "12\n",
            "13\n",
            "14\n",
            "15\n",
            "16\n",
            "17\n"
          ]
        }
      ]
    },
    {
      "cell_type": "code",
      "source": [
        "for i in range(1,11):\n",
        "  print(i)"
      ],
      "metadata": {
        "colab": {
          "base_uri": "https://localhost:8080/"
        },
        "id": "4atXwposMdPj",
        "outputId": "4f86b383-59d4-4373-e2df-5f1ecd96215b"
      },
      "execution_count": null,
      "outputs": [
        {
          "output_type": "stream",
          "name": "stdout",
          "text": [
            "1\n",
            "2\n",
            "3\n",
            "4\n",
            "5\n",
            "6\n",
            "7\n",
            "8\n",
            "9\n",
            "10\n"
          ]
        }
      ]
    },
    {
      "cell_type": "code",
      "source": [
        "a = 1\n",
        "\n",
        "while a <= 10:\n",
        "  print(a)\n",
        "  a = a + 1"
      ],
      "metadata": {
        "colab": {
          "base_uri": "https://localhost:8080/"
        },
        "id": "yIMvOV93Nv8B",
        "outputId": "04884e2f-7aa3-413a-d0e7-cb6b9bf7618c"
      },
      "execution_count": null,
      "outputs": [
        {
          "output_type": "stream",
          "name": "stdout",
          "text": [
            "1\n",
            "2\n",
            "3\n",
            "4\n",
            "5\n",
            "6\n",
            "7\n",
            "8\n",
            "9\n",
            "10\n"
          ]
        }
      ]
    },
    {
      "cell_type": "code",
      "source": [
        "for i in range(11,17):\n",
        "  if i == 13:\n",
        "    continue\n",
        "  print(i)"
      ],
      "metadata": {
        "colab": {
          "base_uri": "https://localhost:8080/"
        },
        "id": "0Ys-8Y3wOi9O",
        "outputId": "07b29342-6037-4895-8f27-f42006cfbbe2"
      },
      "execution_count": null,
      "outputs": [
        {
          "output_type": "stream",
          "name": "stdout",
          "text": [
            "11\n",
            "12\n",
            "14\n",
            "15\n",
            "16\n"
          ]
        }
      ]
    },
    {
      "cell_type": "markdown",
      "source": [
        "**write the forloop for**\n",
        "\n",
        "- `string | List | tuple | sets | dict `"
      ],
      "metadata": {
        "id": "G-JKzC7FJBUm"
      }
    },
    {
      "cell_type": "code",
      "source": [
        "# string\n",
        "\n",
        "a = 'data'\n",
        "\n",
        "for i in a:\n",
        "  print(i)\n"
      ],
      "metadata": {
        "id": "cPaErO1xPc4i",
        "colab": {
          "base_uri": "https://localhost:8080/"
        },
        "outputId": "0070f885-5a19-4abb-98b8-511470b7a1e4"
      },
      "execution_count": null,
      "outputs": [
        {
          "output_type": "stream",
          "name": "stdout",
          "text": [
            "d\n",
            "a\n",
            "t\n",
            "a\n"
          ]
        }
      ]
    },
    {
      "cell_type": "code",
      "source": [
        "a = 'data'\n",
        "for i in a:\n",
        "  print(i,ord(i))"
      ],
      "metadata": {
        "colab": {
          "base_uri": "https://localhost:8080/"
        },
        "id": "gRMSxHZFJ9_o",
        "outputId": "0a815993-ffae-40e8-8218-82a7220e3839"
      },
      "execution_count": null,
      "outputs": [
        {
          "output_type": "stream",
          "name": "stdout",
          "text": [
            "d 100\n",
            "a 97\n",
            "t 116\n",
            "a 97\n"
          ]
        }
      ]
    },
    {
      "cell_type": "code",
      "source": [
        "b = [10,20,30,50]\n",
        "\n",
        "for i in b:\n",
        "  print(i+10)"
      ],
      "metadata": {
        "colab": {
          "base_uri": "https://localhost:8080/"
        },
        "id": "JCW_4RQxKV9X",
        "outputId": "75c635ba-db9d-4a1d-c189-c74243f1a42d"
      },
      "execution_count": null,
      "outputs": [
        {
          "output_type": "stream",
          "name": "stdout",
          "text": [
            "20\n",
            "30\n",
            "40\n",
            "60\n"
          ]
        }
      ]
    },
    {
      "cell_type": "code",
      "source": [
        "a = (10,20,30,50)\n",
        "\n",
        "for i in a:\n",
        "  print(i+10)"
      ],
      "metadata": {
        "colab": {
          "base_uri": "https://localhost:8080/"
        },
        "id": "MyxjJ185Kof0",
        "outputId": "47c9b82e-988c-44d0-b863-14d28814695a"
      },
      "execution_count": null,
      "outputs": [
        {
          "output_type": "stream",
          "name": "stdout",
          "text": [
            "20\n",
            "30\n",
            "40\n",
            "60\n"
          ]
        }
      ]
    },
    {
      "cell_type": "code",
      "source": [
        "a = {10,70,90,100,120}\n",
        "\n",
        "for i in a:\n",
        "  print(i+10)"
      ],
      "metadata": {
        "colab": {
          "base_uri": "https://localhost:8080/"
        },
        "id": "e8sO_QehK2KH",
        "outputId": "8be2d026-2e2b-45b2-efad-4b06d851e037"
      },
      "execution_count": null,
      "outputs": [
        {
          "output_type": "stream",
          "name": "stdout",
          "text": [
            "110\n",
            "100\n",
            "80\n",
            "130\n",
            "20\n"
          ]
        }
      ]
    },
    {
      "cell_type": "code",
      "source": [
        "a = {'apple':100,'carrot':200,'banana':300}\n",
        "\n",
        "for i in a:\n",
        "  print(i)\n",
        "  print(a[i])"
      ],
      "metadata": {
        "colab": {
          "base_uri": "https://localhost:8080/"
        },
        "id": "MBf0spfILDLn",
        "outputId": "e2920088-8110-4017-a40b-60c144315f07"
      },
      "execution_count": null,
      "outputs": [
        {
          "output_type": "stream",
          "name": "stdout",
          "text": [
            "apple\n",
            "100\n",
            "carrot\n",
            "200\n",
            "banana\n",
            "300\n"
          ]
        }
      ]
    },
    {
      "cell_type": "markdown",
      "source": [
        "- `find the factorial of a given number `"
      ],
      "metadata": {
        "id": "moA0_6WdL66p"
      }
    },
    {
      "cell_type": "code",
      "source": [
        "n = 9\n",
        "\n",
        "r = 1\n",
        "\n",
        "for i in range(1,n+1):\n",
        "  r = r * i\n",
        "\n",
        "print(r)"
      ],
      "metadata": {
        "colab": {
          "base_uri": "https://localhost:8080/"
        },
        "id": "JyPrEOYULiJW",
        "outputId": "d1773a9c-2c24-4ab9-c4dd-e58a4ccf7c27"
      },
      "execution_count": null,
      "outputs": [
        {
          "output_type": "stream",
          "name": "stdout",
          "text": [
            "362880\n"
          ]
        }
      ]
    },
    {
      "cell_type": "markdown",
      "source": [
        "- find the sum of the digits -> 567"
      ],
      "metadata": {
        "id": "CY2TxPFdOB1G"
      }
    },
    {
      "cell_type": "code",
      "source": [
        "n = 567\n",
        "r = 0\n",
        "\n",
        "b = str(n)\n",
        "\n",
        "for j in b:\n",
        "  r = r + int(j)\n",
        "\n",
        "print(r)"
      ],
      "metadata": {
        "colab": {
          "base_uri": "https://localhost:8080/"
        },
        "id": "PkVXU1q8NGbw",
        "outputId": "04921310-51a7-4e6b-b555-31cb2fd18688"
      },
      "execution_count": null,
      "outputs": [
        {
          "output_type": "stream",
          "name": "stdout",
          "text": [
            "18\n"
          ]
        }
      ]
    },
    {
      "cell_type": "code",
      "source": [
        "# find the number of values in list without using len\n",
        "\n",
        "a = [10,20,60,90,100]\n",
        "r = 0\n",
        "\n",
        "for i in a:\n",
        "    r = r + 1\n",
        "\n",
        "print(r)"
      ],
      "metadata": {
        "colab": {
          "base_uri": "https://localhost:8080/"
        },
        "id": "RtuwtpnBPK9y",
        "outputId": "e44a5197-79e8-4f7e-e334-40e1dabebb7c"
      },
      "execution_count": null,
      "outputs": [
        {
          "output_type": "stream",
          "name": "stdout",
          "text": [
            "5\n"
          ]
        }
      ]
    },
    {
      "cell_type": "code",
      "source": [
        "for i in range(11,16):\n",
        "  for j in range(21,26):\n",
        "    print(i,j)\n"
      ],
      "metadata": {
        "colab": {
          "base_uri": "https://localhost:8080/"
        },
        "id": "pafx0t1GQFDD",
        "outputId": "17e9a10a-55ff-4ee0-e650-c01458739cef"
      },
      "execution_count": null,
      "outputs": [
        {
          "output_type": "stream",
          "name": "stdout",
          "text": [
            "11 21\n",
            "11 22\n",
            "11 23\n",
            "11 24\n",
            "11 25\n",
            "12 21\n",
            "12 22\n",
            "12 23\n",
            "12 24\n",
            "12 25\n",
            "13 21\n",
            "13 22\n",
            "13 23\n",
            "13 24\n",
            "13 25\n",
            "14 21\n",
            "14 22\n",
            "14 23\n",
            "14 24\n",
            "14 25\n",
            "15 21\n",
            "15 22\n",
            "15 23\n",
            "15 24\n",
            "15 25\n"
          ]
        }
      ]
    },
    {
      "cell_type": "code",
      "source": [
        "print('good morning')\n",
        "print()\n",
        "print('good evening')"
      ],
      "metadata": {
        "colab": {
          "base_uri": "https://localhost:8080/"
        },
        "id": "Suxp1apeRi0H",
        "outputId": "edcb9a2c-b7d6-4175-bb01-26fd08cb114e"
      },
      "execution_count": null,
      "outputs": [
        {
          "output_type": "stream",
          "name": "stdout",
          "text": [
            "good morning\n",
            "\n",
            "good evening\n"
          ]
        }
      ]
    },
    {
      "cell_type": "code",
      "source": [
        "for i in range(5):\n",
        "  for j in range(5):\n",
        "    print('*',end = ' ')\n",
        "  print()"
      ],
      "metadata": {
        "colab": {
          "base_uri": "https://localhost:8080/"
        },
        "id": "WAzNoXc3Rr6T",
        "outputId": "7d5b0738-3154-474a-acc0-eef108943dff"
      },
      "execution_count": null,
      "outputs": [
        {
          "output_type": "stream",
          "name": "stdout",
          "text": [
            "* * * * * \n",
            "* * * * * \n",
            "* * * * * \n",
            "* * * * * \n",
            "* * * * * \n"
          ]
        }
      ]
    },
    {
      "cell_type": "code",
      "source": [
        "# find a Given number is palindrome or not\n",
        "\n",
        "n = 121\n",
        "\n",
        "b = str(n)\n",
        "\n",
        "print(f'value in b : {b}')\n",
        "\n",
        "c = b[::-1]\n",
        "\n",
        "print(f'value in c : {c}')\n",
        "\n",
        "if b == c:\n",
        "    print(f'Palindrome Number : {n}')\n",
        "else:\n",
        "    print(f'It is not a palindrome : {n}')"
      ],
      "metadata": {
        "colab": {
          "base_uri": "https://localhost:8080/"
        },
        "id": "t7ihAPUcSW_B",
        "outputId": "bd70c82e-3b15-40a5-fd47-463bf68fdc82"
      },
      "execution_count": null,
      "outputs": [
        {
          "output_type": "stream",
          "name": "stdout",
          "text": [
            "value in b : 121\n",
            "value in c : 121\n",
            "Palindrome Number : 121\n"
          ]
        }
      ]
    },
    {
      "cell_type": "code",
      "source": [
        "n = 423\n",
        "temp = n\n",
        "\n",
        "r = 0\n",
        "\n",
        "while n > 0:\n",
        "    f = n % 10\n",
        "    r = (r*10) + f\n",
        "    n = n // 10\n",
        "\n",
        "print(f'value in r : {r}')\n",
        "\n",
        "\n",
        "if temp == r:\n",
        "    print(f'Given number is Palindrome : {temp}')\n",
        "else:\n",
        "    print(f'Not a palindome : {temp}')"
      ],
      "metadata": {
        "colab": {
          "base_uri": "https://localhost:8080/"
        },
        "id": "wmpnqKERULMz",
        "outputId": "fc94ae6c-4325-4f2d-b6f9-dd9af493448b"
      },
      "execution_count": null,
      "outputs": [
        {
          "output_type": "stream",
          "name": "stdout",
          "text": [
            "value in r : 324\n",
            "Not a palindome : 423\n"
          ]
        }
      ]
    },
    {
      "cell_type": "code",
      "source": [
        "n = 153\n",
        "temp = n\n",
        "\n",
        "r = 0\n",
        "\n",
        "while n > 0:\n",
        "    f = n % 10\n",
        "    r = r + (f*f*f)\n",
        "    n = n // 10\n",
        "\n",
        "print(f'value in r : {r}')\n",
        "\n",
        "\n",
        "if temp == r:\n",
        "    print(f'Given number is Amstrong : {temp}')\n",
        "else:\n",
        "    print(f'Not a Amstrong : {temp}')"
      ],
      "metadata": {
        "colab": {
          "base_uri": "https://localhost:8080/"
        },
        "id": "0UcV7KmcXLmD",
        "outputId": "edb6cd42-40a0-47d6-9059-e23f71a0593b"
      },
      "execution_count": null,
      "outputs": [
        {
          "output_type": "stream",
          "name": "stdout",
          "text": [
            "value in r : 153\n",
            "Given number is Amstrong : 153\n"
          ]
        }
      ]
    },
    {
      "cell_type": "code",
      "source": [
        "# fibonacci series\n",
        "\n",
        "n = 8\n",
        "\n",
        "a = 0\n",
        "b = 1\n",
        "\n",
        "print(a)\n",
        "print(b)\n",
        "\n",
        "\n",
        "for i in range(n-2):\n",
        "    c = a + b\n",
        "    print(c)\n",
        "    a = b\n",
        "    b = c"
      ],
      "metadata": {
        "colab": {
          "base_uri": "https://localhost:8080/"
        },
        "id": "gscwirS4Y5ka",
        "outputId": "077b0897-e9d7-4e60-fdb2-fc233323f243"
      },
      "execution_count": null,
      "outputs": [
        {
          "output_type": "stream",
          "name": "stdout",
          "text": [
            "0\n",
            "1\n",
            "1\n",
            "2\n",
            "3\n",
            "5\n",
            "8\n",
            "13\n"
          ]
        }
      ]
    },
    {
      "cell_type": "markdown",
      "source": [
        "## Advanced Questions"
      ],
      "metadata": {
        "id": "LPWBD8CbURtT"
      }
    },
    {
      "cell_type": "code",
      "source": [
        "# from the values 12 to 50 -> capgemini\n",
        "c = []\n",
        "\n",
        "\n",
        "for i in range(12,51):\n",
        "  if i % 3 == 0 and i % 5 == 0:\n",
        "    c.append(i)\n",
        "\n",
        "\n",
        "print(c)"
      ],
      "metadata": {
        "id": "sU-U1dhia0RU",
        "colab": {
          "base_uri": "https://localhost:8080/"
        },
        "outputId": "7c319de8-5827-4dbe-f194-4903eb708638"
      },
      "execution_count": null,
      "outputs": [
        {
          "output_type": "stream",
          "name": "stdout",
          "text": [
            "[15, 30, 45]\n"
          ]
        }
      ]
    },
    {
      "cell_type": "code",
      "source": [
        "# atai\n",
        "res = 0\n",
        "a = [   [12.55,10,'data science',45],    [10,1,5.5,'python']     ]\n",
        "\n",
        "for i in a:\n",
        "  for j in i:\n",
        "    if type(j) == int:\n",
        "      res = res + j\n",
        "\n",
        "\n",
        "print(res)"
      ],
      "metadata": {
        "colab": {
          "base_uri": "https://localhost:8080/"
        },
        "id": "Ps9g_646VQuT",
        "outputId": "85ad25ef-3ead-4b30-d4f2-e5d381ea7ca7"
      },
      "execution_count": null,
      "outputs": [
        {
          "output_type": "stream",
          "name": "stdout",
          "text": [
            "66\n"
          ]
        }
      ]
    },
    {
      "cell_type": "code",
      "source": [
        "a = 'sharuk khan'\n",
        "\n",
        "f = {}\n",
        "\n",
        "for i in a:\n",
        "  if i not in f:\n",
        "    f[i] = 1\n",
        "  else:\n",
        "    f[i] = f[i] + 1\n",
        "\n",
        "\n",
        "print(f)"
      ],
      "metadata": {
        "colab": {
          "base_uri": "https://localhost:8080/"
        },
        "id": "IYeCMG0vW4nZ",
        "outputId": "55b81ecf-3ddb-48a6-9ca5-e126fb141a42"
      },
      "execution_count": null,
      "outputs": [
        {
          "output_type": "stream",
          "name": "stdout",
          "text": [
            "{'s': 1, 'h': 2, 'a': 2, 'r': 1, 'u': 1, 'k': 2, ' ': 1, 'n': 1}\n"
          ]
        }
      ]
    },
    {
      "cell_type": "code",
      "source": [
        "a = 'aeroplane12455'\n",
        "\n",
        "res = 0\n",
        "\n",
        "for i in a:\n",
        "  if i.isalpha():\n",
        "    res = res + 1\n",
        "\n",
        "print(res)"
      ],
      "metadata": {
        "colab": {
          "base_uri": "https://localhost:8080/"
        },
        "id": "CZiboQO8YdtY",
        "outputId": "183a34bd-ef24-4ac2-be5e-91b870afee33"
      },
      "execution_count": null,
      "outputs": [
        {
          "output_type": "stream",
          "name": "stdout",
          "text": [
            "9\n"
          ]
        }
      ]
    },
    {
      "cell_type": "code",
      "source": [
        "# MSFT\n",
        "\n",
        "a = [7,3,3,7,5,1,3,2,4,2]\n",
        "\n",
        "odd_based = a[::2] # odd positions\n",
        "even_based = a[1::2] # even positions\n",
        "\n",
        "print(f'Even based : {even_based}')\n",
        "print(f'Odd Based : {odd_based}')\n",
        "c = 0\n",
        "d = 0\n",
        "\n",
        "for i in odd_based:\n",
        "  c = c + i\n",
        "\n",
        "for j in even_based:\n",
        "  d = d + j\n",
        "\n",
        "\n",
        "print(c)\n",
        "print(d)"
      ],
      "metadata": {
        "colab": {
          "base_uri": "https://localhost:8080/"
        },
        "id": "OyDm9gWnZPFK",
        "outputId": "697ce37d-0eac-471d-8612-4986d3d6458c"
      },
      "execution_count": null,
      "outputs": [
        {
          "output_type": "stream",
          "name": "stdout",
          "text": [
            "Even based : [3, 7, 1, 2, 2]\n",
            "Odd Based : [7, 3, 5, 3, 4]\n",
            "22\n",
            "15\n"
          ]
        }
      ]
    },
    {
      "cell_type": "code",
      "source": [
        "# MSFT\n",
        "\n",
        "a = [7,3,3,7,5,1,3,2,4,2]\n",
        "\n",
        "odd_based = a[::2] # odd positions\n",
        "even_based = a[1::2] # even positions\n",
        "\n",
        "print(f'Even based : {even_based}')\n",
        "print(f'Odd Based : {odd_based}')\n",
        "c = 0\n",
        "d = 0\n",
        "\n",
        "for i in range(5):\n",
        "  c = c + odd_based[i]\n",
        "  d = d + even_based[i]\n",
        "print(c)\n",
        "print(d)"
      ],
      "metadata": {
        "colab": {
          "base_uri": "https://localhost:8080/"
        },
        "id": "RAM-8s_fap6y",
        "outputId": "80ea235f-608b-46bf-a132-aa05be70cbf7"
      },
      "execution_count": null,
      "outputs": [
        {
          "output_type": "stream",
          "name": "stdout",
          "text": [
            "Even based : [3, 7, 1, 2, 2]\n",
            "Odd Based : [7, 3, 5, 3, 4]\n",
            "22\n",
            "15\n"
          ]
        }
      ]
    },
    {
      "cell_type": "code",
      "source": [
        "n = 5\n",
        "r = 2\n",
        "\n",
        "\n",
        "d = []\n",
        "\n",
        "\n",
        "c = 0\n",
        "\n",
        "for i in range(n):\n",
        "  c = c + r\n",
        "  d.append(c)\n",
        "\n",
        "print(d)"
      ],
      "metadata": {
        "colab": {
          "base_uri": "https://localhost:8080/"
        },
        "id": "8zYdOPhZcZYf",
        "outputId": "e0e466a1-9b20-4910-a154-ede6147346bc"
      },
      "execution_count": null,
      "outputs": [
        {
          "output_type": "stream",
          "name": "stdout",
          "text": [
            "[2, 4, 6, 8, 10]\n"
          ]
        }
      ]
    },
    {
      "cell_type": "code",
      "source": [
        "n = 5\n",
        "r = 3\n",
        "\n",
        "for i in range(n):\n",
        "  print(i*r,end=' ')"
      ],
      "metadata": {
        "colab": {
          "base_uri": "https://localhost:8080/"
        },
        "id": "8QAlALmsdjKA",
        "outputId": "bca98263-4f69-467f-adbe-131e0d042f38"
      },
      "execution_count": null,
      "outputs": [
        {
          "output_type": "stream",
          "name": "stdout",
          "text": [
            "0 3 6 9 12 "
          ]
        }
      ]
    },
    {
      "cell_type": "code",
      "source": [
        "for i in range(1,6):\n",
        "  print(i,end=i*'.')"
      ],
      "metadata": {
        "colab": {
          "base_uri": "https://localhost:8080/"
        },
        "id": "Mks3roMQeN57",
        "outputId": "03872c56-d5e3-4bca-98e2-4d6f47b8e1e9"
      },
      "execution_count": null,
      "outputs": [
        {
          "output_type": "stream",
          "name": "stdout",
          "text": [
            "1.2..3...4....5....."
          ]
        }
      ]
    },
    {
      "cell_type": "code",
      "source": [
        "a = 'john'\n",
        "\n",
        "t = ''\n",
        "\n",
        "\n",
        "for i in a:\n",
        "  t = i + t\n",
        "\n",
        "print(t)"
      ],
      "metadata": {
        "colab": {
          "base_uri": "https://localhost:8080/"
        },
        "id": "bbFc56sKe464",
        "outputId": "8900df55-9c2a-41c2-eb76-defdcd4c0485"
      },
      "execution_count": null,
      "outputs": [
        {
          "output_type": "stream",
          "name": "stdout",
          "text": [
            "nhoj\n"
          ]
        }
      ]
    },
    {
      "cell_type": "code",
      "source": [
        "# prime number\n",
        "\n",
        "n = 7\n",
        "c = 0\n",
        "\n",
        "\n",
        "for i in range(1,n+1):\n",
        "  if n % i == 0:\n",
        "    c = c + 1\n",
        "\n",
        "if c == 2:\n",
        "  print(f'{n} is a prime number ')"
      ],
      "metadata": {
        "colab": {
          "base_uri": "https://localhost:8080/"
        },
        "id": "F1OUMzqifv9q",
        "outputId": "cb1b6fa6-fde7-4cdf-b9cb-f03ef16ebe7c"
      },
      "execution_count": null,
      "outputs": [
        {
          "output_type": "stream",
          "name": "stdout",
          "text": [
            "7 is a prime number \n"
          ]
        }
      ]
    },
    {
      "cell_type": "code",
      "source": [],
      "metadata": {
        "id": "87X5VtLQhQpF"
      },
      "execution_count": null,
      "outputs": []
    }
  ]
}