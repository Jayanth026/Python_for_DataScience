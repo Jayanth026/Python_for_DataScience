{
  "nbformat": 4,
  "nbformat_minor": 0,
  "metadata": {
    "colab": {
      "provenance": []
    },
    "kernelspec": {
      "name": "python3",
      "display_name": "Python 3"
    },
    "language_info": {
      "name": "python"
    }
  },
  "cells": [
    {
      "cell_type": "markdown",
      "source": [
        "- `1. Python sets are represented with -> {}`\n",
        "- `2. Python sets are unordered Pairs -> which means there will be no index concept -> slicing -> skipping `\n",
        "- `3. Python sets wont allow duplicate values ... `\n",
        "- `4. Python sets are mutable -> but they wont allow mutable types inside it `"
      ],
      "metadata": {
        "id": "hdjwlpk6ZUcU"
      }
    },
    {
      "cell_type": "code",
      "execution_count": null,
      "metadata": {
        "colab": {
          "base_uri": "https://localhost:8080/"
        },
        "id": "34t1ZA0qY1oh",
        "outputId": "989449ca-d34b-4caa-84c8-f25d841fc308"
      },
      "outputs": [
        {
          "output_type": "stream",
          "name": "stdout",
          "text": [
            "data\n"
          ]
        }
      ],
      "source": [
        "a = 'data' # save in the Memory\n",
        "print(a) # calling from the Memory"
      ]
    },
    {
      "cell_type": "code",
      "source": [
        "a = [10,20,30,40]\n",
        "print(a)"
      ],
      "metadata": {
        "colab": {
          "base_uri": "https://localhost:8080/"
        },
        "id": "Z-MiaZ2kZwb9",
        "outputId": "2a4700d3-729b-4826-db90-080671de36aa"
      },
      "execution_count": null,
      "outputs": [
        {
          "output_type": "stream",
          "name": "stdout",
          "text": [
            "[10, 20, 30, 40]\n"
          ]
        }
      ]
    },
    {
      "cell_type": "code",
      "source": [
        "a = (10,20,30,40)\n",
        "print(a)"
      ],
      "metadata": {
        "colab": {
          "base_uri": "https://localhost:8080/"
        },
        "id": "v9hwxTk1Z2MI",
        "outputId": "ccf7dd5e-d3b5-4b54-899c-bcc06edb9e84"
      },
      "execution_count": null,
      "outputs": [
        {
          "output_type": "stream",
          "name": "stdout",
          "text": [
            "(10, 20, 30, 40)\n"
          ]
        }
      ]
    },
    {
      "cell_type": "code",
      "source": [
        "a = {10,20,30,40}\n",
        "print(a)"
      ],
      "metadata": {
        "colab": {
          "base_uri": "https://localhost:8080/"
        },
        "id": "uaMHciuqZ4wp",
        "outputId": "0ace906f-746e-4f4d-b435-936713b6eb67"
      },
      "execution_count": null,
      "outputs": [
        {
          "output_type": "stream",
          "name": "stdout",
          "text": [
            "{40, 10, 20, 30}\n"
          ]
        }
      ]
    },
    {
      "cell_type": "code",
      "source": [
        "a = {10,100,200,3,4,7,9} # save in the Memory\n",
        "\n",
        "print(a) # calling from the Memory"
      ],
      "metadata": {
        "colab": {
          "base_uri": "https://localhost:8080/"
        },
        "id": "H5wiU6DPZ79-",
        "outputId": "177f34d1-9e55-451d-ea4e-c969aee09875"
      },
      "execution_count": null,
      "outputs": [
        {
          "output_type": "stream",
          "name": "stdout",
          "text": [
            "{3, 100, 4, 7, 200, 9, 10}\n"
          ]
        }
      ]
    },
    {
      "cell_type": "code",
      "source": [
        "a = {10,100,200,3,4,7,9} # save in the Memory\n",
        "\n",
        "print(a[1]) # calling from the Memory"
      ],
      "metadata": {
        "colab": {
          "base_uri": "https://localhost:8080/",
          "height": 198
        },
        "id": "8SF0nd-vbUUo",
        "outputId": "abc531d4-2072-49d6-8677-dd04ac1d7447"
      },
      "execution_count": null,
      "outputs": [
        {
          "output_type": "error",
          "ename": "TypeError",
          "evalue": "'set' object is not subscriptable",
          "traceback": [
            "\u001b[0;31m---------------------------------------------------------------------------\u001b[0m",
            "\u001b[0;31mTypeError\u001b[0m                                 Traceback (most recent call last)",
            "\u001b[0;32m<ipython-input-10-4c56bedadd5e>\u001b[0m in \u001b[0;36m<cell line: 3>\u001b[0;34m()\u001b[0m\n\u001b[1;32m      1\u001b[0m \u001b[0ma\u001b[0m \u001b[0;34m=\u001b[0m \u001b[0;34m{\u001b[0m\u001b[0;36m10\u001b[0m\u001b[0;34m,\u001b[0m\u001b[0;36m100\u001b[0m\u001b[0;34m,\u001b[0m\u001b[0;36m200\u001b[0m\u001b[0;34m,\u001b[0m\u001b[0;36m3\u001b[0m\u001b[0;34m,\u001b[0m\u001b[0;36m4\u001b[0m\u001b[0;34m,\u001b[0m\u001b[0;36m7\u001b[0m\u001b[0;34m,\u001b[0m\u001b[0;36m9\u001b[0m\u001b[0;34m}\u001b[0m \u001b[0;31m# save in the Memory\u001b[0m\u001b[0;34m\u001b[0m\u001b[0;34m\u001b[0m\u001b[0m\n\u001b[1;32m      2\u001b[0m \u001b[0;34m\u001b[0m\u001b[0m\n\u001b[0;32m----> 3\u001b[0;31m \u001b[0mprint\u001b[0m\u001b[0;34m(\u001b[0m\u001b[0ma\u001b[0m\u001b[0;34m[\u001b[0m\u001b[0;36m1\u001b[0m\u001b[0;34m]\u001b[0m\u001b[0;34m)\u001b[0m \u001b[0;31m# calling from the Memory\u001b[0m\u001b[0;34m\u001b[0m\u001b[0;34m\u001b[0m\u001b[0m\n\u001b[0m",
            "\u001b[0;31mTypeError\u001b[0m: 'set' object is not subscriptable"
          ]
        }
      ]
    },
    {
      "cell_type": "code",
      "source": [
        "# duplicate values\n",
        "a = {10,20,30,50,10,100,20,10} # save in the Memory\n",
        "print(a)"
      ],
      "metadata": {
        "colab": {
          "base_uri": "https://localhost:8080/"
        },
        "id": "NuQSHDxOccYN",
        "outputId": "9d8903d5-4d57-4604-b8b9-af08df58ff57"
      },
      "execution_count": null,
      "outputs": [
        {
          "output_type": "stream",
          "name": "stdout",
          "text": [
            "{50, 100, 20, 10, 30}\n"
          ]
        }
      ]
    },
    {
      "cell_type": "code",
      "source": [
        "# point_4\n",
        "\n",
        "a = {10 , 55.55 , 'data' , (1,2,3)} # save in the Memory\n",
        "print(a)"
      ],
      "metadata": {
        "colab": {
          "base_uri": "https://localhost:8080/"
        },
        "id": "dwV_P-QgdYuR",
        "outputId": "99ecd103-03e4-435f-f64b-3dbe86b6e0a7"
      },
      "execution_count": null,
      "outputs": [
        {
          "output_type": "stream",
          "name": "stdout",
          "text": [
            "{'data', 10, (1, 2, 3), 55.55}\n"
          ]
        }
      ]
    },
    {
      "cell_type": "code",
      "source": [
        "# point_4\n",
        "\n",
        "a = {10 , 55.55 , 'data' , [1,2,3]} # save in the Memory\n",
        "print(a)"
      ],
      "metadata": {
        "colab": {
          "base_uri": "https://localhost:8080/",
          "height": 216
        },
        "id": "bleEsWTIeF6o",
        "outputId": "94433dfe-889b-4a45-88ad-ddd14f17ba92"
      },
      "execution_count": null,
      "outputs": [
        {
          "output_type": "error",
          "ename": "TypeError",
          "evalue": "unhashable type: 'list'",
          "traceback": [
            "\u001b[0;31m---------------------------------------------------------------------------\u001b[0m",
            "\u001b[0;31mTypeError\u001b[0m                                 Traceback (most recent call last)",
            "\u001b[0;32m<ipython-input-13-f752499b8906>\u001b[0m in \u001b[0;36m<cell line: 3>\u001b[0;34m()\u001b[0m\n\u001b[1;32m      1\u001b[0m \u001b[0;31m# point_4\u001b[0m\u001b[0;34m\u001b[0m\u001b[0;34m\u001b[0m\u001b[0m\n\u001b[1;32m      2\u001b[0m \u001b[0;34m\u001b[0m\u001b[0m\n\u001b[0;32m----> 3\u001b[0;31m \u001b[0ma\u001b[0m \u001b[0;34m=\u001b[0m \u001b[0;34m{\u001b[0m\u001b[0;36m10\u001b[0m \u001b[0;34m,\u001b[0m \u001b[0;36m55.55\u001b[0m \u001b[0;34m,\u001b[0m \u001b[0;34m'data'\u001b[0m \u001b[0;34m,\u001b[0m \u001b[0;34m[\u001b[0m\u001b[0;36m1\u001b[0m\u001b[0;34m,\u001b[0m\u001b[0;36m2\u001b[0m\u001b[0;34m,\u001b[0m\u001b[0;36m3\u001b[0m\u001b[0;34m]\u001b[0m\u001b[0;34m}\u001b[0m \u001b[0;31m# save in the Memory\u001b[0m\u001b[0;34m\u001b[0m\u001b[0;34m\u001b[0m\u001b[0m\n\u001b[0m\u001b[1;32m      4\u001b[0m \u001b[0mprint\u001b[0m\u001b[0;34m(\u001b[0m\u001b[0ma\u001b[0m\u001b[0;34m)\u001b[0m\u001b[0;34m\u001b[0m\u001b[0;34m\u001b[0m\u001b[0m\n",
            "\u001b[0;31mTypeError\u001b[0m: unhashable type: 'list'"
          ]
        }
      ]
    },
    {
      "cell_type": "markdown",
      "source": [
        "**Python_set_built_in_functions**\n",
        "\n",
        "**addition**\n",
        "- `add`\n",
        "- `update `\n",
        "\n",
        "**deleting**\n",
        "- `pop`\n",
        "- `discard`\n",
        "- `remove`\n",
        "\n",
        "**common work**\n",
        "- `clear`\n",
        "- `copy`\n",
        "- `union`\n",
        "- `intersection `"
      ],
      "metadata": {
        "id": "4Toj1YVjfjO4"
      }
    },
    {
      "cell_type": "code",
      "source": [
        "# add -> will take only 1 input from the user -> and will to the existing set randomly\n",
        "\n",
        "a = {10,5,6,20,98,45} # save in the Memory\n",
        "print(f'Before adding : {a}')\n",
        "\n",
        "a.add(600) # adding 600 to the exising set\n",
        "\n",
        "print(f'After adding : {a}')"
      ],
      "metadata": {
        "colab": {
          "base_uri": "https://localhost:8080/"
        },
        "id": "4KUDoAnbeWRX",
        "outputId": "6f5b93fc-81d8-425d-f6da-71e66e788652"
      },
      "execution_count": null,
      "outputs": [
        {
          "output_type": "stream",
          "name": "stdout",
          "text": [
            "Before adding : {98, 20, 5, 6, 10, 45}\n",
            "After adding : {98, 20, 5, 6, 600, 10, 45}\n"
          ]
        }
      ]
    },
    {
      "cell_type": "code",
      "source": [
        "# update -> it will take multiple values from the user and will add to the existing list randomlly\n",
        "\n",
        "a = {10,5,6,20,98,45} # save in the Memory\n",
        "print(f'Before adding : {a}')\n",
        "\n",
        "a.update([100,200,300]) # 3 values will be added randomly\n",
        "\n",
        "\n",
        "print(f'After adding : {a}')"
      ],
      "metadata": {
        "colab": {
          "base_uri": "https://localhost:8080/"
        },
        "id": "zZvOuv6JgwZP",
        "outputId": "ca027983-43b5-4915-fb10-77849b730503"
      },
      "execution_count": null,
      "outputs": [
        {
          "output_type": "stream",
          "name": "stdout",
          "text": [
            "Before adding : {98, 20, 5, 6, 10, 45}\n",
            "After adding : {5, 6, 200, 10, 20, 98, 100, 300, 45}\n"
          ]
        }
      ]
    },
    {
      "cell_type": "code",
      "source": [
        "# pop -> will remove one value randomly\n",
        "\n",
        "a = {10,5,6,20,98,45} # save in the Memory\n",
        "print(f'Before deleting : {a}')\n",
        "\n",
        "a.pop() # remove one random value\n",
        "\n",
        "print(f'After deleting : {a}')"
      ],
      "metadata": {
        "colab": {
          "base_uri": "https://localhost:8080/"
        },
        "id": "H3jBOHpdihKr",
        "outputId": "2a07eb0c-5823-4521-f803-6b8cfe4aa068"
      },
      "execution_count": null,
      "outputs": [
        {
          "output_type": "stream",
          "name": "stdout",
          "text": [
            "Before deleting : {98, 20, 5, 6, 10, 45}\n",
            "After deleting : {20, 5, 6, 10, 45}\n"
          ]
        }
      ]
    },
    {
      "cell_type": "code",
      "source": [
        "# pop -> will remove one value randomly\n",
        "\n",
        "a = {10,5,6,20,98,45} # save in the Memory\n",
        "print(f'Before deleting : {a}')\n",
        "\n",
        "a.pop(2) # remove one random value\n",
        "\n",
        "print(f'After deleting : {a}')"
      ],
      "metadata": {
        "colab": {
          "base_uri": "https://localhost:8080/",
          "height": 251
        },
        "id": "-8yx3dKejOrr",
        "outputId": "3d63c0a5-3618-4d91-c694-aaccfc9a2589"
      },
      "execution_count": null,
      "outputs": [
        {
          "output_type": "stream",
          "name": "stdout",
          "text": [
            "Before deleting : {98, 20, 5, 6, 10, 45}\n"
          ]
        },
        {
          "output_type": "error",
          "ename": "TypeError",
          "evalue": "set.pop() takes no arguments (1 given)",
          "traceback": [
            "\u001b[0;31m---------------------------------------------------------------------------\u001b[0m",
            "\u001b[0;31mTypeError\u001b[0m                                 Traceback (most recent call last)",
            "\u001b[0;32m<ipython-input-19-e1549c5f54aa>\u001b[0m in \u001b[0;36m<cell line: 6>\u001b[0;34m()\u001b[0m\n\u001b[1;32m      4\u001b[0m \u001b[0mprint\u001b[0m\u001b[0;34m(\u001b[0m\u001b[0;34mf'Before deleting : {a}'\u001b[0m\u001b[0;34m)\u001b[0m\u001b[0;34m\u001b[0m\u001b[0;34m\u001b[0m\u001b[0m\n\u001b[1;32m      5\u001b[0m \u001b[0;34m\u001b[0m\u001b[0m\n\u001b[0;32m----> 6\u001b[0;31m \u001b[0ma\u001b[0m\u001b[0;34m.\u001b[0m\u001b[0mpop\u001b[0m\u001b[0;34m(\u001b[0m\u001b[0;36m2\u001b[0m\u001b[0;34m)\u001b[0m \u001b[0;31m# remove one random value\u001b[0m\u001b[0;34m\u001b[0m\u001b[0;34m\u001b[0m\u001b[0m\n\u001b[0m\u001b[1;32m      7\u001b[0m \u001b[0;34m\u001b[0m\u001b[0m\n\u001b[1;32m      8\u001b[0m \u001b[0mprint\u001b[0m\u001b[0;34m(\u001b[0m\u001b[0;34mf'After deleting : {a}'\u001b[0m\u001b[0;34m)\u001b[0m\u001b[0;34m\u001b[0m\u001b[0;34m\u001b[0m\u001b[0m\n",
            "\u001b[0;31mTypeError\u001b[0m: set.pop() takes no arguments (1 given)"
          ]
        }
      ]
    },
    {
      "cell_type": "code",
      "source": [
        "# discard -> will take only one input from the user and if the input is available it will remove or else it will be silent\n",
        "\n",
        "a = {10,5,6,20,98,45} # save in the Memory\n",
        "print(f'Before deleting : {a}')\n",
        "\n",
        "a.discard(98) # value will be removed\n",
        "\n",
        "print(f'After deleting : {a}')"
      ],
      "metadata": {
        "colab": {
          "base_uri": "https://localhost:8080/"
        },
        "id": "RWwf44bSjh_9",
        "outputId": "a0616be9-41e1-407c-80c4-446ab0259033"
      },
      "execution_count": null,
      "outputs": [
        {
          "output_type": "stream",
          "name": "stdout",
          "text": [
            "Before deleting : {98, 20, 5, 6, 10, 45}\n",
            "After deleting : {20, 5, 6, 10, 45}\n"
          ]
        }
      ]
    },
    {
      "cell_type": "code",
      "source": [
        "# discard -> will take only one input from the user and if the input is available it will remove or else it will be silent\n",
        "\n",
        "a = {10,5,6,20,98,45} # save in the Memory\n",
        "print(f'Before deleting : {a}')\n",
        "\n",
        "a.discard(980) # thi line will be silent\n",
        "\n",
        "print(f'After deleting : {a}')"
      ],
      "metadata": {
        "colab": {
          "base_uri": "https://localhost:8080/"
        },
        "id": "UQmkARMmkFdn",
        "outputId": "2a3c3a40-36f9-4f2a-d2b3-3901639a12bc"
      },
      "execution_count": null,
      "outputs": [
        {
          "output_type": "stream",
          "name": "stdout",
          "text": [
            "Before deleting : {98, 20, 5, 6, 10, 45}\n",
            "After deleting : {98, 20, 5, 6, 10, 45}\n"
          ]
        }
      ]
    },
    {
      "cell_type": "code",
      "source": [
        "# remove -> will take only one input from the user and if the input is available it will remove or else it will Through Error\n",
        "\n",
        "a = {10,5,6,20,98,45} # save in the Memory\n",
        "print(f'Before deleting : {a}')\n",
        "\n",
        "a.remove(98) # value will be removed\n",
        "\n",
        "print(f'After deleting : {a}')"
      ],
      "metadata": {
        "colab": {
          "base_uri": "https://localhost:8080/"
        },
        "id": "E7QQCBSck_Z8",
        "outputId": "2c652161-f152-4041-ec8a-d4bec6b09fa4"
      },
      "execution_count": null,
      "outputs": [
        {
          "output_type": "stream",
          "name": "stdout",
          "text": [
            "Before deleting : {98, 20, 5, 6, 10, 45}\n",
            "After deleting : {20, 5, 6, 10, 45}\n"
          ]
        }
      ]
    },
    {
      "cell_type": "code",
      "source": [
        "# remove -> will take only one input from the user and if the input is available it will remove or else it will Through Error\n",
        "\n",
        "a = {10,5,6,20,98,45} # save in the Memory\n",
        "print(f'Before deleting : {a}')\n",
        "\n",
        "a.remove(980) # it will through Error\n",
        "\n",
        "print(f'After deleting : {a}')"
      ],
      "metadata": {
        "colab": {
          "base_uri": "https://localhost:8080/",
          "height": 251
        },
        "id": "UPQusOyhlQRi",
        "outputId": "bde13a16-e7f6-42d1-bb2c-872cddd1178f"
      },
      "execution_count": null,
      "outputs": [
        {
          "output_type": "stream",
          "name": "stdout",
          "text": [
            "Before deleting : {98, 20, 5, 6, 10, 45}\n"
          ]
        },
        {
          "output_type": "error",
          "ename": "KeyError",
          "evalue": "980",
          "traceback": [
            "\u001b[0;31m---------------------------------------------------------------------------\u001b[0m",
            "\u001b[0;31mKeyError\u001b[0m                                  Traceback (most recent call last)",
            "\u001b[0;32m<ipython-input-24-3752de1de6bf>\u001b[0m in \u001b[0;36m<cell line: 6>\u001b[0;34m()\u001b[0m\n\u001b[1;32m      4\u001b[0m \u001b[0mprint\u001b[0m\u001b[0;34m(\u001b[0m\u001b[0;34mf'Before deleting : {a}'\u001b[0m\u001b[0;34m)\u001b[0m\u001b[0;34m\u001b[0m\u001b[0;34m\u001b[0m\u001b[0m\n\u001b[1;32m      5\u001b[0m \u001b[0;34m\u001b[0m\u001b[0m\n\u001b[0;32m----> 6\u001b[0;31m \u001b[0ma\u001b[0m\u001b[0;34m.\u001b[0m\u001b[0mremove\u001b[0m\u001b[0;34m(\u001b[0m\u001b[0;36m980\u001b[0m\u001b[0;34m)\u001b[0m \u001b[0;31m# it will through Error\u001b[0m\u001b[0;34m\u001b[0m\u001b[0;34m\u001b[0m\u001b[0m\n\u001b[0m\u001b[1;32m      7\u001b[0m \u001b[0;34m\u001b[0m\u001b[0m\n\u001b[1;32m      8\u001b[0m \u001b[0mprint\u001b[0m\u001b[0;34m(\u001b[0m\u001b[0;34mf'After deleting : {a}'\u001b[0m\u001b[0;34m)\u001b[0m\u001b[0;34m\u001b[0m\u001b[0;34m\u001b[0m\u001b[0m\n",
            "\u001b[0;31mKeyError\u001b[0m: 980"
          ]
        }
      ]
    },
    {
      "cell_type": "markdown",
      "source": [
        "**From the Above Operations we can say that Python sets are Mutable data types**"
      ],
      "metadata": {
        "id": "DKTDSwiXlhb9"
      }
    },
    {
      "cell_type": "code",
      "source": [
        "# copy ->\n",
        "# Deep Copy and Shallow Copy\n",
        "\n",
        "# Deep copy\n",
        "\n",
        "a = {10,5,6,20,98,45} # save in the Memory\n",
        "\n",
        "b = a\n",
        "\n",
        "print(a)\n",
        "print(b)\n",
        "\n",
        "print(id(a))\n",
        "print(id(b))"
      ],
      "metadata": {
        "colab": {
          "base_uri": "https://localhost:8080/"
        },
        "id": "oN53XdJYlaz6",
        "outputId": "1133037a-dce7-4cdd-ee0a-913ddd7bfd55"
      },
      "execution_count": null,
      "outputs": [
        {
          "output_type": "stream",
          "name": "stdout",
          "text": [
            "{98, 20, 5, 6, 10, 45}\n",
            "{98, 20, 5, 6, 10, 45}\n",
            "136036803607712\n",
            "136036803607712\n"
          ]
        }
      ]
    },
    {
      "cell_type": "code",
      "source": [
        "# Shallow copy\n",
        "\n",
        "a = {10,5,6,20,98,45} # save in the Memory\n",
        "\n",
        "b = a.copy()\n",
        "\n",
        "print(a)\n",
        "print(b)\n",
        "\n",
        "print(id(a))\n",
        "print(id(b))"
      ],
      "metadata": {
        "colab": {
          "base_uri": "https://localhost:8080/"
        },
        "id": "jT_k3Fn5mU_p",
        "outputId": "653a567b-5a09-4448-ea9a-d29605154bd3"
      },
      "execution_count": null,
      "outputs": [
        {
          "output_type": "stream",
          "name": "stdout",
          "text": [
            "{98, 20, 5, 6, 10, 45}\n",
            "{98, 20, 5, 6, 10, 45}\n",
            "136037789126208\n",
            "136036803607488\n"
          ]
        }
      ]
    },
    {
      "cell_type": "code",
      "source": [
        "# union\n",
        "\n",
        "a = {1,2,3,4,5,6}\n",
        "b = {5,6,7,8,9,10}\n",
        "\n",
        "print(a.union(b))"
      ],
      "metadata": {
        "colab": {
          "base_uri": "https://localhost:8080/"
        },
        "id": "U_h2xuQFmgc4",
        "outputId": "7c05b3c7-f8da-4467-ee79-d2f9c961e60c"
      },
      "execution_count": null,
      "outputs": [
        {
          "output_type": "stream",
          "name": "stdout",
          "text": [
            "{1, 2, 3, 4, 5, 6, 7, 8, 9, 10}\n"
          ]
        }
      ]
    },
    {
      "cell_type": "code",
      "source": [
        "# intersection\n",
        "\n",
        "a = {1,2,3,4,5,6}\n",
        "b = {5,6,7,8,9,10}\n",
        "\n",
        "print(a.intersection(b))"
      ],
      "metadata": {
        "colab": {
          "base_uri": "https://localhost:8080/"
        },
        "id": "HqJKenJrnRWj",
        "outputId": "24827c32-e897-4a12-f62f-d410ca634832"
      },
      "execution_count": null,
      "outputs": [
        {
          "output_type": "stream",
          "name": "stdout",
          "text": [
            "{5, 6}\n"
          ]
        }
      ]
    },
    {
      "cell_type": "code",
      "source": [
        "a = ''\n",
        "print(type(a))"
      ],
      "metadata": {
        "colab": {
          "base_uri": "https://localhost:8080/"
        },
        "id": "sd1fwiAindIO",
        "outputId": "b5d58ac1-657d-4157-e76b-ddf67f668d8f"
      },
      "execution_count": null,
      "outputs": [
        {
          "output_type": "stream",
          "name": "stdout",
          "text": [
            "<class 'str'>\n"
          ]
        }
      ]
    },
    {
      "cell_type": "code",
      "source": [
        "a = []\n",
        "print(type(a))"
      ],
      "metadata": {
        "colab": {
          "base_uri": "https://localhost:8080/"
        },
        "id": "fh5EltIwntGb",
        "outputId": "161998f3-42ab-4347-d5f9-6642e07d874b"
      },
      "execution_count": null,
      "outputs": [
        {
          "output_type": "stream",
          "name": "stdout",
          "text": [
            "<class 'list'>\n"
          ]
        }
      ]
    },
    {
      "cell_type": "code",
      "source": [
        "a = ()\n",
        "print(type(a))"
      ],
      "metadata": {
        "colab": {
          "base_uri": "https://localhost:8080/"
        },
        "id": "Gof2B3vsnwzL",
        "outputId": "58219cac-deb4-4e57-fb3e-050c2196e5e5"
      },
      "execution_count": null,
      "outputs": [
        {
          "output_type": "stream",
          "name": "stdout",
          "text": [
            "<class 'tuple'>\n"
          ]
        }
      ]
    },
    {
      "cell_type": "code",
      "source": [
        "a = {}\n",
        "print(type(a))"
      ],
      "metadata": {
        "colab": {
          "base_uri": "https://localhost:8080/"
        },
        "id": "WWp8ShVrnyvy",
        "outputId": "275284b3-8c4f-4a92-f667-4ff1d1e27d4d"
      },
      "execution_count": null,
      "outputs": [
        {
          "output_type": "stream",
          "name": "stdout",
          "text": [
            "<class 'dict'>\n"
          ]
        }
      ]
    },
    {
      "cell_type": "code",
      "source": [
        "a = {1,10,15,19,25} # save in memory\n",
        "\n",
        "a.clear()\n",
        "\n",
        "print(a)"
      ],
      "metadata": {
        "colab": {
          "base_uri": "https://localhost:8080/"
        },
        "id": "TVJTQdyYn1I_",
        "outputId": "5c7d3fe4-a5a1-466f-9c46-b37884361781"
      },
      "execution_count": null,
      "outputs": [
        {
          "output_type": "stream",
          "name": "stdout",
          "text": [
            "set()\n"
          ]
        }
      ]
    },
    {
      "cell_type": "code",
      "source": [],
      "metadata": {
        "id": "VC1KG0lioOrX"
      },
      "execution_count": null,
      "outputs": []
    }
  ]
}