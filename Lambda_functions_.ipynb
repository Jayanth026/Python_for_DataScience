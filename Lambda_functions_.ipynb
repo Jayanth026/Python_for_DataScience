{
  "nbformat": 4,
  "nbformat_minor": 0,
  "metadata": {
    "colab": {
      "provenance": []
    },
    "kernelspec": {
      "name": "python3",
      "display_name": "Python 3"
    },
    "language_info": {
      "name": "python"
    }
  },
  "cells": [
    {
      "cell_type": "markdown",
      "source": [
        "`lambda functions are know as anonymous Functions `\n",
        "\n",
        "**what is anonymous functions**\n",
        "\n",
        "anonymous functions means a function without a function name\n",
        "\n",
        "\n",
        "\n",
        "syntax:\n",
        "\n",
        "lambda(arguments,expressions)\n"
      ],
      "metadata": {
        "id": "KXqzCU5NEzUu"
      }
    },
    {
      "cell_type": "code",
      "execution_count": null,
      "metadata": {
        "colab": {
          "base_uri": "https://localhost:8080/"
        },
        "id": "r_cOBYG7EkAX",
        "outputId": "e94ac0b2-beca-4c43-c953-50cb30bb302a"
      },
      "outputs": [
        {
          "output_type": "stream",
          "name": "stdout",
          "text": [
            "30\n"
          ]
        }
      ],
      "source": [
        "def fun(a,b):\n",
        "  print(a+b)\n",
        "\n",
        "\n",
        "fun(10,20) # calling"
      ]
    },
    {
      "cell_type": "code",
      "source": [
        "c = lambda a,b : a + b\n",
        "\n",
        "print(c(10,20))"
      ],
      "metadata": {
        "colab": {
          "base_uri": "https://localhost:8080/"
        },
        "id": "RKm-TF5TF84e",
        "outputId": "aa248a07-387b-4c30-b22b-9b2f8cf9ecf1"
      },
      "execution_count": null,
      "outputs": [
        {
          "output_type": "stream",
          "name": "stdout",
          "text": [
            "30\n"
          ]
        }
      ]
    },
    {
      "cell_type": "code",
      "source": [
        "n = 2\n",
        "c = lambda x,y : x*y\n",
        "\n",
        "for i in range(1,11):\n",
        "  print(f'{n} * {i} = {c(n,i)}')"
      ],
      "metadata": {
        "colab": {
          "base_uri": "https://localhost:8080/"
        },
        "id": "Wls9zRknG2kt",
        "outputId": "401a70db-cfa0-4303-d4b8-02c247b9b3b0"
      },
      "execution_count": 1,
      "outputs": [
        {
          "output_type": "stream",
          "name": "stdout",
          "text": [
            "2 * 1 = 2\n",
            "2 * 2 = 4\n",
            "2 * 3 = 6\n",
            "2 * 4 = 8\n",
            "2 * 5 = 10\n",
            "2 * 6 = 12\n",
            "2 * 7 = 14\n",
            "2 * 8 = 16\n",
            "2 * 9 = 18\n",
            "2 * 10 = 20\n"
          ]
        }
      ]
    },
    {
      "cell_type": "code",
      "source": [
        "n = 2\n",
        "c = lambda x,y : x*y\n",
        "\n",
        "for i in range(1,11):\n",
        "  print(c(n,i))"
      ],
      "metadata": {
        "colab": {
          "base_uri": "https://localhost:8080/"
        },
        "id": "VJ5nI3YuIC6n",
        "outputId": "07fb1aad-3021-4993-efc0-29ce5da2ac55"
      },
      "execution_count": null,
      "outputs": [
        {
          "output_type": "stream",
          "name": "stdout",
          "text": [
            "2\n",
            "4\n",
            "6\n",
            "8\n",
            "10\n",
            "12\n",
            "14\n",
            "16\n",
            "18\n",
            "20\n"
          ]
        }
      ]
    },
    {
      "cell_type": "code",
      "source": [
        "a = 27\n",
        "\n",
        "print('My age is',a)"
      ],
      "metadata": {
        "colab": {
          "base_uri": "https://localhost:8080/"
        },
        "id": "Sp7F0RDgIolN",
        "outputId": "7115bfc8-09f6-473e-849e-c1a6579be484"
      },
      "execution_count": null,
      "outputs": [
        {
          "output_type": "stream",
          "name": "stdout",
          "text": [
            "My age is 27\n"
          ]
        }
      ]
    },
    {
      "cell_type": "code",
      "source": [
        "a = 27\n",
        "\n",
        "print(f'My age is -> {a}')"
      ],
      "metadata": {
        "colab": {
          "base_uri": "https://localhost:8080/"
        },
        "id": "zZwhu1yVI-RK",
        "outputId": "2d8194b5-df22-419d-b317-9074f2017032"
      },
      "execution_count": null,
      "outputs": [
        {
          "output_type": "stream",
          "name": "stdout",
          "text": [
            "My age is -> 27\n"
          ]
        }
      ]
    },
    {
      "cell_type": "code",
      "source": [
        "print(f'My age is -> {27}')"
      ],
      "metadata": {
        "colab": {
          "base_uri": "https://localhost:8080/"
        },
        "id": "dMm2esAYJDVd",
        "outputId": "d16137c0-4e3b-4569-b289-1f0fd93208bc"
      },
      "execution_count": null,
      "outputs": [
        {
          "output_type": "stream",
          "name": "stdout",
          "text": [
            "My age is -> 27\n"
          ]
        }
      ]
    },
    {
      "cell_type": "code",
      "source": [
        "x = lambda a, b : a * b\n",
        "print(x(5, 6))"
      ],
      "metadata": {
        "colab": {
          "base_uri": "https://localhost:8080/"
        },
        "id": "3OIfmXstJLyF",
        "outputId": "ed8d4866-fe2e-4a28-a8cf-e43a193a3940"
      },
      "execution_count": null,
      "outputs": [
        {
          "output_type": "stream",
          "name": "stdout",
          "text": [
            "30\n"
          ]
        }
      ]
    },
    {
      "cell_type": "markdown",
      "source": [
        "**Map Filter reduce**"
      ],
      "metadata": {
        "id": "_yfzKW3mJqx8"
      }
    },
    {
      "cell_type": "markdown",
      "source": [
        "`Map function is used to take values internally so that there is no need of forloop `\n",
        "\n",
        "`syntax -> Map(function,iterators)`"
      ],
      "metadata": {
        "id": "U6pVHewAKD9E"
      }
    },
    {
      "cell_type": "code",
      "source": [
        "def fun(a,b):\n",
        "  for i in range(a,b):\n",
        "    if i%2 == 0:\n",
        "      print(f'Even : {i}')\n",
        "\n",
        "fun(11,21)"
      ],
      "metadata": {
        "colab": {
          "base_uri": "https://localhost:8080/"
        },
        "id": "zcBYFX1GKaT4",
        "outputId": "f8d7de42-0f2f-4a17-b7fe-01145a1735a1"
      },
      "execution_count": null,
      "outputs": [
        {
          "output_type": "stream",
          "name": "stdout",
          "text": [
            "Even : 12\n",
            "Even : 14\n",
            "Even : 16\n",
            "Even : 18\n",
            "Even : 20\n"
          ]
        }
      ]
    },
    {
      "cell_type": "code",
      "source": [
        "# Map -> map(function,iterables)\n",
        "\n",
        "\n",
        "\n",
        "def sharuk(b):\n",
        "  if b%2 == 0:\n",
        "    return b\n",
        "\n",
        "\n",
        "\n",
        "sol = map(sharuk,[11,12,13,14,15])\n",
        "print(list(sol))\n"
      ],
      "metadata": {
        "colab": {
          "base_uri": "https://localhost:8080/"
        },
        "id": "Ueac2W0wJZm7",
        "outputId": "94c0829f-a65a-4cca-c9f6-7453ffe36fbc"
      },
      "execution_count": null,
      "outputs": [
        {
          "output_type": "stream",
          "name": "stdout",
          "text": [
            "[None, 12, None, 14, None]\n"
          ]
        }
      ]
    },
    {
      "cell_type": "code",
      "source": [
        "sol = map(lambda x : x%2 == 0 ,[11,12,13,14,15])\n",
        "print(list(sol))"
      ],
      "metadata": {
        "colab": {
          "base_uri": "https://localhost:8080/"
        },
        "id": "wx1b01WuMEF3",
        "outputId": "00887869-ca9d-4b23-a80b-bc029e3a03b7"
      },
      "execution_count": 4,
      "outputs": [
        {
          "output_type": "stream",
          "name": "stdout",
          "text": [
            "[False, True, False, True, False]\n"
          ]
        }
      ]
    },
    {
      "cell_type": "code",
      "source": [
        "def fun(a):\n",
        "  if a%2==0:\n",
        "    return a\n",
        "sol=map(fun,[1,2,3,4,5,6])\n",
        "print(list(sol))"
      ],
      "metadata": {
        "id": "rvhZUlvJ21gH",
        "outputId": "e092365a-5b42-4db7-9950-882de1fffc0e",
        "colab": {
          "base_uri": "https://localhost:8080/"
        }
      },
      "execution_count": 7,
      "outputs": [
        {
          "output_type": "stream",
          "name": "stdout",
          "text": [
            "[None, 2, None, 4, None, 6]\n"
          ]
        }
      ]
    },
    {
      "cell_type": "code",
      "source": [
        "# Filter -> Filter(function,iterables)\n",
        "def sharuk(b):\n",
        "  if b%2 == 0:\n",
        "    return b\n",
        "\n",
        "sol = filter(sharuk,[11,12,13,14,15])\n",
        "print(list(sol))"
      ],
      "metadata": {
        "colab": {
          "base_uri": "https://localhost:8080/"
        },
        "id": "Jk-3fPW-M-_A",
        "outputId": "32068c08-2bce-4bd5-cd5f-6bc1205c433b"
      },
      "execution_count": null,
      "outputs": [
        {
          "output_type": "stream",
          "name": "stdout",
          "text": [
            "[12, 14]\n"
          ]
        }
      ]
    },
    {
      "cell_type": "code",
      "source": [
        "sol = filter(lambda x : x%2 == 0,[11,12,13,14,15])\n",
        "print(list(sol))"
      ],
      "metadata": {
        "colab": {
          "base_uri": "https://localhost:8080/"
        },
        "id": "mTSBGNu8NbA6",
        "outputId": "6e6c88ae-cc28-41ad-9e2d-96797072e600"
      },
      "execution_count": null,
      "outputs": [
        {
          "output_type": "stream",
          "name": "stdout",
          "text": [
            "[12, 14]\n"
          ]
        }
      ]
    },
    {
      "cell_type": "code",
      "source": [
        "from functools import reduce"
      ],
      "metadata": {
        "id": "hpAopZbfOCge"
      },
      "execution_count": 10,
      "outputs": []
    },
    {
      "cell_type": "code",
      "source": [
        "reduce(lambda x,y : x+y , [4,8,12,6,9])"
      ],
      "metadata": {
        "colab": {
          "base_uri": "https://localhost:8080/"
        },
        "id": "0vxJbuWaO2Rc",
        "outputId": "b588442d-00b5-417b-968d-1946900b8676"
      },
      "execution_count": 16,
      "outputs": [
        {
          "output_type": "execute_result",
          "data": {
            "text/plain": [
              "39"
            ]
          },
          "metadata": {},
          "execution_count": 16
        }
      ]
    },
    {
      "cell_type": "markdown",
      "source": [
        "**Map With Filter**"
      ],
      "metadata": {
        "id": "GIbetxzhRPd8"
      }
    },
    {
      "cell_type": "code",
      "source": [
        "sol = map(lambda x: x+10 , filter(lambda x:x%2==0 , [10,11,12,14,15,21]))\n",
        "print(list(sol))"
      ],
      "metadata": {
        "colab": {
          "base_uri": "https://localhost:8080/"
        },
        "id": "CHi717VtP8P9",
        "outputId": "ce718c5e-d78b-42d6-9175-7b763f1339d2"
      },
      "execution_count": null,
      "outputs": [
        {
          "output_type": "stream",
          "name": "stdout",
          "text": [
            "[20, 22, 24]\n"
          ]
        }
      ]
    },
    {
      "cell_type": "markdown",
      "source": [
        "**Filter_with_map**"
      ],
      "metadata": {
        "id": "rpGBuX1mRZ1k"
      }
    },
    {
      "cell_type": "code",
      "source": [
        "\n",
        "sol = filter(lambda x:x%2 == 0 , map(lambda x : x + 20 , [1,2,3,4,5]))\n",
        "print(list(sol))"
      ],
      "metadata": {
        "colab": {
          "base_uri": "https://localhost:8080/"
        },
        "id": "CuKU1AlrRVGC",
        "outputId": "e20641f0-0a1a-4971-9e9e-09699e381b02"
      },
      "execution_count": null,
      "outputs": [
        {
          "output_type": "stream",
          "name": "stdout",
          "text": [
            "[22, 24]\n"
          ]
        }
      ]
    },
    {
      "cell_type": "markdown",
      "source": [
        "**reduce with Map and filter**"
      ],
      "metadata": {
        "id": "kzXVcft2SA7N"
      }
    },
    {
      "cell_type": "code",
      "source": [
        "sol = reduce(lambda x,y:x+y, map(lambda x:x+2,filter(lambda x : x%2 == 0,[10,11,12,13,14,15,16,17,18])))\n",
        "print(sol)"
      ],
      "metadata": {
        "colab": {
          "base_uri": "https://localhost:8080/"
        },
        "id": "NBRJpBnCR41w",
        "outputId": "1e62fe29-90cb-4074-8d9c-7b4a16581136"
      },
      "execution_count": null,
      "outputs": [
        {
          "output_type": "stream",
          "name": "stdout",
          "text": [
            "80\n"
          ]
        }
      ]
    },
    {
      "cell_type": "code",
      "source": [
        "sol = reduce(lambda x,y:x+y, [12, 14, 16, 18, 20])\n",
        "print(sol)"
      ],
      "metadata": {
        "id": "g1RkbprETVB2"
      },
      "execution_count": null,
      "outputs": []
    },
    {
      "cell_type": "code",
      "source": [
        "list(filter(lambda x : x%2 == 0,[10,11,12,13,14,15,16,17,18]))"
      ],
      "metadata": {
        "colab": {
          "base_uri": "https://localhost:8080/"
        },
        "id": "sVklk7oYTIe3",
        "outputId": "671c4310-cb6e-4f7a-c851-faacc328223b"
      },
      "execution_count": null,
      "outputs": [
        {
          "output_type": "execute_result",
          "data": {
            "text/plain": [
              "[10, 12, 14, 16, 18]"
            ]
          },
          "metadata": {},
          "execution_count": 31
        }
      ]
    },
    {
      "cell_type": "code",
      "source": [
        "list(map(lambda x:x+2,[10, 12, 14, 16, 18]))"
      ],
      "metadata": {
        "colab": {
          "base_uri": "https://localhost:8080/"
        },
        "id": "tUm8TXhYTRTH",
        "outputId": "4a955914-651a-4451-dd25-9fa04d147cce"
      },
      "execution_count": null,
      "outputs": [
        {
          "output_type": "execute_result",
          "data": {
            "text/plain": [
              "[12, 14, 16, 18, 20]"
            ]
          },
          "metadata": {},
          "execution_count": 33
        }
      ]
    },
    {
      "cell_type": "code",
      "source": [
        "a = [12, 14, 16, 18, 20]\n",
        "reduce(lambda x,y:x+y, a)"
      ],
      "metadata": {
        "colab": {
          "base_uri": "https://localhost:8080/"
        },
        "id": "hTld_l_rTbe3",
        "outputId": "105851bb-e051-41d4-8bfc-1c50f78969fc"
      },
      "execution_count": null,
      "outputs": [
        {
          "output_type": "execute_result",
          "data": {
            "text/plain": [
              "80"
            ]
          },
          "metadata": {},
          "execution_count": 35
        }
      ]
    }
  ]
}