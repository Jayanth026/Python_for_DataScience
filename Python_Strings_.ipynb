{
  "cells": [
    {
      "cell_type": "markdown",
      "id": "db689fc2",
      "metadata": {
        "id": "db689fc2"
      },
      "source": [
        "### Question 1: Write a Python program to count the number of characters in a string without using len function.\n",
        "\n",
        "- `sample input : `\n",
        "    - `var = 'python java'`\n",
        "- `sample output :`\n",
        "    - `result : 11`"
      ]
    },
    {
      "cell_type": "code",
      "execution_count": 2,
      "id": "c9ce9180",
      "metadata": {
        "colab": {
          "base_uri": "https://localhost:8080/"
        },
        "id": "c9ce9180",
        "outputId": "896fd658-12b6-426c-ad34-68ea923b5994"
      },
      "outputs": [
        {
          "output_type": "stream",
          "name": "stdout",
          "text": [
            "11\n"
          ]
        }
      ],
      "source": [
        "# Please write The solution Here for above question 1:\n",
        "var='python java'\n",
        "c=0\n",
        "for i in var:\n",
        "  c=c+1\n",
        "print(c)"
      ]
    },
    {
      "cell_type": "markdown",
      "id": "46f069cc",
      "metadata": {
        "id": "46f069cc"
      },
      "source": [
        "### Question 2: Write a Python program to reverse a string without using [::-1]\n",
        "\n",
        "- `sample input : `\n",
        "    - `var = 'python'`\n",
        "- `sample output :`\n",
        "    - `result : nohtyp`"
      ]
    },
    {
      "cell_type": "code",
      "execution_count": 3,
      "id": "2cde3dcc",
      "metadata": {
        "colab": {
          "base_uri": "https://localhost:8080/"
        },
        "id": "2cde3dcc",
        "outputId": "19195ef9-d4f8-4a00-fdec-be289f47ec1f"
      },
      "outputs": [
        {
          "output_type": "stream",
          "name": "stdout",
          "text": [
            "nohtyp\n"
          ]
        }
      ],
      "source": [
        "# Please write The solution Here for above question 2:\n",
        "var='python'\n",
        "s=''\n",
        "for i in var:\n",
        "  s=i+s\n",
        "print(s)"
      ]
    },
    {
      "cell_type": "markdown",
      "id": "0f3a2ef5",
      "metadata": {
        "id": "0f3a2ef5"
      },
      "source": [
        "### Question 3: Write a Python program to check if a string is a palindrome don't use [::-1].\n",
        "\n",
        "- `sample input : `\n",
        "    - `var = 'NUN'`\n",
        "- `sample output :`\n",
        "    - `result : It is a Palindrome`\n",
        "    \n",
        "- `palindrome concept = https://www.dictionary.com/e/palindromic-word/#:~:text=A%20palindrome%20is%20a%20word,roots%20in%20the%20early%201600s.`"
      ]
    },
    {
      "cell_type": "code",
      "execution_count": 21,
      "id": "74b9f01a",
      "metadata": {
        "colab": {
          "base_uri": "https://localhost:8080/"
        },
        "id": "74b9f01a",
        "outputId": "7ee0dfaa-9587-4e67-cfa5-ee5e5173c214"
      },
      "outputs": [
        {
          "output_type": "stream",
          "name": "stdout",
          "text": [
            "It is palindrome\n"
          ]
        }
      ],
      "source": [
        "# Please write The solution Here for above question 3:\n",
        "var='NUN'\n",
        "s=''\n",
        "for i in var:\n",
        "  s=i+s\n",
        "if var==s:\n",
        "  print('It is palindrome')\n",
        "else:print('not a palindrome')"
      ]
    },
    {
      "cell_type": "markdown",
      "id": "98e0fc60",
      "metadata": {
        "id": "98e0fc60"
      },
      "source": [
        "### Question 4: Write a Python program to find the most common character in a string.\n",
        "\n",
        "- `sample input : `\n",
        "    - `var = 'Hello world '`\n",
        "- `sample output :`\n",
        "    - `result : l, because l is repeating 3 times `"
      ]
    },
    {
      "cell_type": "code",
      "execution_count": 112,
      "id": "d9aa4ca6",
      "metadata": {
        "colab": {
          "base_uri": "https://localhost:8080/"
        },
        "id": "d9aa4ca6",
        "outputId": "01dafc50-0d3f-426b-8b20-1abd71aa2fbe"
      },
      "outputs": [
        {
          "output_type": "stream",
          "name": "stdout",
          "text": [
            "l, because l is repeating 3 times\n"
          ]
        }
      ],
      "source": [
        "# Please write The solution Here for above question 4:\n",
        "var = 'Hello world '\n",
        "s=''\n",
        "r=0\n",
        "for i in var:\n",
        "  if i.isalpha():\n",
        "    count= var.count(i)\n",
        "    if count>r:\n",
        "      r=count\n",
        "      s=i\n",
        "print(f'{s}, because {s} is repeating {r} times')"
      ]
    },
    {
      "cell_type": "markdown",
      "id": "17eb44eb",
      "metadata": {
        "id": "17eb44eb"
      },
      "source": [
        "### Question 5: Write a Python program to check if two strings are anagrams.\n",
        "\n",
        "- `sample input : `\n",
        "    - `var1 = 'listen'`\n",
        "    - `var2 = 'silent'`\n",
        "- `sample output :`\n",
        "    - `result : both are anagram because characters in var2 is in var1`"
      ]
    },
    {
      "cell_type": "code",
      "execution_count": 169,
      "id": "29f0e87e",
      "metadata": {
        "colab": {
          "base_uri": "https://localhost:8080/"
        },
        "id": "29f0e87e",
        "outputId": "a32fdbae-b6ce-4d65-f9e5-70b887454ea0"
      },
      "outputs": [
        {
          "output_type": "stream",
          "name": "stdout",
          "text": [
            "both are anagram because characters in var2 is in var1\n"
          ]
        }
      ],
      "source": [
        "# Please write The solution Here for above question 5:\n",
        "var1='listen'\n",
        "var2='silent'\n",
        "var1=var1.lower()\n",
        "var2=var2.lower()\n",
        "var1_sorted=sorted(var1)\n",
        "var2_sorted=sorted(var2)\n",
        "if var1_sorted == var2_sorted:\n",
        "  print('both are anagram because characters in var2 is in var1')\n",
        "else:\n",
        "  print('not an anagram')"
      ]
    },
    {
      "cell_type": "markdown",
      "id": "fac17884",
      "metadata": {
        "id": "fac17884"
      },
      "source": [
        "### Question 6: Write a Python program to remove all the vowels from a string.\n",
        "\n",
        "- `sample input : `\n",
        "    - `var = 'python'`\n",
        "- `sample output :`\n",
        "    - `result : pythn , because vowels are [AEIOUaeiou]`"
      ]
    },
    {
      "cell_type": "code",
      "execution_count": 195,
      "id": "f4b33095",
      "metadata": {
        "colab": {
          "base_uri": "https://localhost:8080/"
        },
        "id": "f4b33095",
        "outputId": "d7a10a38-6253-442e-a196-de08a3357a51"
      },
      "outputs": [
        {
          "output_type": "stream",
          "name": "stdout",
          "text": [
            "pythn\n"
          ]
        }
      ],
      "source": [
        "# Please write The solution Here for above question 6:\n",
        "var='python'\n",
        "var=var.lower()\n",
        "v='AEIOUaeiou'\n",
        "s=''\n",
        "for i in var:\n",
        "  if i not in v:\n",
        "    s=s+i\n",
        "print(s)"
      ]
    },
    {
      "cell_type": "markdown",
      "id": "2170d6f4",
      "metadata": {
        "id": "2170d6f4"
      },
      "source": [
        "### Question 7: Write a Python program to find the longest word in a string.\n",
        "\n",
        "- `sample input : `\n",
        "    - `var = 'python is Easy Language'`\n",
        "- `sample output :`\n",
        "    - `result : Language`"
      ]
    },
    {
      "cell_type": "code",
      "execution_count": null,
      "id": "f35de8b3",
      "metadata": {
        "id": "f35de8b3"
      },
      "outputs": [],
      "source": [
        "# Please write The solution Here for above question 7:\n"
      ]
    },
    {
      "cell_type": "code",
      "source": [
        "var='python is Easy Language'\n",
        "a=var.split()\n",
        "result=''\n",
        "for i in a:\n",
        "  if i=='Language':\n",
        "    result=i\n",
        "print(result)"
      ],
      "metadata": {
        "colab": {
          "base_uri": "https://localhost:8080/"
        },
        "id": "am3mq946KUV4",
        "outputId": "e3dd489a-dcaa-4958-f551-5ce211724b63"
      },
      "id": "am3mq946KUV4",
      "execution_count": 1,
      "outputs": [
        {
          "output_type": "stream",
          "name": "stdout",
          "text": [
            "Language\n"
          ]
        }
      ]
    },
    {
      "cell_type": "markdown",
      "id": "f349bdb7",
      "metadata": {
        "id": "f349bdb7"
      },
      "source": [
        "### Question 8: Write a Python program to capitalize the first letter of each word in a string [dont use built-in-function title].\n",
        "\n",
        "- `sample input : `\n",
        "    - `var = 'python is easy'`\n",
        "- `sample output :`\n",
        "    - `result : Python Is Easy`"
      ]
    },
    {
      "cell_type": "code",
      "execution_count": 10,
      "id": "a1b4c4e6",
      "metadata": {
        "colab": {
          "base_uri": "https://localhost:8080/"
        },
        "id": "a1b4c4e6",
        "outputId": "919a6e2d-7908-41d5-b0e4-c98348d0d94c"
      },
      "outputs": [
        {
          "output_type": "stream",
          "name": "stdout",
          "text": [
            "Python Is Easy "
          ]
        }
      ],
      "source": [
        "# Please write The solution Here for above question 8:\n",
        "var = 'python is easy'\n",
        "for i in var.split():\n",
        "  print(i.capitalize(),end=' ')"
      ]
    },
    {
      "cell_type": "markdown",
      "id": "d2770696",
      "metadata": {
        "id": "d2770696"
      },
      "source": [
        " ### Question 9: Write a Python program to find the frequency of each character in a string.\n",
        "\n",
        "- `sample input : `\n",
        "    - `var = 'sharuk khan'`\n",
        "- `sample output :`\n",
        "    - `result : {'s': 1, 'h': 2, 'a': 2, 'r': 1, 'u': 1, 'k': 2, ' ': 1, 'n': 1}`"
      ]
    },
    {
      "cell_type": "code",
      "execution_count": 154,
      "id": "7fdc2e9c",
      "metadata": {
        "colab": {
          "base_uri": "https://localhost:8080/"
        },
        "id": "7fdc2e9c",
        "outputId": "f70a29ca-45cc-4aea-8cf4-1eb46fdedd4a"
      },
      "outputs": [
        {
          "output_type": "stream",
          "name": "stdout",
          "text": [
            "result : {'s': 1, 'h': 2, 'a': 2, 'r': 1, 'u': 1, 'k': 2, ' ': 1, 'n': 1}\n"
          ]
        }
      ],
      "source": [
        "# Please write The solution Here for above question 9:\n",
        "var='sharuk khan'\n",
        "d={}\n",
        "for i in var:\n",
        "  if i not in d:\n",
        "    d[i]=1\n",
        "  else:\n",
        "    d[i]=d[i]+1\n",
        "print(f'result : {d}')"
      ]
    },
    {
      "cell_type": "markdown",
      "id": "5c9a3f09",
      "metadata": {
        "id": "5c9a3f09"
      },
      "source": [
        "### Question 10: write a python programme to find the sum of all the even characters based on Ascii values\n",
        "\n",
        "- `sample input : `\n",
        "    - `var = 'sharuk khan'`\n",
        "- `sample output :`\n",
        "    - `result : 464`\n"
      ]
    },
    {
      "cell_type": "code",
      "execution_count": 14,
      "id": "57c0c30e",
      "metadata": {
        "colab": {
          "base_uri": "https://localhost:8080/"
        },
        "id": "57c0c30e",
        "outputId": "d1092575-3fe4-4b51-ff82-d20849039bae"
      },
      "outputs": [
        {
          "output_type": "stream",
          "name": "stdout",
          "text": [
            "result : 464\n"
          ]
        }
      ],
      "source": [
        "# Please write The solution Here for above question 10:\n",
        "var = 'sharuk khan'\n",
        "c=0\n",
        "for i in var:\n",
        "  if ord(i)%2==0:\n",
        "    c=c+ord(i)\n",
        "print(f'result : {c}')\n",
        "# saikamal9797@gmail.com"
      ]
    },
    {
      "cell_type": "code",
      "execution_count": 12,
      "id": "0cb2936c",
      "metadata": {
        "id": "0cb2936c"
      },
      "outputs": [],
      "source": []
    },
    {
      "cell_type": "code",
      "source": [],
      "metadata": {
        "id": "8oZH8-fYarJ_"
      },
      "id": "8oZH8-fYarJ_",
      "execution_count": null,
      "outputs": []
    }
  ],
  "metadata": {
    "kernelspec": {
      "display_name": "Python 3 (ipykernel)",
      "language": "python",
      "name": "python3"
    },
    "language_info": {
      "codemirror_mode": {
        "name": "ipython",
        "version": 3
      },
      "file_extension": ".py",
      "mimetype": "text/x-python",
      "name": "python",
      "nbconvert_exporter": "python",
      "pygments_lexer": "ipython3",
      "version": "3.11.5"
    },
    "colab": {
      "provenance": []
    }
  },
  "nbformat": 4,
  "nbformat_minor": 5
}