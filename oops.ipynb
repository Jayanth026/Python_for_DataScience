{
  "nbformat": 4,
  "nbformat_minor": 0,
  "metadata": {
    "colab": {
      "provenance": []
    },
    "kernelspec": {
      "name": "python3",
      "display_name": "Python 3"
    },
    "language_info": {
      "name": "python"
    }
  },
  "cells": [
    {
      "cell_type": "markdown",
      "source": [
        "OOPS -> Object Oriented Programming System\n",
        "\n",
        "- `class `\n",
        "- `object`\n",
        "- `constructor ********`\n",
        "- `self `\n",
        "- `Inheritance `\n",
        "- `Polymorphisam `\n",
        "- `Abstraction `\n",
        "- `Encapusulation `"
      ],
      "metadata": {
        "id": "Jl4pSs2l8e2L"
      }
    },
    {
      "cell_type": "code",
      "execution_count": null,
      "metadata": {
        "colab": {
          "base_uri": "https://localhost:8080/"
        },
        "id": "g5VJvIrQ8Pfa",
        "outputId": "433b8c45-e676-4bb8-dfa8-cbef6f7b56ab"
      },
      "outputs": [
        {
          "output_type": "execute_result",
          "data": {
            "text/plain": [
              "100"
            ]
          },
          "metadata": {},
          "execution_count": 1
        }
      ],
      "source": [
        "class CSE:\n",
        "  a=100\n",
        "\n",
        "\n",
        "sharuk = CSE()\n",
        "sharuk.a"
      ]
    },
    {
      "cell_type": "code",
      "source": [
        "length = 10\n",
        "breadth = 20\n",
        "\n",
        "print(length * breadth)"
      ],
      "metadata": {
        "colab": {
          "base_uri": "https://localhost:8080/"
        },
        "id": "x21fLpkoAOmO",
        "outputId": "95f310aa-88ce-460e-8bdf-72ef944feb2e"
      },
      "execution_count": null,
      "outputs": [
        {
          "output_type": "stream",
          "name": "stdout",
          "text": [
            "200\n"
          ]
        }
      ]
    },
    {
      "cell_type": "code",
      "source": [
        "class ECE:\n",
        "  l = 10\n",
        "  b = 20\n",
        "\n",
        "\n",
        "anil = ECE()\n",
        "\n",
        "print(anil.l * anil.b)"
      ],
      "metadata": {
        "colab": {
          "base_uri": "https://localhost:8080/"
        },
        "id": "diAyE03PAzkY",
        "outputId": "e9c96e9d-39dc-476b-e5d7-f75668d65e60"
      },
      "execution_count": null,
      "outputs": [
        {
          "output_type": "stream",
          "name": "stdout",
          "text": [
            "200\n"
          ]
        }
      ]
    },
    {
      "cell_type": "code",
      "source": [
        "class ECE:\n",
        "  l = 10\n",
        "  b = 20\n",
        "\n",
        "\n",
        "print(ECE.l * ECE.b)"
      ],
      "metadata": {
        "colab": {
          "base_uri": "https://localhost:8080/"
        },
        "id": "8InPoATgBc8M",
        "outputId": "daafda75-f850-4147-8ad7-823bad8bb09d"
      },
      "execution_count": null,
      "outputs": [
        {
          "output_type": "stream",
          "name": "stdout",
          "text": [
            "200\n"
          ]
        }
      ]
    },
    {
      "cell_type": "code",
      "source": [
        "class MECH:\n",
        "  pass\n",
        "\n",
        "\n",
        "\n",
        "anil = MECH()\n",
        "anil.praveen = 10\n",
        "anil.suresh = 20\n",
        "\n",
        "\n",
        "print(anil.praveen * anil.suresh)"
      ],
      "metadata": {
        "colab": {
          "base_uri": "https://localhost:8080/"
        },
        "id": "YJ0PB7leCPhT",
        "outputId": "600e9cfb-9300-4683-bcc0-22e9ec88a331"
      },
      "execution_count": null,
      "outputs": [
        {
          "output_type": "stream",
          "name": "stdout",
          "text": [
            "200\n"
          ]
        }
      ]
    },
    {
      "cell_type": "code",
      "source": [
        "class MECH:\n",
        "  pass\n",
        "\n",
        "\n",
        "\n",
        "MECH.praveen = 10\n",
        "MECH.suresh = 20\n",
        "\n",
        "\n",
        "print(MECH.praveen * MECH.suresh)"
      ],
      "metadata": {
        "colab": {
          "base_uri": "https://localhost:8080/"
        },
        "id": "lAmAcq6RDlBu",
        "outputId": "d169dc5a-743d-4bcf-b916-ec5dd1ec5083"
      },
      "execution_count": null,
      "outputs": [
        {
          "output_type": "stream",
          "name": "stdout",
          "text": [
            "200\n"
          ]
        }
      ]
    },
    {
      "cell_type": "markdown",
      "source": [
        "constructors are two types\n",
        "\n",
        "1. Non parameter constructor\n",
        "\n",
        "\n",
        "2. Parameter constructor"
      ],
      "metadata": {
        "id": "a1sAMnmqFDf2"
      }
    },
    {
      "cell_type": "code",
      "source": [
        "# Non-parameter constructor\n",
        "\n",
        "class CSE:\n",
        "  def __init__(self):\n",
        "    print('good morning')\n",
        "\n",
        "anil = CSE()"
      ],
      "metadata": {
        "colab": {
          "base_uri": "https://localhost:8080/"
        },
        "id": "4pOD_wt5EAfX",
        "outputId": "498db402-7fa0-44a6-ee14-477dc4c2bd69"
      },
      "execution_count": null,
      "outputs": [
        {
          "output_type": "stream",
          "name": "stdout",
          "text": [
            "good morning\n"
          ]
        }
      ]
    },
    {
      "cell_type": "code",
      "source": [
        "class CSE:\n",
        "  l = 10\n",
        "  b = 20\n",
        "\n",
        "\n",
        "anil = CSE()\n",
        "print(anil.l * anil.b)"
      ],
      "metadata": {
        "colab": {
          "base_uri": "https://localhost:8080/"
        },
        "id": "lEPnuMU4G1-s",
        "outputId": "36d3476a-7eea-4c11-f0c6-5035bed37228"
      },
      "execution_count": null,
      "outputs": [
        {
          "output_type": "stream",
          "name": "stdout",
          "text": [
            "200\n"
          ]
        }
      ]
    },
    {
      "cell_type": "code",
      "source": [
        "class CSE:\n",
        "  def __init__(self):\n",
        "    self.l = 10\n",
        "    self.b = 20\n",
        "    print(self.l * self.b)\n",
        "\n",
        "\n",
        "anil = CSE()\n"
      ],
      "metadata": {
        "colab": {
          "base_uri": "https://localhost:8080/"
        },
        "id": "WF0lOZFuHYWJ",
        "outputId": "8d5e83b4-0145-44e1-91a0-3b4423a792e8"
      },
      "execution_count": null,
      "outputs": [
        {
          "output_type": "stream",
          "name": "stdout",
          "text": [
            "200\n"
          ]
        }
      ]
    },
    {
      "cell_type": "code",
      "source": [
        "class CSE:\n",
        "  def __init__(a):\n",
        "    a.l = 10\n",
        "    a.b = 20\n",
        "    print(a.l * a.b)\n",
        "\n",
        "\n",
        "anil = CSE()\n"
      ],
      "metadata": {
        "colab": {
          "base_uri": "https://localhost:8080/"
        },
        "id": "BH-lKxZaIRjU",
        "outputId": "bcd4c28b-8a11-418b-c0d9-8bd1422f4707"
      },
      "execution_count": null,
      "outputs": [
        {
          "output_type": "stream",
          "name": "stdout",
          "text": [
            "200\n"
          ]
        }
      ]
    },
    {
      "cell_type": "code",
      "source": [
        "class CSE:\n",
        "  def __init__(self,a,b):\n",
        "    self.a = a\n",
        "    self.b = b\n",
        "    print(self.a * self.b)\n",
        "\n",
        "\n",
        "\n",
        "anil = CSE(10,20)"
      ],
      "metadata": {
        "colab": {
          "base_uri": "https://localhost:8080/"
        },
        "id": "QXgkmtjcItJ_",
        "outputId": "5beeb3dc-515b-4e9f-9ac7-d1028a64c462"
      },
      "execution_count": null,
      "outputs": [
        {
          "output_type": "stream",
          "name": "stdout",
          "text": [
            "200\n"
          ]
        }
      ]
    },
    {
      "cell_type": "code",
      "source": [
        "class ECE:\n",
        "  def addition(self):\n",
        "    a = 10\n",
        "    b = 20\n",
        "    print(a + b)\n",
        "\n",
        "  def subtraction(self):\n",
        "    print(self.a-self.b)\n",
        "\n",
        "anil = ECE()\n",
        "anil.addition()\n",
        "anil.subtraction()"
      ],
      "metadata": {
        "colab": {
          "base_uri": "https://localhost:8080/",
          "height": 339
        },
        "id": "0Ox_Q1F0KJWx",
        "outputId": "7e973226-2c31-40de-a7cd-d0d672aec241"
      },
      "execution_count": null,
      "outputs": [
        {
          "output_type": "stream",
          "name": "stdout",
          "text": [
            "30\n"
          ]
        },
        {
          "output_type": "error",
          "ename": "AttributeError",
          "evalue": "'ECE' object has no attribute 'a'",
          "traceback": [
            "\u001b[0;31m---------------------------------------------------------------------------\u001b[0m",
            "\u001b[0;31mAttributeError\u001b[0m                            Traceback (most recent call last)",
            "\u001b[0;32m<ipython-input-15-06b7b258eef4>\u001b[0m in \u001b[0;36m<cell line: 12>\u001b[0;34m()\u001b[0m\n\u001b[1;32m     10\u001b[0m \u001b[0manil\u001b[0m \u001b[0;34m=\u001b[0m \u001b[0mECE\u001b[0m\u001b[0;34m(\u001b[0m\u001b[0;34m)\u001b[0m\u001b[0;34m\u001b[0m\u001b[0;34m\u001b[0m\u001b[0m\n\u001b[1;32m     11\u001b[0m \u001b[0manil\u001b[0m\u001b[0;34m.\u001b[0m\u001b[0maddition\u001b[0m\u001b[0;34m(\u001b[0m\u001b[0;34m)\u001b[0m\u001b[0;34m\u001b[0m\u001b[0;34m\u001b[0m\u001b[0m\n\u001b[0;32m---> 12\u001b[0;31m \u001b[0manil\u001b[0m\u001b[0;34m.\u001b[0m\u001b[0msubtraction\u001b[0m\u001b[0;34m(\u001b[0m\u001b[0;34m)\u001b[0m\u001b[0;34m\u001b[0m\u001b[0;34m\u001b[0m\u001b[0m\n\u001b[0m",
            "\u001b[0;32m<ipython-input-15-06b7b258eef4>\u001b[0m in \u001b[0;36msubtraction\u001b[0;34m(self)\u001b[0m\n\u001b[1;32m      6\u001b[0m \u001b[0;34m\u001b[0m\u001b[0m\n\u001b[1;32m      7\u001b[0m   \u001b[0;32mdef\u001b[0m \u001b[0msubtraction\u001b[0m\u001b[0;34m(\u001b[0m\u001b[0mself\u001b[0m\u001b[0;34m)\u001b[0m\u001b[0;34m:\u001b[0m\u001b[0;34m\u001b[0m\u001b[0;34m\u001b[0m\u001b[0m\n\u001b[0;32m----> 8\u001b[0;31m     \u001b[0mprint\u001b[0m\u001b[0;34m(\u001b[0m\u001b[0mself\u001b[0m\u001b[0;34m.\u001b[0m\u001b[0ma\u001b[0m\u001b[0;34m-\u001b[0m\u001b[0mself\u001b[0m\u001b[0;34m.\u001b[0m\u001b[0mb\u001b[0m\u001b[0;34m)\u001b[0m\u001b[0;34m\u001b[0m\u001b[0;34m\u001b[0m\u001b[0m\n\u001b[0m\u001b[1;32m      9\u001b[0m \u001b[0;34m\u001b[0m\u001b[0m\n\u001b[1;32m     10\u001b[0m \u001b[0manil\u001b[0m \u001b[0;34m=\u001b[0m \u001b[0mECE\u001b[0m\u001b[0;34m(\u001b[0m\u001b[0;34m)\u001b[0m\u001b[0;34m\u001b[0m\u001b[0;34m\u001b[0m\u001b[0m\n",
            "\u001b[0;31mAttributeError\u001b[0m: 'ECE' object has no attribute 'a'"
          ]
        }
      ]
    },
    {
      "cell_type": "code",
      "source": [
        "class CSE:\n",
        "  def __init__(self):\n",
        "    self.a = 100\n",
        "    self.b = 200\n",
        "\n",
        "  def addition(self):\n",
        "    print(self.a + self.b)\n",
        "\n",
        "  def subtraction(self):\n",
        "    print(self.a - self.b)\n",
        "\n",
        "  def common(self):\n",
        "    self.addition()\n",
        "    self.subtraction()\n",
        "\n",
        "anil = CSE()\n",
        "anil.common()"
      ],
      "metadata": {
        "colab": {
          "base_uri": "https://localhost:8080/"
        },
        "id": "TCFjSfDdLUEH",
        "outputId": "a2bcb5a3-62ba-401d-cfd9-f8d41e9fbfd4"
      },
      "execution_count": null,
      "outputs": [
        {
          "output_type": "stream",
          "name": "stdout",
          "text": [
            "300\n",
            "-100\n"
          ]
        }
      ]
    },
    {
      "cell_type": "code",
      "source": [
        "class ECE:\n",
        "  def __init__(self,a,b):\n",
        "    self.a = a\n",
        "    self.b = b\n",
        "\n",
        "  def addition(self):\n",
        "    print(self.a + self.b)\n",
        "\n",
        "\n",
        "anil = ECE(10,20)\n",
        "anil.addition()\n"
      ],
      "metadata": {
        "id": "jUD0ZzL8M1vg",
        "colab": {
          "base_uri": "https://localhost:8080/"
        },
        "outputId": "6e1c5fb7-9e5b-4809-9ac6-db5223081153"
      },
      "execution_count": null,
      "outputs": [
        {
          "output_type": "stream",
          "name": "stdout",
          "text": [
            "30\n"
          ]
        }
      ]
    },
    {
      "cell_type": "code",
      "source": [
        "class ECE:\n",
        "  f = 10\n",
        "  g = 20\n",
        "\n",
        "  def addition(self):\n",
        "    print(self.f + self.g)\n",
        "\n",
        "\n",
        "anil = ECE()\n",
        "anil.addition()\n"
      ],
      "metadata": {
        "colab": {
          "base_uri": "https://localhost:8080/"
        },
        "id": "B3Q9UdNhXaUK",
        "outputId": "f38b35f0-1112-4a92-b1fb-6fef2fec311a"
      },
      "execution_count": null,
      "outputs": [
        {
          "output_type": "stream",
          "name": "stdout",
          "text": [
            "30\n"
          ]
        }
      ]
    },
    {
      "cell_type": "code",
      "source": [
        "class Addition:\n",
        "    first = 0\n",
        "    second = 0\n",
        "    answer = 0\n",
        "\n",
        "    def __init__(self, f, s):\n",
        "        self.first = f\n",
        "        self.second = s\n",
        "\n",
        "    def display(self):\n",
        "        print(\"First number = \" + str(self.first))\n",
        "        print(\"Second number = \" + str(self.second))\n",
        "        print(\"Addition of two numbers = \" + str(self.answer))\n",
        "\n",
        "    def calculate(self):\n",
        "        self.answer = self.first + self.second\n",
        "\n",
        "obj1 = Addition(1000, 2000)\n",
        "\n",
        "# perform Addition on obj1\n",
        "obj1.calculate()\n",
        "\n",
        "obj1.display()"
      ],
      "metadata": {
        "colab": {
          "base_uri": "https://localhost:8080/"
        },
        "id": "Ovw8cbLGXj0e",
        "outputId": "1b043a10-fe00-4e15-e1e2-780970a1ab9b"
      },
      "execution_count": null,
      "outputs": [
        {
          "output_type": "stream",
          "name": "stdout",
          "text": [
            "First number = 1000\n",
            "Second number = 2000\n",
            "Addition of two numbers = 3000\n"
          ]
        }
      ]
    },
    {
      "cell_type": "markdown",
      "source": [
        "**Inheritance**"
      ],
      "metadata": {
        "id": "oUGiBd9iZeFw"
      }
    },
    {
      "cell_type": "code",
      "source": [
        "# single Inheritance\n",
        "\n",
        "class ANKUR:\n",
        "  def database(self):\n",
        "    print('It is executing ')\n",
        "\n",
        "\n",
        "class KAMAL(ANKUR):\n",
        "  def developing(self):\n",
        "    print('I am working on development ')\n",
        "\n",
        "\n",
        "\n",
        "anil = ANKUR()\n",
        "anil.database()\n",
        "\n"
      ],
      "metadata": {
        "colab": {
          "base_uri": "https://localhost:8080/"
        },
        "id": "nGLF5pmkZOvZ",
        "outputId": "395acb86-3c32-4a2b-f59c-1069bd21cc61"
      },
      "execution_count": null,
      "outputs": [
        {
          "output_type": "stream",
          "name": "stdout",
          "text": [
            "It is executing \n"
          ]
        }
      ]
    },
    {
      "cell_type": "code",
      "source": [
        "\n",
        "class ANKUR:\n",
        "  def database(self):\n",
        "    print('It is executing ')\n",
        "\n",
        "\n",
        "class KAMAL(ANKUR):\n",
        "  def developing(self):\n",
        "    print('I am working on development ')\n",
        "\n",
        "\n",
        "kumar = KAMAL()\n",
        "kumar.developing()\n",
        "kumar.database()\n"
      ],
      "metadata": {
        "colab": {
          "base_uri": "https://localhost:8080/"
        },
        "id": "CZkLNh7ObT0L",
        "outputId": "06391d3c-f527-41cd-fcf6-b6ebaf3ec43d"
      },
      "execution_count": null,
      "outputs": [
        {
          "output_type": "stream",
          "name": "stdout",
          "text": [
            "I am working on development \n",
            "It is executing \n"
          ]
        }
      ]
    },
    {
      "cell_type": "code",
      "source": [
        "# Multilevel Inheritance\n",
        "\n",
        "\n",
        "class GRANDFATHER:\n",
        "  def database(self):\n",
        "    print('It is executing ')\n",
        "\n",
        "\n",
        "class FATHER(GRANDFATHER):\n",
        "  def developing(self):\n",
        "    print('I am working on development ')\n",
        "\n",
        "\n",
        "class SON(FATHER):\n",
        "  def building(self):\n",
        "    print('I have own Building ')\n",
        "\n",
        "\n",
        "anil = GRANDFATHER()\n",
        "anil.database()"
      ],
      "metadata": {
        "colab": {
          "base_uri": "https://localhost:8080/"
        },
        "id": "OikmwBpWbyRE",
        "outputId": "45bf7380-f3bf-4ab1-9ebc-553e537ef7d8"
      },
      "execution_count": null,
      "outputs": [
        {
          "output_type": "stream",
          "name": "stdout",
          "text": [
            "It is executing \n"
          ]
        }
      ]
    },
    {
      "cell_type": "code",
      "source": [
        "# Multilevel Inheritance\n",
        "\n",
        "\n",
        "class GRANDFATHER:\n",
        "  def database(self):\n",
        "    print('It is executing ')\n",
        "\n",
        "\n",
        "class FATHER(GRANDFATHER):\n",
        "  def developing(self):\n",
        "    print('I am working on development ')\n",
        "\n",
        "\n",
        "class SON(FATHER):\n",
        "  def building(self):\n",
        "    print('I have own Building ')\n",
        "\n",
        "\n",
        "kumar = FATHER()\n",
        "kumar.developing()\n",
        "kumar.database()"
      ],
      "metadata": {
        "colab": {
          "base_uri": "https://localhost:8080/"
        },
        "id": "zlLENmbkc0CB",
        "outputId": "02e32537-a085-4441-f71b-c1291c2faa79"
      },
      "execution_count": null,
      "outputs": [
        {
          "output_type": "stream",
          "name": "stdout",
          "text": [
            "I am working on development \n",
            "It is executing \n"
          ]
        }
      ]
    },
    {
      "cell_type": "code",
      "source": [
        "# Multilevel Inheritance\n",
        "\n",
        "\n",
        "class GRANDFATHER:\n",
        "  def database(self):\n",
        "    print('It is executing ')\n",
        "\n",
        "\n",
        "class FATHER(GRANDFATHER):\n",
        "  def developing(self):\n",
        "    print('I am working on development ')\n",
        "\n",
        "\n",
        "class SON(FATHER):\n",
        "  def building(self):\n",
        "    print('I have own Building ')\n",
        "\n",
        "s = SON()\n",
        "s.building()\n",
        "s.developing()\n",
        "s.database()"
      ],
      "metadata": {
        "colab": {
          "base_uri": "https://localhost:8080/"
        },
        "id": "s_eTRLp3dByK",
        "outputId": "a0675b52-c9c1-40ac-fe58-0dfd7540bfac"
      },
      "execution_count": null,
      "outputs": [
        {
          "output_type": "stream",
          "name": "stdout",
          "text": [
            "I have own Building \n",
            "I am working on development \n",
            "It is executing \n"
          ]
        }
      ]
    },
    {
      "cell_type": "code",
      "source": [
        "class MOTHER():\n",
        "  def developing(self):\n",
        "    print('I am working on development ')\n",
        "\n",
        "L = MOTHER()\n",
        "L.developing()"
      ],
      "metadata": {
        "colab": {
          "base_uri": "https://localhost:8080/"
        },
        "id": "qV81-nyodjSc",
        "outputId": "329b5789-a131-4d7c-cb14-3115f4ebb8db"
      },
      "execution_count": null,
      "outputs": [
        {
          "output_type": "stream",
          "name": "stdout",
          "text": [
            "I am working on development \n"
          ]
        }
      ]
    },
    {
      "cell_type": "code",
      "source": [
        "# multiple\n",
        "\n",
        "# Multilevel Inheritance\n",
        "\n",
        "\n",
        "class FATHER:\n",
        "  def database(self):\n",
        "    print('It is executing ')\n",
        "\n",
        "\n",
        "class MOTHER:\n",
        "  def developing(self):\n",
        "    print('I am working on development ')\n",
        "\n",
        "\n",
        "class SON(FATHER,MOTHER):\n",
        "  def building(self):\n",
        "    print('I have own Building ')\n",
        "\n",
        "s = SON()\n",
        "s.building()\n",
        "s.developing()\n",
        "s.database()"
      ],
      "metadata": {
        "colab": {
          "base_uri": "https://localhost:8080/"
        },
        "id": "UyCogAYxdKM4",
        "outputId": "8bcebdeb-cc94-496d-c6f6-c992de3bbc64"
      },
      "execution_count": null,
      "outputs": [
        {
          "output_type": "stream",
          "name": "stdout",
          "text": [
            "I have own Building \n",
            "I am working on development \n",
            "It is executing \n"
          ]
        }
      ]
    },
    {
      "cell_type": "code",
      "source": [
        "# HIERARICAL INHERITANCE\n",
        "\n",
        "\n",
        "class FATHER:\n",
        "  def database(self):\n",
        "    print('It is executing ')\n",
        "\n",
        "\n",
        "class B1(FATHER):\n",
        "  def developing(self):\n",
        "    print('I am working on development ')\n",
        "\n",
        "\n",
        "class B2(FATHER):\n",
        "  def building(self):\n",
        "    print('I have own Building ')\n",
        "\n",
        "\n",
        "class B3(FATHER):\n",
        "  def job(self):\n",
        "    print('I have a JOb ')\n",
        "\n",
        "\n",
        "G = B3()\n",
        "G.job()\n",
        "G.database()"
      ],
      "metadata": {
        "colab": {
          "base_uri": "https://localhost:8080/"
        },
        "id": "-VAaNk9He3SX",
        "outputId": "1a1e7e33-6229-4c0a-8ef6-f87a2c6dec3f"
      },
      "execution_count": null,
      "outputs": [
        {
          "output_type": "stream",
          "name": "stdout",
          "text": [
            "I have a JOb \n",
            "It is executing \n"
          ]
        }
      ]
    },
    {
      "cell_type": "code",
      "source": [
        "# hybrid\n",
        "\n",
        "\n",
        "class G_FATHER:\n",
        "  def database(self):\n",
        "    print('It is executing ')\n",
        "\n",
        "\n",
        "class FATHER(G_FATHER):\n",
        "  def developing(self):\n",
        "    print('I am working on development ')\n",
        "\n",
        "\n",
        "class MOTHER(G_FATHER):\n",
        "  def building(self):\n",
        "    print('I have own Building ')\n",
        "\n",
        "\n",
        "class SON(FATHER,MOTHER):\n",
        "  def job(self):\n",
        "    print('I have a JOb ')\n",
        "\n",
        "\n",
        "g = G_FATHER()\n",
        "g.database()\n"
      ],
      "metadata": {
        "colab": {
          "base_uri": "https://localhost:8080/"
        },
        "id": "sHesUmiufizV",
        "outputId": "5c0dbbae-6917-471f-d8fc-08e4afe909e4"
      },
      "execution_count": null,
      "outputs": [
        {
          "output_type": "stream",
          "name": "stdout",
          "text": [
            "It is executing \n"
          ]
        }
      ]
    },
    {
      "cell_type": "code",
      "source": [
        "# hybrid\n",
        "\n",
        "\n",
        "class G_FATHER:\n",
        "  def database(self):\n",
        "    print('It is executing ')\n",
        "\n",
        "\n",
        "class FATHER(G_FATHER):\n",
        "  def developing(self):\n",
        "    print('I am working on development ')\n",
        "\n",
        "\n",
        "class MOTHER(G_FATHER):\n",
        "  def building(self):\n",
        "    print('I have own Building ')\n",
        "\n",
        "\n",
        "class SON(FATHER,MOTHER):\n",
        "  def job(self):\n",
        "    print('I have a JOb ')\n",
        "\n",
        "\n",
        "f = SON()\n",
        "f.job()\n",
        "f.building()\n",
        "f.developing()\n",
        "f.database()"
      ],
      "metadata": {
        "colab": {
          "base_uri": "https://localhost:8080/"
        },
        "id": "qNvLkEXFgGzV",
        "outputId": "73ceadf2-3919-4f4b-947d-382457bddea6"
      },
      "execution_count": null,
      "outputs": [
        {
          "output_type": "stream",
          "name": "stdout",
          "text": [
            "I have a JOb \n",
            "I have own Building \n",
            "I am working on development \n",
            "It is executing \n"
          ]
        }
      ]
    },
    {
      "cell_type": "markdown",
      "source": [
        "**polymorphisam**\n",
        "\n",
        "`Basically it is a greek word where poly -> Many | Morphisam means -> forms`\n",
        "\n",
        "this concept is having 2 internal types\n",
        "\n",
        "- `Method Overloading `\n",
        "- `Method Overriding `\n",
        "\n",
        "Here Method means function"
      ],
      "metadata": {
        "id": "B4izU1HTX2Vh"
      }
    },
    {
      "cell_type": "code",
      "source": [
        "# Method Over riding -> will be possible only with one parent class and one child class\n",
        "\n",
        "\n",
        "def fun():\n",
        "  print('good morning ')\n",
        "\n",
        "\n",
        "def fun():\n",
        "  print('good evening')\n",
        "\n",
        "\n",
        "\n",
        "\n",
        "fun() # call the function"
      ],
      "metadata": {
        "id": "I5Se_nFQgT59",
        "colab": {
          "base_uri": "https://localhost:8080/"
        },
        "outputId": "52fb2275-7168-431d-e00f-7c60a2a1f219"
      },
      "execution_count": null,
      "outputs": [
        {
          "output_type": "stream",
          "name": "stdout",
          "text": [
            "good evening\n"
          ]
        }
      ]
    },
    {
      "cell_type": "code",
      "source": [
        "class MANAGER:\n",
        "  def database(self):\n",
        "    a = 10\n",
        "    print(a+100)\n",
        "\n",
        "\n",
        "sai = MANAGER()\n",
        "sai.database()"
      ],
      "metadata": {
        "colab": {
          "base_uri": "https://localhost:8080/"
        },
        "id": "P35rqDPuZnqI",
        "outputId": "1036eb4b-1bc3-46a9-bc3c-78e382352cf6"
      },
      "execution_count": null,
      "outputs": [
        {
          "output_type": "stream",
          "name": "stdout",
          "text": [
            "110\n"
          ]
        }
      ]
    },
    {
      "cell_type": "code",
      "source": [
        "class MANAGER:\n",
        "  def database(self):\n",
        "    a = 10\n",
        "    print(a+100)\n",
        "\n",
        "\n",
        "class KAMAL(MANAGER):\n",
        "  def database(self):\n",
        "    a = 20\n",
        "    print(a - 100)\n",
        "\n",
        "\n",
        "obj = KAMAL()\n",
        "obj.database()"
      ],
      "metadata": {
        "colab": {
          "base_uri": "https://localhost:8080/"
        },
        "id": "P47iqhqab6o4",
        "outputId": "6fb9f599-40aa-47b6-fbce-4b10ada4286b"
      },
      "execution_count": null,
      "outputs": [
        {
          "output_type": "stream",
          "name": "stdout",
          "text": [
            "-80\n"
          ]
        }
      ]
    },
    {
      "cell_type": "code",
      "source": [
        "# Method OverLoading\n",
        "\n",
        "def fun(a = None , b = None):\n",
        "  if a == None and b == None:\n",
        "    print('I am from USA')\n",
        "  elif a!=None and b == None:\n",
        "    print('I am from canada ')\n",
        "  elif a == None and b!= None:\n",
        "    print('I am from UK')\n",
        "  elif a!= None and b!=None:\n",
        "    print('I am from paris ')\n",
        "\n",
        "\n",
        "fun(1,10)"
      ],
      "metadata": {
        "colab": {
          "base_uri": "https://localhost:8080/"
        },
        "id": "317CX_0sczuX",
        "outputId": "6c2b097b-fe0b-4033-8921-29c25df487bb"
      },
      "execution_count": null,
      "outputs": [
        {
          "output_type": "stream",
          "name": "stdout",
          "text": [
            "I am from paris \n"
          ]
        }
      ]
    },
    {
      "cell_type": "markdown",
      "source": [
        "**Abstraction**"
      ],
      "metadata": {
        "id": "cNUCrK-XfNu5"
      }
    },
    {
      "cell_type": "code",
      "source": [
        "class WHATSAPP:\n",
        "  def chat(self):\n",
        "    print('Everyone can chat')\n",
        "  def calling(self):\n",
        "    print('For calling ')\n",
        "  def status(self):\n",
        "    pass\n",
        "\n",
        "\n",
        "class SANDEEP(WHATSAPP):\n",
        "  def status(self):\n",
        "    print('logics ')"
      ],
      "metadata": {
        "id": "DsB41v7peJOQ"
      },
      "execution_count": null,
      "outputs": []
    },
    {
      "cell_type": "code",
      "source": [
        "from abc import ABC,abstractmethod\n",
        "\n",
        "class WHATSAPP(ABC):\n",
        "  @abstractmethod\n",
        "  def status(self):\n",
        "    pass\n",
        "\n",
        "  @abstractmethod\n",
        "  def marker(self):\n",
        "    pass\n",
        "\n"
      ],
      "metadata": {
        "id": "zP2DWesqgRpA"
      },
      "execution_count": null,
      "outputs": []
    },
    {
      "cell_type": "code",
      "source": [
        "# Encapsulation\n",
        "# public | private | protected"
      ],
      "metadata": {
        "id": "HUa4cPVjhF0p"
      },
      "execution_count": null,
      "outputs": []
    }
  ]
}