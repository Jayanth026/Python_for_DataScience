{
  "nbformat": 4,
  "nbformat_minor": 0,
  "metadata": {
    "colab": {
      "provenance": []
    },
    "kernelspec": {
      "name": "python3",
      "display_name": "Python 3"
    },
    "language_info": {
      "name": "python"
    }
  },
  "cells": [
    {
      "cell_type": "markdown",
      "source": [
        "**concepts**\n",
        "\n",
        "- `Memory Allocation `\n",
        "- `Indexing `\n",
        "- `slicing `\n",
        "- `skipping `\n",
        "- `mutable or immutable -> prove it `\n",
        "- `Built_in_functions in strings `"
      ],
      "metadata": {
        "id": "WK3Oku5tgVF2"
      }
    },
    {
      "cell_type": "code",
      "execution_count": null,
      "metadata": {
        "colab": {
          "base_uri": "https://localhost:8080/"
        },
        "id": "n7dk5AX1gSzW",
        "outputId": "bf72317d-0775-4bd1-f29c-d7f2c6bebd1b"
      },
      "outputs": [
        {
          "output_type": "stream",
          "name": "stdout",
          "text": [
            "data\n"
          ]
        }
      ],
      "source": [
        "a = 'data' # save in the Memory\n",
        "\n",
        "print(a) # calling from the Memory"
      ]
    },
    {
      "cell_type": "code",
      "source": [
        "a = 'data' # saves in the memory\n",
        "\n",
        "print(a[2])"
      ],
      "metadata": {
        "colab": {
          "base_uri": "https://localhost:8080/"
        },
        "id": "MMcktJGThM3U",
        "outputId": "cdbd4681-0a94-4d44-ee9f-718b6d30a6e7"
      },
      "execution_count": null,
      "outputs": [
        {
          "output_type": "stream",
          "name": "stdout",
          "text": [
            "t\n"
          ]
        }
      ]
    },
    {
      "cell_type": "code",
      "source": [
        "# index with both the directions\n",
        "\n",
        "a = 'data science' # save in the Memory\n",
        "print(a[6]) # forward Index\n"
      ],
      "metadata": {
        "colab": {
          "base_uri": "https://localhost:8080/"
        },
        "id": "Y-dcg07figW4",
        "outputId": "83df2010-f5cb-464d-ed66-7b47c2378f8f"
      },
      "execution_count": null,
      "outputs": [
        {
          "output_type": "stream",
          "name": "stdout",
          "text": [
            "c\n"
          ]
        }
      ]
    },
    {
      "cell_type": "code",
      "source": [
        "print(a[-6]) # back ward index"
      ],
      "metadata": {
        "colab": {
          "base_uri": "https://localhost:8080/"
        },
        "id": "RTnThb89jjQp",
        "outputId": "e5c39511-b159-46a3-b54c-f5d005b7375f"
      },
      "execution_count": null,
      "outputs": [
        {
          "output_type": "stream",
          "name": "stdout",
          "text": [
            "c\n"
          ]
        }
      ]
    },
    {
      "cell_type": "markdown",
      "source": [
        "- `slicing`\n",
        "\n",
        "syntax -> s_p : e_p\n"
      ],
      "metadata": {
        "id": "0lSmz7DWkDIN"
      }
    },
    {
      "cell_type": "code",
      "source": [
        "print(a[6])\n",
        "print(a[9])"
      ],
      "metadata": {
        "colab": {
          "base_uri": "https://localhost:8080/"
        },
        "id": "j5uxtKcZjzvT",
        "outputId": "dbf30484-64ca-4d80-b4b3-e93f9ef9fd84"
      },
      "execution_count": null,
      "outputs": [
        {
          "output_type": "stream",
          "name": "stdout",
          "text": [
            "c\n",
            "n\n"
          ]
        }
      ]
    },
    {
      "cell_type": "code",
      "source": [
        "a = 'data science'\n",
        "\n",
        "print(a[2:6])"
      ],
      "metadata": {
        "colab": {
          "base_uri": "https://localhost:8080/"
        },
        "id": "ulThLwWDkVVF",
        "outputId": "83afd74d-baea-4de3-bde9-d21995573ca2"
      },
      "execution_count": null,
      "outputs": [
        {
          "output_type": "stream",
          "name": "stdout",
          "text": [
            "ta s\n"
          ]
        }
      ]
    },
    {
      "cell_type": "code",
      "source": [
        "print(a[2:9])"
      ],
      "metadata": {
        "colab": {
          "base_uri": "https://localhost:8080/"
        },
        "id": "LA5zyGDIlKKz",
        "outputId": "a4279f7f-2627-4563-dae3-c25ed5194895"
      },
      "execution_count": null,
      "outputs": [
        {
          "output_type": "stream",
          "name": "stdout",
          "text": [
            "ta scie\n"
          ]
        }
      ]
    },
    {
      "cell_type": "markdown",
      "source": [
        "- `skipping `"
      ],
      "metadata": {
        "id": "yuCnriaTl0AX"
      }
    },
    {
      "cell_type": "code",
      "source": [
        "a = 'data science' # save in the Memory\n",
        "\n",
        "print(a[::2])"
      ],
      "metadata": {
        "colab": {
          "base_uri": "https://localhost:8080/"
        },
        "id": "e5tA7tTOllkD",
        "outputId": "41089826-bf00-4683-b416-01f559bf41a6"
      },
      "execution_count": null,
      "outputs": [
        {
          "output_type": "stream",
          "name": "stdout",
          "text": [
            "dt cec\n"
          ]
        }
      ]
    },
    {
      "cell_type": "code",
      "source": [
        "a = 'data science' # save in the Memory\n",
        "\n",
        "print(a[::3])"
      ],
      "metadata": {
        "colab": {
          "base_uri": "https://localhost:8080/"
        },
        "id": "fwOVEUK-mWCi",
        "outputId": "11c256ef-7fb7-48cf-dfe8-3f66291a7c82"
      },
      "execution_count": null,
      "outputs": [
        {
          "output_type": "stream",
          "name": "stdout",
          "text": [
            "dacn\n"
          ]
        }
      ]
    },
    {
      "cell_type": "markdown",
      "source": [
        "**what is Mutable and Immutable**\n",
        "\n",
        "- `Mutable -> if user can increase or decrease memory `\n",
        "- `Immutable -> user cant increase or decrease memory`"
      ],
      "metadata": {
        "id": "d6ka5lxQx-Hp"
      }
    },
    {
      "cell_type": "code",
      "source": [
        "# trying to add\n",
        "\n",
        "a  = 'kiran' # save in the memory\n",
        "\n",
        "a[5] = 'j' # trying to allocate extra memory here\n",
        "\n",
        "\n",
        "print(a)"
      ],
      "metadata": {
        "id": "bm86_z_pmoI0",
        "colab": {
          "base_uri": "https://localhost:8080/",
          "height": 233
        },
        "outputId": "5ce3cf91-abfd-4fb9-c34a-9d512ad281d5"
      },
      "execution_count": null,
      "outputs": [
        {
          "output_type": "error",
          "ename": "TypeError",
          "evalue": "'str' object does not support item assignment",
          "traceback": [
            "\u001b[0;31m---------------------------------------------------------------------------\u001b[0m",
            "\u001b[0;31mTypeError\u001b[0m                                 Traceback (most recent call last)",
            "\u001b[0;32m<ipython-input-1-71c00fe8cee7>\u001b[0m in \u001b[0;36m<cell line: 5>\u001b[0;34m()\u001b[0m\n\u001b[1;32m      3\u001b[0m \u001b[0ma\u001b[0m  \u001b[0;34m=\u001b[0m \u001b[0;34m'kiran'\u001b[0m \u001b[0;31m# save in the memory\u001b[0m\u001b[0;34m\u001b[0m\u001b[0;34m\u001b[0m\u001b[0m\n\u001b[1;32m      4\u001b[0m \u001b[0;34m\u001b[0m\u001b[0m\n\u001b[0;32m----> 5\u001b[0;31m \u001b[0ma\u001b[0m\u001b[0;34m[\u001b[0m\u001b[0;36m5\u001b[0m\u001b[0;34m]\u001b[0m \u001b[0;34m=\u001b[0m \u001b[0;34m'j'\u001b[0m \u001b[0;31m# trying to allocate extra memory here\u001b[0m\u001b[0;34m\u001b[0m\u001b[0;34m\u001b[0m\u001b[0m\n\u001b[0m\u001b[1;32m      6\u001b[0m \u001b[0;34m\u001b[0m\u001b[0m\n\u001b[1;32m      7\u001b[0m \u001b[0;34m\u001b[0m\u001b[0m\n",
            "\u001b[0;31mTypeError\u001b[0m: 'str' object does not support item assignment"
          ]
        }
      ]
    },
    {
      "cell_type": "code",
      "source": [
        "# delete some memory from the existing memory\n",
        "\n",
        "a = 'kiran' # save in the Memory\n",
        "\n",
        "del a[2] # tring to delete character r here\n",
        "\n",
        "print(a)"
      ],
      "metadata": {
        "colab": {
          "base_uri": "https://localhost:8080/",
          "height": 233
        },
        "id": "p4D2zcN1zXGS",
        "outputId": "b8e5171c-4a27-4f73-f7ec-ada2ce00e1f0"
      },
      "execution_count": null,
      "outputs": [
        {
          "output_type": "error",
          "ename": "TypeError",
          "evalue": "'str' object doesn't support item deletion",
          "traceback": [
            "\u001b[0;31m---------------------------------------------------------------------------\u001b[0m",
            "\u001b[0;31mTypeError\u001b[0m                                 Traceback (most recent call last)",
            "\u001b[0;32m<ipython-input-2-13a9018cc437>\u001b[0m in \u001b[0;36m<cell line: 5>\u001b[0;34m()\u001b[0m\n\u001b[1;32m      3\u001b[0m \u001b[0ma\u001b[0m \u001b[0;34m=\u001b[0m \u001b[0;34m'kiran'\u001b[0m \u001b[0;31m# save in the Memory\u001b[0m\u001b[0;34m\u001b[0m\u001b[0;34m\u001b[0m\u001b[0m\n\u001b[1;32m      4\u001b[0m \u001b[0;34m\u001b[0m\u001b[0m\n\u001b[0;32m----> 5\u001b[0;31m \u001b[0;32mdel\u001b[0m \u001b[0ma\u001b[0m\u001b[0;34m[\u001b[0m\u001b[0;36m2\u001b[0m\u001b[0;34m]\u001b[0m \u001b[0;31m# tring to delete character r here\u001b[0m\u001b[0;34m\u001b[0m\u001b[0;34m\u001b[0m\u001b[0m\n\u001b[0m\u001b[1;32m      6\u001b[0m \u001b[0;34m\u001b[0m\u001b[0m\n\u001b[1;32m      7\u001b[0m \u001b[0mprint\u001b[0m\u001b[0;34m(\u001b[0m\u001b[0ma\u001b[0m\u001b[0;34m)\u001b[0m\u001b[0;34m\u001b[0m\u001b[0;34m\u001b[0m\u001b[0m\n",
            "\u001b[0;31mTypeError\u001b[0m: 'str' object doesn't support item deletion"
          ]
        }
      ]
    },
    {
      "cell_type": "code",
      "source": [
        "# from the above outcomes we can say that string in immutable\n"
      ],
      "metadata": {
        "id": "QkMv_ZX3z-xo"
      },
      "execution_count": null,
      "outputs": []
    },
    {
      "cell_type": "code",
      "source": [
        "a = 'kiran it'\n",
        "\n",
        "print(len(a))"
      ],
      "metadata": {
        "colab": {
          "base_uri": "https://localhost:8080/"
        },
        "id": "EEG_WRTj1RZC",
        "outputId": "336790dd-1058-4f85-fbe1-dfaccd11a783"
      },
      "execution_count": null,
      "outputs": [
        {
          "output_type": "stream",
          "name": "stdout",
          "text": [
            "8\n"
          ]
        }
      ]
    },
    {
      "cell_type": "code",
      "source": [
        "print(len(dir(str)))"
      ],
      "metadata": {
        "colab": {
          "base_uri": "https://localhost:8080/"
        },
        "id": "ebp4ds4F0IT0",
        "outputId": "f60fc06b-5c49-4134-8dbb-7dc7c78d3ec0"
      },
      "execution_count": null,
      "outputs": [
        {
          "output_type": "stream",
          "name": "stdout",
          "text": [
            "80\n"
          ]
        }
      ]
    },
    {
      "cell_type": "markdown",
      "source": [
        "**String-Built-in-functions**"
      ],
      "metadata": {
        "id": "rBpY8rM82K-2"
      }
    },
    {
      "cell_type": "code",
      "source": [
        "# capitalize -> it will capital the starting letter\n",
        "\n",
        "\n",
        "a = 'sai kiRan' # saved in memory\n",
        "\n",
        "\n",
        "a = a.capitalize() # function is applying\n",
        "\n",
        "print(a)\n"
      ],
      "metadata": {
        "colab": {
          "base_uri": "https://localhost:8080/"
        },
        "id": "Mc9FjKHN1KMf",
        "outputId": "6946d0a2-304c-4003-d904-50ac7edb9519"
      },
      "execution_count": null,
      "outputs": [
        {
          "output_type": "stream",
          "name": "stdout",
          "text": [
            "Sai kiran\n"
          ]
        }
      ]
    },
    {
      "cell_type": "code",
      "source": [
        "# title -> it will capital each word starting letter into capital\n",
        "\n",
        "a = 'pyThon iS easy lanGuage'\n",
        "\n",
        "a = a.title()\n",
        "\n",
        "print(a)"
      ],
      "metadata": {
        "colab": {
          "base_uri": "https://localhost:8080/"
        },
        "id": "B7dI-rEN3bl-",
        "outputId": "de4f8e73-842d-4028-f0cb-202c14094857"
      },
      "execution_count": null,
      "outputs": [
        {
          "output_type": "stream",
          "name": "stdout",
          "text": [
            "Python Is Easy Language\n"
          ]
        }
      ]
    },
    {
      "cell_type": "code",
      "source": [
        "# lower -> small lettets\n",
        "\n",
        "a = 'AmeriCA'\n",
        "\n",
        "print(a.lower())"
      ],
      "metadata": {
        "colab": {
          "base_uri": "https://localhost:8080/"
        },
        "id": "IHsTUvuA47Qx",
        "outputId": "bf5541cc-28db-471a-9897-85098f3021d9"
      },
      "execution_count": null,
      "outputs": [
        {
          "output_type": "stream",
          "name": "stdout",
          "text": [
            "america\n"
          ]
        }
      ]
    },
    {
      "cell_type": "code",
      "source": [
        "# upper -> capital letters\n",
        "\n",
        "a = 'AmeriCA'\n",
        "\n",
        "print(a.upper())"
      ],
      "metadata": {
        "colab": {
          "base_uri": "https://localhost:8080/"
        },
        "id": "1R4i480U5iwj",
        "outputId": "ea2e906d-80e4-4edd-feb2-6d5efa30722c"
      },
      "execution_count": null,
      "outputs": [
        {
          "output_type": "stream",
          "name": "stdout",
          "text": [
            "AMERICA\n"
          ]
        }
      ]
    },
    {
      "cell_type": "code",
      "source": [
        "# islower\n",
        "\n",
        "a = 'america'\n",
        "print(a.islower())"
      ],
      "metadata": {
        "colab": {
          "base_uri": "https://localhost:8080/"
        },
        "id": "tLiJLFr356Eo",
        "outputId": "5eb9ede5-4afe-47d7-af9b-12a5fa205400"
      },
      "execution_count": null,
      "outputs": [
        {
          "output_type": "stream",
          "name": "stdout",
          "text": [
            "True\n"
          ]
        }
      ]
    },
    {
      "cell_type": "code",
      "source": [
        "# isupper\n",
        "\n",
        "a = 'AMERICAA'\n",
        "\n",
        "print(a.isupper())"
      ],
      "metadata": {
        "colab": {
          "base_uri": "https://localhost:8080/"
        },
        "id": "96K8sP7A6ogB",
        "outputId": "a22da28a-3cd4-491f-9c8e-2a5830931366"
      },
      "execution_count": null,
      "outputs": [
        {
          "output_type": "stream",
          "name": "stdout",
          "text": [
            "True\n"
          ]
        }
      ]
    },
    {
      "cell_type": "code",
      "source": [
        "# isalpha -> checks all are alphabets or not\n",
        "\n",
        "a = 'america is'\n",
        "\n",
        "print(a.isalpha())"
      ],
      "metadata": {
        "colab": {
          "base_uri": "https://localhost:8080/"
        },
        "id": "KQxh43LH62mS",
        "outputId": "058b5303-ef8d-41ae-9b28-ae1c3c898fbe"
      },
      "execution_count": null,
      "outputs": [
        {
          "output_type": "stream",
          "name": "stdout",
          "text": [
            "False\n"
          ]
        }
      ]
    },
    {
      "cell_type": "code",
      "source": [
        "# isnumeric -> only numbers\n",
        "\n",
        "a = '1322'\n",
        "print(a.isnumeric())"
      ],
      "metadata": {
        "colab": {
          "base_uri": "https://localhost:8080/"
        },
        "id": "FuIEif-h7NXg",
        "outputId": "896750a0-2b47-4414-8561-35085c69b5d1"
      },
      "execution_count": null,
      "outputs": [
        {
          "output_type": "stream",
          "name": "stdout",
          "text": [
            "True\n"
          ]
        }
      ]
    },
    {
      "cell_type": "code",
      "source": [
        "# isalnum -> we can have anything\n",
        "\n",
        "a = '1234 '\n",
        "\n",
        "print(a.isalnum())"
      ],
      "metadata": {
        "colab": {
          "base_uri": "https://localhost:8080/"
        },
        "id": "i5bqtQWm7jCF",
        "outputId": "12a52358-86db-4142-a671-639550717dfd"
      },
      "execution_count": null,
      "outputs": [
        {
          "output_type": "stream",
          "name": "stdout",
          "text": [
            "False\n"
          ]
        }
      ]
    },
    {
      "cell_type": "code",
      "source": [
        "# startswith\n",
        "\n",
        "a = 'deep learning'\n",
        "\n",
        "print(a.startswith('d'))"
      ],
      "metadata": {
        "colab": {
          "base_uri": "https://localhost:8080/"
        },
        "id": "g69h8CJv72ZA",
        "outputId": "85968201-e004-440c-dc38-e22c83216e9f"
      },
      "execution_count": null,
      "outputs": [
        {
          "output_type": "stream",
          "name": "stdout",
          "text": [
            "True\n"
          ]
        }
      ]
    },
    {
      "cell_type": "code",
      "source": [
        "# endswith\n",
        "\n",
        "a = 'deep learning'\n",
        "\n",
        "print(a.endswith('g'))"
      ],
      "metadata": {
        "colab": {
          "base_uri": "https://localhost:8080/"
        },
        "id": "YkUci3u58ZV5",
        "outputId": "f5a9a248-7891-4396-d62d-cd9558742e7c"
      },
      "execution_count": null,
      "outputs": [
        {
          "output_type": "stream",
          "name": "stdout",
          "text": [
            "True\n"
          ]
        }
      ]
    },
    {
      "cell_type": "code",
      "source": [
        "# replace\n",
        "\n",
        "a = 'kiran' # saves in the Memory\n",
        "\n",
        "print(a.replace('r','j'))"
      ],
      "metadata": {
        "colab": {
          "base_uri": "https://localhost:8080/"
        },
        "id": "X5aLlW_Z8qP5",
        "outputId": "ca7b9de4-63ee-4acf-c76b-d6dc6f917a52"
      },
      "execution_count": null,
      "outputs": [
        {
          "output_type": "stream",
          "name": "stdout",
          "text": [
            "kijan\n"
          ]
        }
      ]
    },
    {
      "cell_type": "code",
      "source": [
        "# count -> is used to count the number of times a given repeating\n",
        "\n",
        "a = 'data science'\n",
        "\n",
        "print(a.count('i'))"
      ],
      "metadata": {
        "colab": {
          "base_uri": "https://localhost:8080/"
        },
        "id": "sujPzxyn9hQg",
        "outputId": "80548c20-854b-4eeb-d93e-a21de4d83ab2"
      },
      "execution_count": null,
      "outputs": [
        {
          "output_type": "stream",
          "name": "stdout",
          "text": [
            "1\n"
          ]
        }
      ]
    },
    {
      "cell_type": "code",
      "source": [
        "# index -> used to find the index of a given character\n",
        "\n",
        "a = 'data science'\n",
        "\n",
        "print(a.index('a',2,8))"
      ],
      "metadata": {
        "colab": {
          "base_uri": "https://localhost:8080/"
        },
        "id": "_-PDXJlK9_xk",
        "outputId": "50ecff6b-6d21-43e0-c14a-7cbd1b1c23d1"
      },
      "execution_count": null,
      "outputs": [
        {
          "output_type": "stream",
          "name": "stdout",
          "text": [
            "3\n"
          ]
        }
      ]
    },
    {
      "cell_type": "code",
      "source": [
        "len('kiran')"
      ],
      "metadata": {
        "colab": {
          "base_uri": "https://localhost:8080/"
        },
        "id": "y9BrW1HB-a_h",
        "outputId": "52bde0e0-bea0-43ac-c483-641a52a304bf"
      },
      "execution_count": null,
      "outputs": [
        {
          "output_type": "execute_result",
          "data": {
            "text/plain": [
              "5"
            ]
          },
          "metadata": {},
          "execution_count": 38
        }
      ]
    },
    {
      "cell_type": "code",
      "source": [
        "# string and substring\n",
        "\n",
        "a = 'python is very powerfull than go laguage in india'\n",
        "\n",
        "print('n i' in a)"
      ],
      "metadata": {
        "colab": {
          "base_uri": "https://localhost:8080/"
        },
        "id": "XiuyNurV_ZGW",
        "outputId": "1f154291-da3b-4567-dfcb-9706180929ef"
      },
      "execution_count": null,
      "outputs": [
        {
          "output_type": "stream",
          "name": "stdout",
          "text": [
            "True\n"
          ]
        }
      ]
    },
    {
      "cell_type": "code",
      "source": [
        "97 * 98"
      ],
      "metadata": {
        "colab": {
          "base_uri": "https://localhost:8080/"
        },
        "id": "A2TJ0pOoAtsD",
        "outputId": "12b5c951-e601-48a3-b08c-a82f980df8c3"
      },
      "execution_count": null,
      "outputs": [
        {
          "output_type": "execute_result",
          "data": {
            "text/plain": [
              "9506"
            ]
          },
          "metadata": {},
          "execution_count": 44
        }
      ]
    },
    {
      "cell_type": "code",
      "source": [
        "67*68"
      ],
      "metadata": {
        "colab": {
          "base_uri": "https://localhost:8080/"
        },
        "id": "C4Z0wftFA2xj",
        "outputId": "8311fc84-6948-4601-d42a-5bab6a0801f1"
      },
      "execution_count": null,
      "outputs": [
        {
          "output_type": "execute_result",
          "data": {
            "text/plain": [
              "4556"
            ]
          },
          "metadata": {},
          "execution_count": 45
        }
      ]
    },
    {
      "cell_type": "code",
      "source": [
        "# operators in strings\n",
        "\n",
        "python = 'ab'\n",
        "Java = 'CD'\n",
        "\n",
        "print(python > Java)"
      ],
      "metadata": {
        "colab": {
          "base_uri": "https://localhost:8080/"
        },
        "id": "Gok6PQg5_wz2",
        "outputId": "e4172087-bf31-42fe-d2d4-cfc63080be16"
      },
      "execution_count": null,
      "outputs": [
        {
          "output_type": "stream",
          "name": "stdout",
          "text": [
            "True\n"
          ]
        }
      ]
    },
    {
      "cell_type": "code",
      "source": [
        "# I want to find ascii value of a given character\n",
        "\n",
        "ord('F')"
      ],
      "metadata": {
        "colab": {
          "base_uri": "https://localhost:8080/"
        },
        "id": "3guo1A_GANkY",
        "outputId": "d8b50f7d-ea59-4f9a-81f0-338783da59f9"
      },
      "execution_count": null,
      "outputs": [
        {
          "output_type": "execute_result",
          "data": {
            "text/plain": [
              "70"
            ]
          },
          "metadata": {},
          "execution_count": 49
        }
      ]
    },
    {
      "cell_type": "code",
      "source": [
        "# I want to find character from a given ascii value\n",
        "\n",
        "chr(70)"
      ],
      "metadata": {
        "colab": {
          "base_uri": "https://localhost:8080/",
          "height": 55
        },
        "id": "e7C1m8r9BVbM",
        "outputId": "7c4dd4c2-edb1-49e1-ab42-39f39e7b0815"
      },
      "execution_count": null,
      "outputs": [
        {
          "output_type": "execute_result",
          "data": {
            "text/plain": [
              "'F'"
            ],
            "application/vnd.google.colaboratory.intrinsic+json": {
              "type": "string"
            }
          },
          "metadata": {},
          "execution_count": 50
        }
      ]
    },
    {
      "cell_type": "code",
      "source": [
        "chr(100)"
      ],
      "metadata": {
        "colab": {
          "base_uri": "https://localhost:8080/",
          "height": 55
        },
        "id": "s9hSdLXLBjzY",
        "outputId": "00ab1229-ffd8-4c31-c016-b76a09ad408d"
      },
      "execution_count": null,
      "outputs": [
        {
          "output_type": "execute_result",
          "data": {
            "text/plain": [
              "'d'"
            ],
            "application/vnd.google.colaboratory.intrinsic+json": {
              "type": "string"
            }
          },
          "metadata": {},
          "execution_count": 51
        }
      ]
    },
    {
      "cell_type": "code",
      "source": [
        "ord('z')"
      ],
      "metadata": {
        "colab": {
          "base_uri": "https://localhost:8080/"
        },
        "id": "ogx-1YqiBlb1",
        "outputId": "6c7a7326-0f07-4e6e-9f07-410432445d2d"
      },
      "execution_count": null,
      "outputs": [
        {
          "output_type": "execute_result",
          "data": {
            "text/plain": [
              "122"
            ]
          },
          "metadata": {},
          "execution_count": 52
        }
      ]
    },
    {
      "cell_type": "code",
      "source": [],
      "metadata": {
        "id": "N7QqbyhvBp79"
      },
      "execution_count": null,
      "outputs": []
    }
  ]
}