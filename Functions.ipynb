{
  "nbformat": 4,
  "nbformat_minor": 0,
  "metadata": {
    "colab": {
      "provenance": []
    },
    "kernelspec": {
      "name": "python3",
      "display_name": "Python 3"
    },
    "language_info": {
      "name": "python"
    }
  },
  "cells": [
    {
      "cell_type": "markdown",
      "source": [
        "`function is used for reusability -> writing the logic one time and using them many times .......`\n",
        "\n",
        "`There are 2 types in the Functions `\n",
        "\n",
        "- `1. Non_Parameter Functions `\n",
        "- `2. Parameter Functions `\n",
        "\n",
        "\n",
        "function syntax\n",
        "\n",
        "\n",
        "def <[function_name]>():\n",
        "     \n",
        "       - Logic here"
      ],
      "metadata": {
        "id": "2W3mDIfB5doI"
      }
    },
    {
      "cell_type": "code",
      "execution_count": null,
      "metadata": {
        "colab": {
          "base_uri": "https://localhost:8080/"
        },
        "id": "UQ2xmnkX45-_",
        "outputId": "bb1949ca-e7c0-4b17-d319-6d3bc109c188"
      },
      "outputs": [
        {
          "output_type": "stream",
          "name": "stdout",
          "text": [
            "300\n"
          ]
        }
      ],
      "source": [
        "a = 100\n",
        "b = 200\n",
        "\n",
        "print(a + b)"
      ]
    },
    {
      "cell_type": "code",
      "source": [
        "a = 1\n",
        "b = 2\n",
        "print(a+b)"
      ],
      "metadata": {
        "colab": {
          "base_uri": "https://localhost:8080/"
        },
        "id": "-gQvisCE6Y5M",
        "outputId": "260796c6-799f-401a-d376-f7ce71fb5ab7"
      },
      "execution_count": null,
      "outputs": [
        {
          "output_type": "stream",
          "name": "stdout",
          "text": [
            "3\n"
          ]
        }
      ]
    },
    {
      "cell_type": "code",
      "source": [
        "a = 10\n",
        "b = 20\n",
        "print(a+b)"
      ],
      "metadata": {
        "colab": {
          "base_uri": "https://localhost:8080/"
        },
        "id": "cOU904C56b6F",
        "outputId": "6d7151f5-4e7b-4fc9-9f68-f1fff9ce980c"
      },
      "execution_count": null,
      "outputs": [
        {
          "output_type": "stream",
          "name": "stdout",
          "text": [
            "30\n"
          ]
        }
      ]
    },
    {
      "cell_type": "markdown",
      "source": [
        "**Non_parameter Function**"
      ],
      "metadata": {
        "id": "mxKklTYJ9JWo"
      }
    },
    {
      "cell_type": "code",
      "source": [
        "def sharuk():\n",
        "  print('good morning')\n",
        "\n",
        "\n",
        "sharuk() # calling the Function"
      ],
      "metadata": {
        "colab": {
          "base_uri": "https://localhost:8080/"
        },
        "id": "_Xb49Ewc6i86",
        "outputId": "59d5ed13-86b2-41d9-fbf2-bdb86502f26e"
      },
      "execution_count": null,
      "outputs": [
        {
          "output_type": "stream",
          "name": "stdout",
          "text": [
            "good morning\n"
          ]
        }
      ]
    },
    {
      "cell_type": "code",
      "source": [
        "sharuk()"
      ],
      "metadata": {
        "colab": {
          "base_uri": "https://localhost:8080/"
        },
        "id": "IzJO3Gkg8fW7",
        "outputId": "95920e2b-a4d9-4192-eeae-75356e92a365"
      },
      "execution_count": null,
      "outputs": [
        {
          "output_type": "stream",
          "name": "stdout",
          "text": [
            "good morning\n"
          ]
        }
      ]
    },
    {
      "cell_type": "markdown",
      "source": [
        "**Parameter Functions**"
      ],
      "metadata": {
        "id": "Fx794NAl9Qhw"
      }
    },
    {
      "cell_type": "code",
      "source": [
        "def kiran(a,b):\n",
        "  print(a+b)\n",
        "\n",
        "\n",
        "\n",
        "kiran(10,20) # calling the function"
      ],
      "metadata": {
        "colab": {
          "base_uri": "https://localhost:8080/"
        },
        "id": "77YocS8u8jQw",
        "outputId": "43e9f4fd-2b1d-4515-c6b0-df565840be6f"
      },
      "execution_count": null,
      "outputs": [
        {
          "output_type": "stream",
          "name": "stdout",
          "text": [
            "30\n"
          ]
        }
      ]
    },
    {
      "cell_type": "code",
      "source": [
        "kiran(1,2)"
      ],
      "metadata": {
        "colab": {
          "base_uri": "https://localhost:8080/"
        },
        "id": "1CVlAm2B-OQE",
        "outputId": "f1ac850c-ca07-4bde-97e3-62cb3e4d3fe6"
      },
      "execution_count": null,
      "outputs": [
        {
          "output_type": "stream",
          "name": "stdout",
          "text": [
            "3\n"
          ]
        }
      ]
    },
    {
      "cell_type": "code",
      "source": [
        "kiran(100,200)"
      ],
      "metadata": {
        "colab": {
          "base_uri": "https://localhost:8080/"
        },
        "id": "9TR_sHQL_LJk",
        "outputId": "5fd6afdd-2552-40b8-defa-87665521fed5"
      },
      "execution_count": null,
      "outputs": [
        {
          "output_type": "stream",
          "name": "stdout",
          "text": [
            "300\n"
          ]
        }
      ]
    },
    {
      "cell_type": "code",
      "source": [
        "for j in range(11,21):\n",
        "  if j % 2 == 0:\n",
        "    print(f'Even : {j}')"
      ],
      "metadata": {
        "colab": {
          "base_uri": "https://localhost:8080/"
        },
        "id": "2KtGjb3p_OR9",
        "outputId": "5c49ffec-c1fd-4203-f2df-8e98d894881f"
      },
      "execution_count": null,
      "outputs": [
        {
          "output_type": "stream",
          "name": "stdout",
          "text": [
            "Even : 12\n",
            "Even : 14\n",
            "Even : 16\n",
            "Even : 18\n",
            "Even : 20\n"
          ]
        }
      ]
    },
    {
      "cell_type": "code",
      "source": [
        "for j in range(51,61):\n",
        "  if j % 2 == 0:\n",
        "    print(f'Even : {j}')"
      ],
      "metadata": {
        "colab": {
          "base_uri": "https://localhost:8080/"
        },
        "id": "7Y2RMw1K_iAE",
        "outputId": "6a1357d3-55f2-4311-f32f-2964061aa80e"
      },
      "execution_count": null,
      "outputs": [
        {
          "output_type": "stream",
          "name": "stdout",
          "text": [
            "Even : 52\n",
            "Even : 54\n",
            "Even : 56\n",
            "Even : 58\n",
            "Even : 60\n"
          ]
        }
      ]
    },
    {
      "cell_type": "code",
      "source": [
        "def fun(a,b):\n",
        "  for j in range(a,b):\n",
        "    if j % 2 == 0:\n",
        "      print(f'Even : {j}')\n",
        "\n",
        "\n",
        "fun(11,21) # calling the function"
      ],
      "metadata": {
        "colab": {
          "base_uri": "https://localhost:8080/"
        },
        "id": "D3qcAY0-_mjN",
        "outputId": "d38b12ab-f619-47bc-b3a6-4e20534756be"
      },
      "execution_count": null,
      "outputs": [
        {
          "output_type": "stream",
          "name": "stdout",
          "text": [
            "Even : 12\n",
            "Even : 14\n",
            "Even : 16\n",
            "Even : 18\n",
            "Even : 20\n"
          ]
        }
      ]
    },
    {
      "cell_type": "code",
      "source": [
        "fun(51,61)"
      ],
      "metadata": {
        "colab": {
          "base_uri": "https://localhost:8080/"
        },
        "id": "3cLE0JegAfv0",
        "outputId": "e244fa56-6668-462d-b715-54c8601e64e6"
      },
      "execution_count": null,
      "outputs": [
        {
          "output_type": "stream",
          "name": "stdout",
          "text": [
            "Even : 52\n",
            "Even : 54\n",
            "Even : 56\n",
            "Even : 58\n",
            "Even : 60\n"
          ]
        }
      ]
    },
    {
      "cell_type": "code",
      "source": [
        "fun(100,150)"
      ],
      "metadata": {
        "colab": {
          "base_uri": "https://localhost:8080/"
        },
        "id": "fGU94HvNAogN",
        "outputId": "ee781cbf-fbc7-4194-ff05-707358e14d82"
      },
      "execution_count": null,
      "outputs": [
        {
          "output_type": "stream",
          "name": "stdout",
          "text": [
            "Even : 100\n",
            "Even : 102\n",
            "Even : 104\n",
            "Even : 106\n",
            "Even : 108\n",
            "Even : 110\n",
            "Even : 112\n",
            "Even : 114\n",
            "Even : 116\n",
            "Even : 118\n",
            "Even : 120\n",
            "Even : 122\n",
            "Even : 124\n",
            "Even : 126\n",
            "Even : 128\n",
            "Even : 130\n",
            "Even : 132\n",
            "Even : 134\n",
            "Even : 136\n",
            "Even : 138\n",
            "Even : 140\n",
            "Even : 142\n",
            "Even : 144\n",
            "Even : 146\n",
            "Even : 148\n"
          ]
        }
      ]
    },
    {
      "cell_type": "code",
      "source": [
        "def fun(a,b = 20):\n",
        "  print(a+b)\n",
        "\n",
        "\n",
        "fun(10,80) # calling"
      ],
      "metadata": {
        "colab": {
          "base_uri": "https://localhost:8080/"
        },
        "id": "n_j82LQDAvDK",
        "outputId": "63d7407e-1cc6-4768-a12c-1bb8cb114a49"
      },
      "execution_count": null,
      "outputs": [
        {
          "output_type": "stream",
          "name": "stdout",
          "text": [
            "90\n"
          ]
        }
      ]
    },
    {
      "cell_type": "code",
      "source": [
        "a = 'python1223'\n",
        "\n",
        "for i in a:\n",
        "  if i.isnumeric():\n",
        "    print(i)"
      ],
      "metadata": {
        "colab": {
          "base_uri": "https://localhost:8080/"
        },
        "id": "59JiEAX-BQs4",
        "outputId": "40b7e5f7-5aba-4512-b111-ee55fc8da320"
      },
      "execution_count": null,
      "outputs": [
        {
          "output_type": "stream",
          "name": "stdout",
          "text": [
            "1\n",
            "2\n",
            "2\n",
            "3\n"
          ]
        }
      ]
    },
    {
      "cell_type": "code",
      "source": [
        "def kumar(a):\n",
        "  for i in a:\n",
        "    if i.isnumeric():\n",
        "      print(i)\n",
        "\n",
        "\n",
        "\n",
        "\n",
        "kumar('kamal12') # calling"
      ],
      "metadata": {
        "colab": {
          "base_uri": "https://localhost:8080/"
        },
        "id": "BMlmNa1PB_E6",
        "outputId": "5180afc0-0cef-4231-f360-0dea9d2559e1"
      },
      "execution_count": null,
      "outputs": [
        {
          "output_type": "stream",
          "name": "stdout",
          "text": [
            "1\n",
            "2\n"
          ]
        }
      ]
    },
    {
      "cell_type": "code",
      "source": [
        "kumar('sharuk670')"
      ],
      "metadata": {
        "colab": {
          "base_uri": "https://localhost:8080/"
        },
        "id": "A3FeImsLC0UZ",
        "outputId": "12a0e9fe-b6fb-40c8-ca10-186034445e8f"
      },
      "execution_count": null,
      "outputs": [
        {
          "output_type": "stream",
          "name": "stdout",
          "text": [
            "6\n",
            "7\n",
            "0\n"
          ]
        }
      ]
    },
    {
      "cell_type": "code",
      "source": [
        "n = 5\n",
        "for i in range(1,11):\n",
        "  print(n,'*',i,'=',n*i)"
      ],
      "metadata": {
        "colab": {
          "base_uri": "https://localhost:8080/"
        },
        "id": "9mYjl_elC9N6",
        "outputId": "750e9097-fcf9-497d-b2bc-bff895d4772b"
      },
      "execution_count": null,
      "outputs": [
        {
          "output_type": "stream",
          "name": "stdout",
          "text": [
            "5 * 1 = 5\n",
            "5 * 2 = 10\n",
            "5 * 3 = 15\n",
            "5 * 4 = 20\n",
            "5 * 5 = 25\n",
            "5 * 6 = 30\n",
            "5 * 7 = 35\n",
            "5 * 8 = 40\n",
            "5 * 9 = 45\n",
            "5 * 10 = 50\n"
          ]
        }
      ]
    },
    {
      "cell_type": "code",
      "source": [
        "def fun(a):\n",
        "  for i in range(1,11):\n",
        "    print(a,'*',i,'=',a*i)\n",
        "\n",
        "fun(2) # calling"
      ],
      "metadata": {
        "colab": {
          "base_uri": "https://localhost:8080/"
        },
        "id": "GUbXs_PwDle6",
        "outputId": "100985a8-609a-41cd-e52e-e2bf6e0e56f8"
      },
      "execution_count": null,
      "outputs": [
        {
          "output_type": "stream",
          "name": "stdout",
          "text": [
            "2 * 1 = 2\n",
            "2 * 2 = 4\n",
            "2 * 3 = 6\n",
            "2 * 4 = 8\n",
            "2 * 5 = 10\n",
            "2 * 6 = 12\n",
            "2 * 7 = 14\n",
            "2 * 8 = 16\n",
            "2 * 9 = 18\n",
            "2 * 10 = 20\n"
          ]
        }
      ]
    },
    {
      "cell_type": "code",
      "source": [
        "fun(5)"
      ],
      "metadata": {
        "colab": {
          "base_uri": "https://localhost:8080/"
        },
        "id": "0JgaghjOEZox",
        "outputId": "15865c1e-a049-468d-dc85-304d10529650"
      },
      "execution_count": null,
      "outputs": [
        {
          "output_type": "stream",
          "name": "stdout",
          "text": [
            "5 * 1 = 5\n",
            "5 * 2 = 10\n",
            "5 * 3 = 15\n",
            "5 * 4 = 20\n",
            "5 * 5 = 25\n",
            "5 * 6 = 30\n",
            "5 * 7 = 35\n",
            "5 * 8 = 40\n",
            "5 * 9 = 45\n",
            "5 * 10 = 50\n"
          ]
        }
      ]
    },
    {
      "cell_type": "code",
      "source": [
        "fun(10)"
      ],
      "metadata": {
        "colab": {
          "base_uri": "https://localhost:8080/"
        },
        "id": "wb6ht8TWEbQy",
        "outputId": "b46f016e-796d-48f6-94d7-0b3b2ab52720"
      },
      "execution_count": null,
      "outputs": [
        {
          "output_type": "stream",
          "name": "stdout",
          "text": [
            "10 * 1 = 10\n",
            "10 * 2 = 20\n",
            "10 * 3 = 30\n",
            "10 * 4 = 40\n",
            "10 * 5 = 50\n",
            "10 * 6 = 60\n",
            "10 * 7 = 70\n",
            "10 * 8 = 80\n",
            "10 * 9 = 90\n",
            "10 * 10 = 100\n"
          ]
        }
      ]
    },
    {
      "cell_type": "markdown",
      "source": [
        "**difference Between global varibales and local varibales**"
      ],
      "metadata": {
        "id": "K84i6oBbEryr"
      }
    },
    {
      "cell_type": "code",
      "source": [
        "k = 60 # global variable\n",
        "\n",
        "def fun():\n",
        "  print(f'I am using inside the function : {k}')\n",
        "\n",
        "\n",
        "\n",
        "fun() # calling the function\n",
        "\n",
        "\n",
        "print(f'I am using outside the function : {k}')"
      ],
      "metadata": {
        "colab": {
          "base_uri": "https://localhost:8080/"
        },
        "id": "yQVcOIOEEcSP",
        "outputId": "507f66c2-740c-4e53-e3c4-b6ff72848d66"
      },
      "execution_count": null,
      "outputs": [
        {
          "output_type": "stream",
          "name": "stdout",
          "text": [
            "I am using inside the function : 60\n",
            "I am using outside the function : 60\n"
          ]
        }
      ]
    },
    {
      "cell_type": "code",
      "source": [
        "def fun():\n",
        "  p = 100 # local varibale\n",
        "  print(f'I am using inside the function : {p}')\n",
        "\n",
        "\n",
        "\n",
        "fun() # calling the function\n",
        "\n",
        "\n",
        "print(f'I am using outside the function : {p}') # we cant use local variable outside the function"
      ],
      "metadata": {
        "colab": {
          "base_uri": "https://localhost:8080/",
          "height": 200
        },
        "id": "xmklJvmaFZFp",
        "outputId": "8616f8a0-02f5-44c1-ed92-29afe61adba0"
      },
      "execution_count": 1,
      "outputs": [
        {
          "output_type": "stream",
          "name": "stdout",
          "text": [
            "I am using inside the function : 100\n"
          ]
        },
        {
          "output_type": "error",
          "ename": "NameError",
          "evalue": "name 'p' is not defined",
          "traceback": [
            "\u001b[0;31m---------------------------------------------------------------------------\u001b[0m",
            "\u001b[0;31mNameError\u001b[0m                                 Traceback (most recent call last)",
            "\u001b[0;32m<ipython-input-1-875bade84458>\u001b[0m in \u001b[0;36m<cell line: 10>\u001b[0;34m()\u001b[0m\n\u001b[1;32m      8\u001b[0m \u001b[0;34m\u001b[0m\u001b[0m\n\u001b[1;32m      9\u001b[0m \u001b[0;34m\u001b[0m\u001b[0m\n\u001b[0;32m---> 10\u001b[0;31m \u001b[0mprint\u001b[0m\u001b[0;34m(\u001b[0m\u001b[0;34mf'I am using outside the function : {p}'\u001b[0m\u001b[0;34m)\u001b[0m \u001b[0;31m# we cant use local variable outside the function\u001b[0m\u001b[0;34m\u001b[0m\u001b[0;34m\u001b[0m\u001b[0m\n\u001b[0m",
            "\u001b[0;31mNameError\u001b[0m: name 'p' is not defined"
          ]
        }
      ]
    },
    {
      "cell_type": "code",
      "source": [
        "def fun():\n",
        "  global p\n",
        "  p = 100 # not local varibale -> its a global\n",
        "  print(f'I am using inside the function : {p}')\n",
        "\n",
        "\n",
        "\n",
        "fun() # calling the function\n",
        "\n",
        "\n",
        "print(f'I am using outside the function : {p}')"
      ],
      "metadata": {
        "colab": {
          "base_uri": "https://localhost:8080/"
        },
        "id": "0e243MMNFws3",
        "outputId": "916b3725-9671-4697-f662-39574b887a66"
      },
      "execution_count": null,
      "outputs": [
        {
          "output_type": "stream",
          "name": "stdout",
          "text": [
            "I am using inside the function : 100\n",
            "I am using outside the function : 100\n"
          ]
        }
      ]
    },
    {
      "cell_type": "code",
      "source": [
        "def fun(a,b):\n",
        "  c = []\n",
        "  for i in range(a,b):\n",
        "    if i % 2 == 0:\n",
        "      c.append(i)\n",
        "  return c # return gives the value but its not going to print without assigning a variable to the calling function\n",
        "\n",
        "\n",
        "sol = fun(11,21) # calling\n",
        "print(sol)"
      ],
      "metadata": {
        "colab": {
          "base_uri": "https://localhost:8080/"
        },
        "id": "T3dekET_GOzd",
        "outputId": "ea240c40-2eff-4ef6-8694-7e6734cff79e"
      },
      "execution_count": 2,
      "outputs": [
        {
          "output_type": "stream",
          "name": "stdout",
          "text": [
            "[12, 14, 16, 18, 20]\n"
          ]
        }
      ]
    },
    {
      "cell_type": "code",
      "source": [
        "def add(a,b):\n",
        "    num3 = a + b\n",
        "\n",
        "    return num3\n",
        "\n",
        "num1, num2 = 5, 15\n",
        "ans = add(num1, num2)\n",
        "print(ans)"
      ],
      "metadata": {
        "colab": {
          "base_uri": "https://localhost:8080/"
        },
        "id": "1IC9BMumGxBu",
        "outputId": "8fab6444-ce77-4712-d907-3bd3b3f93272"
      },
      "execution_count": null,
      "outputs": [
        {
          "output_type": "stream",
          "name": "stdout",
          "text": [
            "20\n"
          ]
        }
      ]
    },
    {
      "cell_type": "code",
      "source": [],
      "metadata": {
        "id": "l2vUQs4nIr0o"
      },
      "execution_count": null,
      "outputs": []
    }
  ]
}